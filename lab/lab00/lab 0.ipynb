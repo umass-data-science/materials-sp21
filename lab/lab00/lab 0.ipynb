{
 "cells": [
  {
   "cell_type": "markdown",
   "metadata": {},
   "source": [
    "# Lab 0\n",
    "\n",
    "Welcome to STAT 190F! Coding is a critical skill to have in Data Science and we'll be teaching you the essentials of Python, a very popular language in the Data Science community. Although we will go over information regarding content, grading, and expectations during our first lecture meeting on Tuesday, we would like to take today's lab session to get some logistics out of the way.\n",
    "\n",
    "In this class, we will be using Notebooks, like the one that you're in now, to complete assignments. We will be completing both Labs and Homeworks in this environment. To enhance your learning experience we have implemented a system which automatically grades your coding assignments. You'll be able to see whether you are correct or not, and will be able to make check as many times as you need - no penalty! \n",
    "\n",
    "Below I'll answer a few toy questions just so can see what the work flow is like."
   ]
  },
  {
   "cell_type": "code",
   "execution_count": 1,
   "metadata": {},
   "outputs": [],
   "source": [
    "# just ignore this chunk of code for now\n",
    "import pandas as pd\n",
    "import numpy as np\n",
    "%matplotlib inline\n"
   ]
  },
  {
   "cell_type": "markdown",
   "metadata": {
    "deletable": false,
    "editable": false
   },
   "source": [
    "**Question 1:** You'll see questions asked like this. There will be some bold-faced text labeling the question, with some text directly after it. Here is the question: Write a function `square` that returns the square of its argument.\n",
    "\n",
    "<!--\n",
    "BEGIN QUESTION\n",
    "name: q1\n",
    "-->"
   ]
  },
  {
   "cell_type": "code",
   "execution_count": 9,
   "metadata": {},
   "outputs": [],
   "source": [
    "def square(x):\n",
    "    ..."
   ]
  },
  {
   "cell_type": "markdown",
   "metadata": {
    "deletable": false,
    "editable": false
   },
   "source": [
    "**Question 2:** Assign a value of 1 to `this`.\n",
    "\n",
    "<!--\n",
    "BEGIN QUESTION\n",
    "name: q2\n",
    "-->"
   ]
  },
  {
   "cell_type": "code",
   "execution_count": 13,
   "metadata": {},
   "outputs": [],
   "source": [
    "this = ..."
   ]
  },
  {
   "cell_type": "markdown",
   "metadata": {
    "deletable": false,
    "editable": false
   },
   "source": [
    "<!-- BEGIN QUESTION -->\n",
    "\n",
    "**Question 3:** Tell me what your favorite flavor of ice cream is.\n",
    "\n",
    "<!--\n",
    "BEGIN QUESTION\n",
    "name: q3\n",
    "manual: true\n",
    "-->"
   ]
  },
  {
   "cell_type": "markdown",
   "metadata": {},
   "source": [
    "_Type your answer here, replacing this text._"
   ]
  },
  {
   "cell_type": "markdown",
   "metadata": {},
   "source": [
    "## Submission\n",
    "\n",
    "Once you're finished, select \"Save and Checkpoint\" in the File menu. This will make sure that your work is saved. You should consider doing this often!!\n",
    "\n",
    "For homeworks, there are **two** places that you will have to submit your work to: Gradescope and Moodle. For labs, you will only have to submit to Moodle.\n",
    "\n",
    "We will submit **pdf files to Moodle**. Click \"File\", \"Download as\", and then \"PDF\". Upload this pdf to the appropriate place on Moodle. We'll go over this more in our first real lab section, but make sure that you've run all of the cells so we can see their outputs - otherwise the pdf doesn't really help us. If you don't know what that means yet, that's fine. We are asking you to submit to Moodle in case we ever have issues with Gradescope.\n",
    "\n",
    "We will submit **.ipynb files to Gradescope**. That's a \"Notebook\" file. You can get this by clicking \"File\", \"Download as\", and then \"Notebook\". We want to upload this file to [Gradescope](https://www.gradescope.com/courses/222028). If you have not been added to the roster yet, let me know! We'll add you."
   ]
  }
 ],
 "metadata": {
  "celltoolbar": "Edit Metadata",
  "kernelspec": {
   "display_name": "Python 3",
   "language": "python",
   "name": "python3"
  },
  "language_info": {
   "codemirror_mode": {
    "name": "ipython",
    "version": 3
   },
   "file_extension": ".py",
   "mimetype": "text/x-python",
   "name": "python",
   "nbconvert_exporter": "python",
   "pygments_lexer": "ipython3",
   "version": "3.7.6"
  },
  "varInspector": {
   "cols": {
    "lenName": 16,
    "lenType": 16,
    "lenVar": 40
   },
   "kernels_config": {
    "python": {
     "delete_cmd_postfix": "",
     "delete_cmd_prefix": "del ",
     "library": "var_list.py",
     "varRefreshCmd": "print(var_dic_list())"
    },
    "r": {
     "delete_cmd_postfix": ") ",
     "delete_cmd_prefix": "rm(",
     "library": "var_list.r",
     "varRefreshCmd": "cat(var_dic_list()) "
    }
   },
   "types_to_exclude": [
    "module",
    "function",
    "builtin_function_or_method",
    "instance",
    "_Feature"
   ],
   "window_display": false
  }
 },
 "nbformat": 4,
 "nbformat_minor": 4
}
