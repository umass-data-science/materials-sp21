{
  "nbformat": 4,
  "nbformat_minor": 0,
  "metadata": {
    "kernelspec": {
      "display_name": "Python 3",
      "language": "python",
      "name": "python3"
    },
    "language_info": {
      "codemirror_mode": {
        "name": "ipython",
        "version": 3
      },
      "file_extension": ".py",
      "mimetype": "text/x-python",
      "name": "python",
      "nbconvert_exporter": "python",
      "pygments_lexer": "ipython3",
      "version": "3.8.3"
    },
    "colab": {
      "name": "end_of_semester_lab.ipynb",
      "provenance": []
    }
  },
  "cells": [
    {
      "cell_type": "markdown",
      "metadata": {
        "id": "JsDcsvbzm1mB"
      },
      "source": [
        "# End of semester review lab\n",
        "\n",
        "**Instructions**\n",
        "\n",
        "This lab is designed to be a review of some of the key concepts and coding from the second half of the semester.\n",
        "\n",
        "Your task is to predict the wage in the following data set using all of the available features.  You should do this using two separate models, and compare which model has the lowest RMSE (Root Mean Squared Error).  The two models you should use are linear regression and K-nearest neighbor, with K = 1.  Note that we are using K nearest neighbor in a new way because this is not a classification problem.  The K-nearest neighbor should simply use the nearest neighbor's wage as the prediction wage."
      ]
    },
    {
      "cell_type": "markdown",
      "metadata": {
        "id": "MlbW_I50m1mS"
      },
      "source": [
        "You will need to follow these steps"
      ]
    },
    {
      "cell_type": "markdown",
      "metadata": {
        "id": "HpoASrVTm1mV"
      },
      "source": [
        "## 1. Setup\n",
        "Run the two cells below to load the packages and data.\n",
        "\n",
        "The dataset CPS85 contains data on 534 individuals surveyed in the year 1985.\n",
        "\n",
        "    wage = The hourly wage\n",
        "    educ = years of education\n",
        "    sex = sex (male or female)\n",
        "    exper = years of experience\n",
        "    union = whether or not the person was in a union"
      ]
    },
    {
      "cell_type": "code",
      "metadata": {
        "id": "OPRfxijkm1me"
      },
      "source": [
        "from datascience import *\n",
        "import numpy as np\n",
        "import matplotlib\n",
        "%matplotlib inline"
      ],
      "execution_count": null,
      "outputs": []
    },
    {
      "cell_type": "code",
      "metadata": {
        "id": "HMSyMQ-Ym1mh",
        "outputId": "31e9dfc5-c393-4ebb-d0ac-6fbb8d5e49b7"
      },
      "source": [
        "CPS85 = Table.read_table(\"CPS85_small.csv\")\n",
        "CPS85"
      ],
      "execution_count": null,
      "outputs": [
        {
          "output_type": "execute_result",
          "data": {
            "text/html": [
              "<table border=\"1\" class=\"dataframe\">\n",
              "    <thead>\n",
              "        <tr>\n",
              "            <th>wage</th> <th>educ</th> <th>sex</th> <th>exper</th> <th>union</th>\n",
              "        </tr>\n",
              "    </thead>\n",
              "    <tbody>\n",
              "        <tr>\n",
              "            <td>9   </td> <td>10  </td> <td>M   </td> <td>27   </td> <td>Not  </td>\n",
              "        </tr>\n",
              "        <tr>\n",
              "            <td>5.5 </td> <td>12  </td> <td>M   </td> <td>20   </td> <td>Not  </td>\n",
              "        </tr>\n",
              "        <tr>\n",
              "            <td>3.8 </td> <td>12  </td> <td>F   </td> <td>4    </td> <td>Not  </td>\n",
              "        </tr>\n",
              "        <tr>\n",
              "            <td>10.5</td> <td>12  </td> <td>F   </td> <td>29   </td> <td>Not  </td>\n",
              "        </tr>\n",
              "        <tr>\n",
              "            <td>15  </td> <td>12  </td> <td>M   </td> <td>40   </td> <td>Union</td>\n",
              "        </tr>\n",
              "        <tr>\n",
              "            <td>9   </td> <td>16  </td> <td>F   </td> <td>27   </td> <td>Not  </td>\n",
              "        </tr>\n",
              "        <tr>\n",
              "            <td>9.57</td> <td>12  </td> <td>F   </td> <td>5    </td> <td>Union</td>\n",
              "        </tr>\n",
              "        <tr>\n",
              "            <td>15  </td> <td>14  </td> <td>M   </td> <td>22   </td> <td>Not  </td>\n",
              "        </tr>\n",
              "        <tr>\n",
              "            <td>11  </td> <td>8   </td> <td>M   </td> <td>42   </td> <td>Not  </td>\n",
              "        </tr>\n",
              "        <tr>\n",
              "            <td>5   </td> <td>12  </td> <td>F   </td> <td>14   </td> <td>Not  </td>\n",
              "        </tr>\n",
              "    </tbody>\n",
              "</table>\n",
              "<p>... (524 rows omitted)</p>"
            ],
            "text/plain": [
              "wage | educ | sex  | exper | union\n",
              "9    | 10   | M    | 27    | Not\n",
              "5.5  | 12   | M    | 20    | Not\n",
              "3.8  | 12   | F    | 4     | Not\n",
              "10.5 | 12   | F    | 29    | Not\n",
              "15   | 12   | M    | 40    | Union\n",
              "9    | 16   | F    | 27    | Not\n",
              "9.57 | 12   | F    | 5     | Union\n",
              "15   | 14   | M    | 22    | Not\n",
              "11   | 8    | M    | 42    | Not\n",
              "5    | 12   | F    | 14    | Not\n",
              "... (524 rows omitted)"
            ]
          },
          "metadata": {
            "tags": []
          },
          "execution_count": 19
        }
      ]
    },
    {
      "cell_type": "markdown",
      "metadata": {
        "id": "FJa-ApzXm1mq"
      },
      "source": [
        "**Step 1: Data Preparation**\n",
        "1. You can't fit a model with categorical data the such as sex and union as text.  You will need to convert those columns into numbers.  Fortunately since both are binary variables, you just need to convert M to 1 and F to 0, and Union to 1 and Not to 0.\n",
        "\n",
        "2. Convert each column to standard units\n",
        "\n",
        "3. Save the cleaned data as CPS85_clean\n",
        "\n",
        "4. Create a train/test split with 70% of the data for training and 30% for testing.  Use a random seed of 1234 so that we all get the same results when we do the train test split.  There should be 374 training observations and 160 test observations.  Name the resulting data sets train and test.  \n",
        "\n",
        "\n"
      ]
    },
    {
      "cell_type": "code",
      "metadata": {
        "id": "pWg4xOMgm1mt"
      },
      "source": [
        ""
      ],
      "execution_count": null,
      "outputs": []
    },
    {
      "cell_type": "markdown",
      "metadata": {
        "id": "rtBVZOb1m1mw"
      },
      "source": [
        "# Regression Model "
      ]
    },
    {
      "cell_type": "markdown",
      "metadata": {
        "id": "AU07wstsm1mz"
      },
      "source": [
        "**Step 2: Regression Model** \n",
        "\n",
        "1. Define a function that calculates the root mean squared error of a regression model that predicts the wage using all other features.  Note: You have only done this before with one 'x' variable.  Now there are more than one.  All you have to do is to add a 'slope' for each variable. For example the mathematical equation for the predicted value is:\n",
        "\n",
        "$fitted = slope_1*educ + slope_2*sex + slope_3*exper + slope_4*union + intercept$\n",
        "\n",
        "Once you have the fitted value for each data point, you can use it to calculate the RMSE for the model\n",
        "\n",
        "*Hint* This [example from the textbook](https://umass-data-science.github.io/190fwebsite/textbook/15/3/method-of-least-squares/) should help you.  This was also in the last lab we did.\n",
        "\n",
        "2. Use the minimize function to find the slopes and intercept that minimize the the RMSE.  These slopes and intercepts are your model, and the RMSE that these slopes give you is the *training RMSE of your model*"
      ]
    },
    {
      "cell_type": "markdown",
      "metadata": {
        "id": "wLGYX_Crm1m1"
      },
      "source": [
        "**Step 3: Calculate test set RMSE**\n",
        "\n",
        "1.  Use the slopes and intercept you calculated from your training data to predict the wage of each observation in your test set.\n",
        "\n",
        "2.  Calculate the RMSE of those predictions.  This is the *test set RMSE of your model*."
      ]
    },
    {
      "cell_type": "code",
      "metadata": {
        "id": "IU3uUtJam1m2"
      },
      "source": [
        ""
      ],
      "execution_count": null,
      "outputs": []
    },
    {
      "cell_type": "markdown",
      "metadata": {
        "id": "V2U-tR54m1m5"
      },
      "source": [
        "# K-nearest Neighbor Model"
      ]
    },
    {
      "cell_type": "markdown",
      "metadata": {
        "id": "EEoN3YzCm1m8"
      },
      "source": [
        "Note you should use the same training and test data for this model as you did for the regression.\n",
        "\n",
        "1. Create a function or series of functions that finds the nearest neighbor in the training data of a single row of data.  You will find [this notebook from lecture helpful](http://datahub.cs.umass.edu/hub/user-redirect/git-sync?repo=https://github.com/umass-data-science/materials-sp21&subPath=lec/lec22.ipynb)\n",
        "\n",
        "*hint:* you want the closest() function to work.  You don't need the majority_class or classify functions because this is a regression problem.\n",
        "\n",
        "\n",
        "\n",
        "\n"
      ]
    },
    {
      "cell_type": "code",
      "metadata": {
        "id": "XztNs316m1m8"
      },
      "source": [
        ""
      ],
      "execution_count": null,
      "outputs": []
    },
    {
      "cell_type": "markdown",
      "metadata": {
        "id": "EceAEAQYm1m9"
      },
      "source": [
        "2.  Use you function to find the nearest neighbor (k=1) in the training set of each observation in the test set.  The value of the nearest neighbor's wage in the training set is the prediction of the value of wage for the test observation.\n",
        "\n"
      ]
    },
    {
      "cell_type": "code",
      "metadata": {
        "id": "fWXdQ64km1nB"
      },
      "source": [
        ""
      ],
      "execution_count": null,
      "outputs": []
    },
    {
      "cell_type": "markdown",
      "metadata": {
        "id": "a8X78KOUm1nD"
      },
      "source": [
        "3.  Calculate the RMSE of the predicted wage using your nearest neighbor prediction.  This is the RMSE of your nearest neighbor model"
      ]
    },
    {
      "cell_type": "code",
      "metadata": {
        "id": "VXHYtypim1nE"
      },
      "source": [
        ""
      ],
      "execution_count": null,
      "outputs": []
    },
    {
      "cell_type": "markdown",
      "metadata": {
        "id": "0DLVqfxLm1nE"
      },
      "source": [
        "**Results:** What are the RMSEs of your two models?  Which one has a lower RMSE on the test set?  "
      ]
    },
    {
      "cell_type": "code",
      "metadata": {
        "id": "gVNUQROfm1nF"
      },
      "source": [
        ""
      ],
      "execution_count": null,
      "outputs": []
    }
  ]
}