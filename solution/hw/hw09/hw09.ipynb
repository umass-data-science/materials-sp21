{
 "cells": [
  {
   "cell_type": "markdown",
   "metadata": {},
   "source": [
    "# Homework 9: Linear Regression\n"
   ]
  },
  {
   "cell_type": "markdown",
   "metadata": {},
   "source": [
    "**Reading**: Textbook chapter [15](https://umass-data-science.github.io/190fwebsite/textbook/15/prediction/)."
   ]
  },
  {
   "cell_type": "markdown",
   "metadata": {},
   "source": [
    "Please complete this notebook by filling in the cells provided. Before you begin, execute the following cell to load the provided tests. Each time you start your server, you will need to execute this cell again to load the tests.\n",
    "\n",
    "Homework 9 is due **Monday, 12/5 at 11:59pm**. Start early so that you can come to office hours if you're stuck. Check the website for the office hours schedule. Late work will not be accepted as per the [policies](https://umass-data-science.github.io/190fwebsite/policies/) of this course. \n",
    "\n",
    "Directly sharing answers is not okay, but discussing problems with the course staff or with other students is encouraged. Refer to the policies page to learn more about how to learn cooperatively.\n",
    "\n",
    "For all problems that you must write our explanations and sentences for, you **must** provide your answer in the designated space. Moreover, throughout this homework and all future ones, please be sure to not re-assign variables throughout the notebook! For example, if you use `max_temperature` in your answer to one question, do not reassign it later on."
   ]
  },
  {
   "cell_type": "code",
   "execution_count": 2,
   "metadata": {
    "ExecuteTime": {
     "end_time": "2018-04-04T09:34:44.498842Z",
     "start_time": "2018-04-04T09:34:42.821921Z"
    }
   },
   "outputs": [
    {
     "name": "stdout",
     "output_type": "stream",
     "text": [
      "Requirement already up-to-date: okpy in /Users/tbernard/anaconda3/lib/python3.8/site-packages (1.18.1)\n",
      "Requirement already satisfied, skipping upgrade: pytutor==1.0.0 in /Users/tbernard/anaconda3/lib/python3.8/site-packages (from okpy) (1.0.0)\n",
      "Requirement already satisfied, skipping upgrade: pyaes==1.6.1 in /Users/tbernard/anaconda3/lib/python3.8/site-packages (from okpy) (1.6.1)\n",
      "Requirement already satisfied, skipping upgrade: requests==2.22.0 in /Users/tbernard/anaconda3/lib/python3.8/site-packages (from okpy) (2.22.0)\n",
      "Requirement already satisfied, skipping upgrade: ast-scope==0.3.1 in /Users/tbernard/anaconda3/lib/python3.8/site-packages (from okpy) (0.3.1)\n",
      "Requirement already satisfied, skipping upgrade: filelock==3.0.12 in /Users/tbernard/anaconda3/lib/python3.8/site-packages (from okpy) (3.0.12)\n",
      "Requirement already satisfied, skipping upgrade: chardet==3.0.4 in /Users/tbernard/anaconda3/lib/python3.8/site-packages (from okpy) (3.0.4)\n",
      "Requirement already satisfied, skipping upgrade: display-timedelta==1.1 in /Users/tbernard/anaconda3/lib/python3.8/site-packages (from okpy) (1.1)\n",
      "Requirement already satisfied, skipping upgrade: colorama==0.4.3 in /Users/tbernard/anaconda3/lib/python3.8/site-packages (from okpy) (0.4.3)\n",
      "Requirement already satisfied, skipping upgrade: idna==2.8 in /Users/tbernard/anaconda3/lib/python3.8/site-packages (from okpy) (2.8)\n",
      "Requirement already satisfied, skipping upgrade: attrs==19.3.0 in /Users/tbernard/anaconda3/lib/python3.8/site-packages (from okpy) (19.3.0)\n",
      "Requirement already satisfied, skipping upgrade: urllib3==1.25.7 in /Users/tbernard/anaconda3/lib/python3.8/site-packages (from okpy) (1.25.7)\n",
      "Requirement already satisfied, skipping upgrade: coverage==4.4 in /Users/tbernard/anaconda3/lib/python3.8/site-packages (from okpy) (4.4)\n",
      "Requirement already satisfied, skipping upgrade: certifi==2019.11.28 in /Users/tbernard/anaconda3/lib/python3.8/site-packages (from okpy) (2019.11.28)\n",
      "=====================================================================\n",
      "Assignment: Homework 09: Linear Regression\n",
      "OK, version v1.18.1\n",
      "=====================================================================\n",
      "\n"
     ]
    },
    {
     "ename": "FileNotFoundError",
     "evalue": "[Errno 2] No such file or directory: '/Users/tbernard/.config/ok/auth_refresh'",
     "output_type": "error",
     "traceback": [
      "\u001b[0;31m---------------------------------------------------------------------------\u001b[0m",
      "\u001b[0;31mFileNotFoundError\u001b[0m                         Traceback (most recent call last)",
      "\u001b[0;32m<ipython-input-2-86ef6070387d>\u001b[0m in \u001b[0;36m<module>\u001b[0;34m\u001b[0m\n\u001b[1;32m     15\u001b[0m \u001b[0;32mfrom\u001b[0m \u001b[0mclient\u001b[0m\u001b[0;34m.\u001b[0m\u001b[0mapi\u001b[0m\u001b[0;34m.\u001b[0m\u001b[0mnotebook\u001b[0m \u001b[0;32mimport\u001b[0m \u001b[0mNotebook\u001b[0m\u001b[0;34m\u001b[0m\u001b[0;34m\u001b[0m\u001b[0m\n\u001b[1;32m     16\u001b[0m \u001b[0mok\u001b[0m \u001b[0;34m=\u001b[0m \u001b[0mNotebook\u001b[0m\u001b[0;34m(\u001b[0m\u001b[0;34m'hw09.ok'\u001b[0m\u001b[0;34m)\u001b[0m\u001b[0;34m\u001b[0m\u001b[0;34m\u001b[0m\u001b[0m\n\u001b[0;32m---> 17\u001b[0;31m \u001b[0m_\u001b[0m \u001b[0;34m=\u001b[0m \u001b[0mok\u001b[0m\u001b[0;34m.\u001b[0m\u001b[0mauth\u001b[0m\u001b[0;34m(\u001b[0m\u001b[0minline\u001b[0m\u001b[0;34m=\u001b[0m\u001b[0;32mTrue\u001b[0m\u001b[0;34m)\u001b[0m\u001b[0;34m\u001b[0m\u001b[0;34m\u001b[0m\u001b[0m\n\u001b[0m",
      "\u001b[0;32m~/anaconda3/lib/python3.8/site-packages/client/api/notebook.py\u001b[0m in \u001b[0;36mauth\u001b[0;34m(self, force, inline)\u001b[0m\n\u001b[1;32m     32\u001b[0m         \u001b[0;32mif\u001b[0m \u001b[0;32mnot\u001b[0m \u001b[0mforce\u001b[0m \u001b[0;32mand\u001b[0m \u001b[0mlogin_with_env\u001b[0m\u001b[0;34m(\u001b[0m\u001b[0mself\u001b[0m\u001b[0;34m.\u001b[0m\u001b[0massignment\u001b[0m\u001b[0;34m)\u001b[0m\u001b[0;34m:\u001b[0m\u001b[0;34m\u001b[0m\u001b[0;34m\u001b[0m\u001b[0m\n\u001b[1;32m     33\u001b[0m             \u001b[0;32mreturn\u001b[0m\u001b[0;34m\u001b[0m\u001b[0;34m\u001b[0m\u001b[0m\n\u001b[0;32m---> 34\u001b[0;31m         \u001b[0mself\u001b[0m\u001b[0;34m.\u001b[0m\u001b[0massignment\u001b[0m\u001b[0;34m.\u001b[0m\u001b[0mauthenticate\u001b[0m\u001b[0;34m(\u001b[0m\u001b[0mforce\u001b[0m\u001b[0;34m=\u001b[0m\u001b[0mforce\u001b[0m\u001b[0;34m,\u001b[0m \u001b[0minline\u001b[0m\u001b[0;34m=\u001b[0m\u001b[0minline\u001b[0m\u001b[0;34m)\u001b[0m\u001b[0;34m\u001b[0m\u001b[0;34m\u001b[0m\u001b[0m\n\u001b[0m\u001b[1;32m     35\u001b[0m \u001b[0;34m\u001b[0m\u001b[0m\n\u001b[1;32m     36\u001b[0m     \u001b[0;32mdef\u001b[0m \u001b[0mgrade\u001b[0m\u001b[0;34m(\u001b[0m\u001b[0mself\u001b[0m\u001b[0;34m,\u001b[0m \u001b[0;34m*\u001b[0m\u001b[0margs\u001b[0m\u001b[0;34m,\u001b[0m \u001b[0;34m**\u001b[0m\u001b[0mkwargs\u001b[0m\u001b[0;34m)\u001b[0m\u001b[0;34m:\u001b[0m\u001b[0;34m\u001b[0m\u001b[0;34m\u001b[0m\u001b[0m\n",
      "\u001b[0;32m~/anaconda3/lib/python3.8/site-packages/client/api/assignment.py\u001b[0m in \u001b[0;36mauthenticate\u001b[0;34m(self, force, inline, nointeract)\u001b[0m\n\u001b[1;32m    301\u001b[0m             \u001b[0;32mreturn\u001b[0m \u001b[0mauth\u001b[0m\u001b[0;34m.\u001b[0m\u001b[0mauthenticate\u001b[0m\u001b[0;34m(\u001b[0m\u001b[0mself\u001b[0m\u001b[0;34m.\u001b[0m\u001b[0mcmd_args\u001b[0m\u001b[0;34m,\u001b[0m \u001b[0mendpoint\u001b[0m\u001b[0;34m=\u001b[0m\u001b[0mself\u001b[0m\u001b[0;34m.\u001b[0m\u001b[0mendpoint\u001b[0m\u001b[0;34m,\u001b[0m \u001b[0mforce\u001b[0m\u001b[0;34m=\u001b[0m\u001b[0mforce\u001b[0m\u001b[0;34m,\u001b[0m \u001b[0mnointeract\u001b[0m\u001b[0;34m=\u001b[0m\u001b[0mnointeract\u001b[0m\u001b[0;34m)\u001b[0m\u001b[0;34m\u001b[0m\u001b[0;34m\u001b[0m\u001b[0m\n\u001b[1;32m    302\u001b[0m         \u001b[0;32melse\u001b[0m\u001b[0;34m:\u001b[0m\u001b[0;34m\u001b[0m\u001b[0;34m\u001b[0m\u001b[0m\n\u001b[0;32m--> 303\u001b[0;31m             \u001b[0;32mreturn\u001b[0m \u001b[0mauth\u001b[0m\u001b[0;34m.\u001b[0m\u001b[0mnotebook_authenticate\u001b[0m\u001b[0;34m(\u001b[0m\u001b[0mself\u001b[0m\u001b[0;34m.\u001b[0m\u001b[0mcmd_args\u001b[0m\u001b[0;34m,\u001b[0m \u001b[0mforce\u001b[0m\u001b[0;34m=\u001b[0m\u001b[0mforce\u001b[0m\u001b[0;34m,\u001b[0m \u001b[0mnointeract\u001b[0m\u001b[0;34m=\u001b[0m\u001b[0mnointeract\u001b[0m\u001b[0;34m)\u001b[0m\u001b[0;34m\u001b[0m\u001b[0;34m\u001b[0m\u001b[0m\n\u001b[0m\u001b[1;32m    304\u001b[0m \u001b[0;34m\u001b[0m\u001b[0m\n\u001b[1;32m    305\u001b[0m     \u001b[0;32mdef\u001b[0m \u001b[0mget_student_email\u001b[0m\u001b[0;34m(\u001b[0m\u001b[0mself\u001b[0m\u001b[0;34m)\u001b[0m\u001b[0;34m:\u001b[0m\u001b[0;34m\u001b[0m\u001b[0;34m\u001b[0m\u001b[0m\n",
      "\u001b[0;32m~/anaconda3/lib/python3.8/site-packages/client/utils/auth.py\u001b[0m in \u001b[0;36mnotebook_authenticate\u001b[0;34m(cmd_args, force, silent, nointeract)\u001b[0m\n\u001b[1;32m    221\u001b[0m     \u001b[0;32mif\u001b[0m \u001b[0;32mnot\u001b[0m \u001b[0mforce\u001b[0m\u001b[0;34m:\u001b[0m\u001b[0;34m\u001b[0m\u001b[0;34m\u001b[0m\u001b[0m\n\u001b[1;32m    222\u001b[0m         \u001b[0;32mtry\u001b[0m\u001b[0;34m:\u001b[0m\u001b[0;34m\u001b[0m\u001b[0;34m\u001b[0m\u001b[0m\n\u001b[0;32m--> 223\u001b[0;31m             \u001b[0maccess_token\u001b[0m \u001b[0;34m=\u001b[0m \u001b[0mrefresh_local_token\u001b[0m\u001b[0;34m(\u001b[0m\u001b[0mserver\u001b[0m\u001b[0;34m)\u001b[0m\u001b[0;34m\u001b[0m\u001b[0;34m\u001b[0m\u001b[0m\n\u001b[0m\u001b[1;32m    224\u001b[0m         \u001b[0;32mexcept\u001b[0m \u001b[0mOAuthException\u001b[0m \u001b[0;32mas\u001b[0m \u001b[0me\u001b[0m\u001b[0;34m:\u001b[0m\u001b[0;34m\u001b[0m\u001b[0;34m\u001b[0m\u001b[0m\n\u001b[1;32m    225\u001b[0m             \u001b[0;31m# Account for Invalid Grant Error During make_token_post\u001b[0m\u001b[0;34m\u001b[0m\u001b[0;34m\u001b[0m\u001b[0;34m\u001b[0m\u001b[0m\n",
      "\u001b[0;32m~/anaconda3/lib/python3.8/site-packages/client/utils/auth.py\u001b[0m in \u001b[0;36mrefresh_local_token\u001b[0;34m(server)\u001b[0m\n\u001b[1;32m    155\u001b[0m \u001b[0;32mdef\u001b[0m \u001b[0mrefresh_local_token\u001b[0m\u001b[0;34m(\u001b[0m\u001b[0mserver\u001b[0m\u001b[0;34m)\u001b[0m\u001b[0;34m:\u001b[0m\u001b[0;34m\u001b[0m\u001b[0;34m\u001b[0m\u001b[0m\n\u001b[1;32m    156\u001b[0m     \u001b[0mcur_time\u001b[0m \u001b[0;34m=\u001b[0m \u001b[0mint\u001b[0m\u001b[0;34m(\u001b[0m\u001b[0mtime\u001b[0m\u001b[0;34m.\u001b[0m\u001b[0mtime\u001b[0m\u001b[0;34m(\u001b[0m\u001b[0;34m)\u001b[0m\u001b[0;34m)\u001b[0m\u001b[0;34m\u001b[0m\u001b[0;34m\u001b[0m\u001b[0m\n\u001b[0;32m--> 157\u001b[0;31m     \u001b[0maccess_token\u001b[0m\u001b[0;34m,\u001b[0m \u001b[0mexpires_at\u001b[0m\u001b[0;34m,\u001b[0m \u001b[0mrefresh_token\u001b[0m \u001b[0;34m=\u001b[0m \u001b[0mget_storage\u001b[0m\u001b[0;34m(\u001b[0m\u001b[0;34m)\u001b[0m\u001b[0;34m\u001b[0m\u001b[0;34m\u001b[0m\u001b[0m\n\u001b[0m\u001b[1;32m    158\u001b[0m     \u001b[0;32mif\u001b[0m \u001b[0mcur_time\u001b[0m \u001b[0;34m<\u001b[0m \u001b[0mexpires_at\u001b[0m \u001b[0;34m-\u001b[0m \u001b[0;36m10\u001b[0m\u001b[0;34m:\u001b[0m\u001b[0;34m\u001b[0m\u001b[0;34m\u001b[0m\u001b[0m\n\u001b[1;32m    159\u001b[0m         \u001b[0;32mreturn\u001b[0m \u001b[0maccess_token\u001b[0m\u001b[0;34m\u001b[0m\u001b[0;34m\u001b[0m\u001b[0m\n",
      "\u001b[0;32m~/anaconda3/lib/python3.8/site-packages/client/utils/auth.py\u001b[0m in \u001b[0;36mget_storage\u001b[0;34m()\u001b[0m\n\u001b[1;32m    129\u001b[0m \u001b[0;32mdef\u001b[0m \u001b[0mget_storage\u001b[0m\u001b[0;34m(\u001b[0m\u001b[0;34m)\u001b[0m\u001b[0;34m:\u001b[0m\u001b[0;34m\u001b[0m\u001b[0;34m\u001b[0m\u001b[0m\n\u001b[1;32m    130\u001b[0m     \u001b[0mcreate_config_directory\u001b[0m\u001b[0;34m(\u001b[0m\u001b[0;34m)\u001b[0m\u001b[0;34m\u001b[0m\u001b[0;34m\u001b[0m\u001b[0m\n\u001b[0;32m--> 131\u001b[0;31m     \u001b[0;32mwith\u001b[0m \u001b[0mopen\u001b[0m\u001b[0;34m(\u001b[0m\u001b[0mREFRESH_FILE\u001b[0m\u001b[0;34m,\u001b[0m \u001b[0;34m'rb'\u001b[0m\u001b[0;34m)\u001b[0m \u001b[0;32mas\u001b[0m \u001b[0mfp\u001b[0m\u001b[0;34m:\u001b[0m\u001b[0;34m\u001b[0m\u001b[0;34m\u001b[0m\u001b[0m\n\u001b[0m\u001b[1;32m    132\u001b[0m         \u001b[0mstorage\u001b[0m \u001b[0;34m=\u001b[0m \u001b[0mpickle\u001b[0m\u001b[0;34m.\u001b[0m\u001b[0mload\u001b[0m\u001b[0;34m(\u001b[0m\u001b[0mfp\u001b[0m\u001b[0;34m)\u001b[0m\u001b[0;34m\u001b[0m\u001b[0;34m\u001b[0m\u001b[0m\n\u001b[1;32m    133\u001b[0m \u001b[0;34m\u001b[0m\u001b[0m\n",
      "\u001b[0;31mFileNotFoundError\u001b[0m: [Errno 2] No such file or directory: '/Users/tbernard/.config/ok/auth_refresh'"
     ]
    }
   ],
   "source": [
    "# Don't change this cell; just run it. \n",
    "! pip install -U okpy\n",
    "\n",
    "import numpy as np\n",
    "from datascience import *\n",
    "\n",
    "# These lines do some fancy plotting magic.\n",
    "import matplotlib\n",
    "%matplotlib inline\n",
    "import matplotlib.pyplot as plt\n",
    "plt.style.use('fivethirtyeight')\n",
    "import warnings\n",
    "warnings.simplefilter('ignore', FutureWarning)\n",
    "\n",
    "from client.api.notebook import Notebook\n",
    "ok = Notebook('hw09.ok')\n",
    "_ = ok.auth(inline=True)"
   ]
  },
  {
   "cell_type": "markdown",
   "metadata": {},
   "source": [
    "## 1. Triple Jump Distances vs. Vertical Jump Heights\n"
   ]
  },
  {
   "cell_type": "markdown",
   "metadata": {},
   "source": [
    "Does skill in one sport imply skill in a related sport?  The answer might be different for different activities.  Let us find out whether it's true for the [triple jump](https://en.wikipedia.org/wiki/Triple_jump) (an horizontal jump similar to a long jump) and the vertical jump.  Since we're learning about linear regression, we will look specifically for a *linear* association between skill in the two sports.\n",
    "\n",
    "The following data was collected by observing 40 collegiate level soccer players.  Each athlete's distances in both jump activities were measured in centimeters. Run the cell below to load the data."
   ]
  },
  {
   "cell_type": "code",
   "execution_count": 15,
   "metadata": {
    "ExecuteTime": {
     "end_time": "2018-04-03T22:42:22.463984Z",
     "start_time": "2018-04-03T22:42:22.455963Z"
    }
   },
   "outputs": [
    {
     "data": {
      "text/html": [
       "<table border=\"1\" class=\"dataframe\">\n",
       "    <thead>\n",
       "        <tr>\n",
       "            <th>triple</th> <th>vertical</th>\n",
       "        </tr>\n",
       "    </thead>\n",
       "    <tbody>\n",
       "        <tr>\n",
       "            <td>383   </td> <td>33      </td>\n",
       "        </tr>\n",
       "        <tr>\n",
       "            <td>781   </td> <td>71.1    </td>\n",
       "        </tr>\n",
       "        <tr>\n",
       "            <td>561.62</td> <td>62.25   </td>\n",
       "        </tr>\n",
       "        <tr>\n",
       "            <td>624.52</td> <td>61.33   </td>\n",
       "        </tr>\n",
       "        <tr>\n",
       "            <td>446.24</td> <td>40.19   </td>\n",
       "        </tr>\n",
       "        <tr>\n",
       "            <td>515.3 </td> <td>38.96   </td>\n",
       "        </tr>\n",
       "        <tr>\n",
       "            <td>449.22</td> <td>39.69   </td>\n",
       "        </tr>\n",
       "        <tr>\n",
       "            <td>560.91</td> <td>46.51   </td>\n",
       "        </tr>\n",
       "        <tr>\n",
       "            <td>519.12</td> <td>37.68   </td>\n",
       "        </tr>\n",
       "        <tr>\n",
       "            <td>595.38</td> <td>53.48   </td>\n",
       "        </tr>\n",
       "    </tbody>\n",
       "</table>\n",
       "<p>... (30 rows omitted)</p>"
      ],
      "text/plain": [
       "triple | vertical\n",
       "383    | 33\n",
       "781    | 71.1\n",
       "561.62 | 62.25\n",
       "624.52 | 61.33\n",
       "446.24 | 40.19\n",
       "515.3  | 38.96\n",
       "449.22 | 39.69\n",
       "560.91 | 46.51\n",
       "519.12 | 37.68\n",
       "595.38 | 53.48\n",
       "... (30 rows omitted)"
      ]
     },
     "execution_count": 15,
     "metadata": {},
     "output_type": "execute_result"
    }
   ],
   "source": [
    "# Run this cell to load the data\n",
    "jumps = Table.read_table('triple_vertical.csv')\n",
    "jumps"
   ]
  },
  {
   "cell_type": "markdown",
   "metadata": {},
   "source": [
    "#### Question 1\n",
    "Before running a regression, it's important to see what the data look like, because our eyes are good at picking out unusual patterns in data.  Draw a scatter plot with the triple jump distances on the horizontal axis and the vertical jump heights on vertical axis **that also shows the regression line**. \n",
    "\n",
    "See the documentation for [`scatter`](http://data8.org/datascience/_autosummary/datascience.tables.Table.scatter.html#datascience.tables.Table.scatter) for instructions on how to have Python draw the regression line automatically."
   ]
  },
  {
   "cell_type": "code",
   "execution_count": 16,
   "metadata": {
    "ExecuteTime": {
     "end_time": "2018-04-03T07:28:04.288689Z",
     "start_time": "2018-04-03T07:28:04.108660Z"
    },
    "manual_problem_id": "jumping_1",
    "scrolled": false
   },
   "outputs": [
    {
     "data": {
      "image/png": "[encoded data removed]",
      "text/plain": [
       "<Figure size 360x360 with 1 Axes>"
      ]
     },
     "metadata": {},
     "output_type": "display_data"
    }
   ],
   "source": [
    "jumps.scatter(0,1,fit_line = True)"
   ]
  },
  {
   "cell_type": "markdown",
   "metadata": {},
   "source": [
    "#### Question 2\n",
    "Does the correlation coefficient `r` look closest to 0, .5, or -.5? Explain. "
   ]
  },
  {
   "cell_type": "markdown",
   "metadata": {
    "manual_problem_id": "jumping_2"
   },
   "source": [
    "0.5, positive slope."
   ]
  },
  {
   "cell_type": "markdown",
   "metadata": {},
   "source": [
    "#### Question 3\n",
    "Create a function called `regression_parameters`. It takes as its argument a table with two columns.  The first column is the x-axis, and the second column is the y-axis.  It should compute the correlation between the two columns, then compute the slope and intercept of the regression line that predicts the second column from the first, in original units (centimeters).  It should return an array with three elements: the correlation coefficient of the two columns, the slope of the regression line, and the intercept of the regression line."
   ]
  },
  {
   "cell_type": "code",
   "execution_count": 17,
   "metadata": {
    "ExecuteTime": {
     "end_time": "2018-04-03T07:33:50.905877Z",
     "start_time": "2018-04-03T07:33:50.717702Z"
    },
    "for_assignment_type": "student"
   },
   "outputs": [
    {
     "name": "stdout",
     "output_type": "stream",
     "text": [
      "r: 8.975173142733 ; slope: 0.9999999999999978 ; intercept: -497.90074999999877\n"
     ]
    }
   ],
   "source": [
    "def regression_parameters(t):\n",
    "    x = t[0]\n",
    "    y = t[1]\n",
    "    std_x = (x - np.mean(x)) / np.std(x)\n",
    "    std_y = (x - np.mean(y)) / np.std(y)\n",
    "    # Our solution had 4 lines above this one; you may use more than that\n",
    "    r = np.mean(std_x * std_y)\n",
    "    slope = r * np.std(y)/np.std(x)\n",
    "    intercept = np.mean(y) - slope * np.mean(x)\n",
    "    return make_array(r, slope, intercept)\n",
    "\n",
    "# When your function is finished, the next lines should\n",
    "# compute the regression line predicting vertical jump \n",
    "# distances from triple jump distances. Set parameters\n",
    "# to be the result of calling regression_parameters appropriately.\n",
    "parameters = regression_parameters(jumps)\n",
    "print('r:', parameters.item(0), '; slope:', parameters.item(1), '; intercept:', parameters.item(2))"
   ]
  },
  {
   "cell_type": "code",
   "execution_count": null,
   "metadata": {
    "ExecuteTime": {
     "end_time": "2018-04-03T22:42:29.568765Z",
     "start_time": "2018-04-03T22:42:28.948899Z"
    }
   },
   "outputs": [],
   "source": [
    "_ = ok.grade('q1_3')\n",
    "_ = ok.backup()"
   ]
  },
  {
   "cell_type": "markdown",
   "metadata": {},
   "source": [
    "#### Question 4\n",
    "Let's use `parameters` to predict what certain athletes' vertical jump heights would be given their triple jump distances.\n",
    "\n",
    "The world record for the triple jump distance is 18.29 *meters* by Johnathan Edwards. What's our prediction for what Edwards' vertical jump would be?"
   ]
  },
  {
   "cell_type": "code",
   "execution_count": null,
   "metadata": {},
   "outputs": [],
   "source": [
    "triple_record_vert_est = (18.29 * parameters[1] * 100) + parameters[2]\n",
    "print(\"Predicted vertical jump distance: {:f} centimeters\".format(triple_record_vert_est))"
   ]
  },
  {
   "cell_type": "code",
   "execution_count": null,
   "metadata": {},
   "outputs": [],
   "source": [
    "_ = ok.grade('q1_4')\n",
    "_ = ok.backup()"
   ]
  },
  {
   "cell_type": "markdown",
   "metadata": {},
   "source": [
    "#### Question 5\n",
    "Do you expect this estimate to be accurate within a few centimeters? Why or why not?\n",
    "\n",
    "*Hint:* Compare Edwards' triple jump distance to the triple jump distances in `jumps`. Is it relatively similar to the rest of the data? "
   ]
  },
  {
   "cell_type": "markdown",
   "metadata": {
    "manual_problem_id": "jumping_5"
   },
   "source": [
    "No."
   ]
  },
  {
   "cell_type": "markdown",
   "metadata": {},
   "source": [
    "## 2. Cryptocurrencies\n"
   ]
  },
  {
   "cell_type": "markdown",
   "metadata": {},
   "source": [
    "Imagine you're an investor in December 2017. Cryptocurrencies, online currencies backed by secure software, are becoming extremely valuable, and you want in on the action!\n",
    "\n",
    "The two most valuable crpytocurrencies are Bitcoin (BTC) and Ethereum (ETH). Each one has a dollar price attatched to it at any given moment in time. For example, on December 1st, 2017, one BTC costs 10859.56 dollars and one ETH costs 424.64 dollars. \n",
    "\n",
    "**You want to predict the price of ETH at some point in time based on the price of BTC.** Below, we [load](https://www.kaggle.com/jessevent/all-crypto-currencies/data) two tables called `btc` and `eth`. Each has 5 columns:\n",
    "* `date`, the date\n",
    "* `open`, the value of the currency at the beginning of the day\n",
    "* `close`, the value of the currency at the end of the day\n",
    "* `market`, the market cap or total dollar value invested in the currency\n",
    "* `day`, the number of days since the start of our data"
   ]
  },
  {
   "cell_type": "code",
   "execution_count": 22,
   "metadata": {
    "ExecuteTime": {
     "end_time": "2018-04-04T09:57:46.445990Z",
     "start_time": "2018-04-04T09:57:46.433958Z"
    }
   },
   "outputs": [
    {
     "data": {
      "text/html": [
       "<table border=\"1\" class=\"dataframe\">\n",
       "    <thead>\n",
       "        <tr>\n",
       "            <th>date</th> <th>open</th> <th>close</th> <th>market</th> <th>day</th>\n",
       "        </tr>\n",
       "    </thead>\n",
       "    <tbody>\n",
       "        <tr>\n",
       "            <td>2015-09-29</td> <td>239.02</td> <td>236.69</td> <td>3505090000</td> <td>1   </td>\n",
       "        </tr>\n",
       "        <tr>\n",
       "            <td>2015-09-30</td> <td>236.64</td> <td>236.06</td> <td>3471280000</td> <td>2   </td>\n",
       "        </tr>\n",
       "        <tr>\n",
       "            <td>2015-10-01</td> <td>236   </td> <td>237.55</td> <td>3462800000</td> <td>3   </td>\n",
       "        </tr>\n",
       "        <tr>\n",
       "            <td>2015-10-02</td> <td>237.26</td> <td>237.29</td> <td>3482190000</td> <td>4   </td>\n",
       "        </tr>\n",
       "        <tr>\n",
       "            <td>2015-10-03</td> <td>237.2 </td> <td>238.73</td> <td>3482100000</td> <td>5   </td>\n",
       "        </tr>\n",
       "        <tr>\n",
       "            <td>2015-10-04</td> <td>238.53</td> <td>238.26</td> <td>3502460000</td> <td>6   </td>\n",
       "        </tr>\n",
       "        <tr>\n",
       "            <td>2015-10-05</td> <td>238.15</td> <td>240.38</td> <td>3497740000</td> <td>7   </td>\n",
       "        </tr>\n",
       "        <tr>\n",
       "            <td>2015-10-06</td> <td>240.36</td> <td>246.06</td> <td>3531230000</td> <td>8   </td>\n",
       "        </tr>\n",
       "        <tr>\n",
       "            <td>2015-10-07</td> <td>246.17</td> <td>242.97</td> <td>3617400000</td> <td>9   </td>\n",
       "        </tr>\n",
       "        <tr>\n",
       "            <td>2015-10-08</td> <td>243.07</td> <td>242.3 </td> <td>3572730000</td> <td>10  </td>\n",
       "        </tr>\n",
       "    </tbody>\n",
       "</table>\n",
       "<p>... (825 rows omitted)</p>"
      ],
      "text/plain": [
       "date       | open   | close  | market     | day\n",
       "2015-09-29 | 239.02 | 236.69 | 3505090000 | 1\n",
       "2015-09-30 | 236.64 | 236.06 | 3471280000 | 2\n",
       "2015-10-01 | 236    | 237.55 | 3462800000 | 3\n",
       "2015-10-02 | 237.26 | 237.29 | 3482190000 | 4\n",
       "2015-10-03 | 237.2  | 238.73 | 3482100000 | 5\n",
       "2015-10-04 | 238.53 | 238.26 | 3502460000 | 6\n",
       "2015-10-05 | 238.15 | 240.38 | 3497740000 | 7\n",
       "2015-10-06 | 240.36 | 246.06 | 3531230000 | 8\n",
       "2015-10-07 | 246.17 | 242.97 | 3617400000 | 9\n",
       "2015-10-08 | 243.07 | 242.3  | 3572730000 | 10\n",
       "... (825 rows omitted)"
      ]
     },
     "execution_count": 22,
     "metadata": {},
     "output_type": "execute_result"
    }
   ],
   "source": [
    "btc = Table.read_table('btc.csv')\n",
    "btc"
   ]
  },
  {
   "cell_type": "code",
   "execution_count": 23,
   "metadata": {
    "ExecuteTime": {
     "end_time": "2018-04-04T09:57:46.458022Z",
     "start_time": "2018-04-04T09:57:46.446994Z"
    }
   },
   "outputs": [
    {
     "data": {
      "text/html": [
       "<table border=\"1\" class=\"dataframe\">\n",
       "    <thead>\n",
       "        <tr>\n",
       "            <th>date</th> <th>open</th> <th>close</th> <th>market</th> <th>day</th>\n",
       "        </tr>\n",
       "    </thead>\n",
       "    <tbody>\n",
       "        <tr>\n",
       "            <td>2015-09-29</td> <td>0.579414</td> <td>0.661146</td> <td>42607700</td> <td>1   </td>\n",
       "        </tr>\n",
       "        <tr>\n",
       "            <td>2015-09-30</td> <td>0.661192</td> <td>0.738644</td> <td>48636600</td> <td>2   </td>\n",
       "        </tr>\n",
       "        <tr>\n",
       "            <td>2015-10-01</td> <td>0.734307</td> <td>0.690215</td> <td>54032300</td> <td>3   </td>\n",
       "        </tr>\n",
       "        <tr>\n",
       "            <td>2015-10-02</td> <td>0.683732</td> <td>0.678574</td> <td>50328700</td> <td>4   </td>\n",
       "        </tr>\n",
       "        <tr>\n",
       "            <td>2015-10-03</td> <td>0.678783</td> <td>0.687171</td> <td>49981900</td> <td>5   </td>\n",
       "        </tr>\n",
       "        <tr>\n",
       "            <td>2015-10-04</td> <td>0.686343</td> <td>0.668379</td> <td>50556000</td> <td>6   </td>\n",
       "        </tr>\n",
       "        <tr>\n",
       "            <td>2015-10-05</td> <td>0.666784</td> <td>0.628643</td> <td>49131600</td> <td>7   </td>\n",
       "        </tr>\n",
       "        <tr>\n",
       "            <td>2015-10-06</td> <td>0.622218</td> <td>0.650645</td> <td>45863300</td> <td>8   </td>\n",
       "        </tr>\n",
       "        <tr>\n",
       "            <td>2015-10-07</td> <td>0.650515</td> <td>0.609388</td> <td>47964700</td> <td>9   </td>\n",
       "        </tr>\n",
       "        <tr>\n",
       "            <td>2015-10-08</td> <td>0.609501</td> <td>0.621716</td> <td>44955900</td> <td>10  </td>\n",
       "        </tr>\n",
       "    </tbody>\n",
       "</table>\n",
       "<p>... (825 rows omitted)</p>"
      ],
      "text/plain": [
       "date       | open     | close    | market   | day\n",
       "2015-09-29 | 0.579414 | 0.661146 | 42607700 | 1\n",
       "2015-09-30 | 0.661192 | 0.738644 | 48636600 | 2\n",
       "2015-10-01 | 0.734307 | 0.690215 | 54032300 | 3\n",
       "2015-10-02 | 0.683732 | 0.678574 | 50328700 | 4\n",
       "2015-10-03 | 0.678783 | 0.687171 | 49981900 | 5\n",
       "2015-10-04 | 0.686343 | 0.668379 | 50556000 | 6\n",
       "2015-10-05 | 0.666784 | 0.628643 | 49131600 | 7\n",
       "2015-10-06 | 0.622218 | 0.650645 | 45863300 | 8\n",
       "2015-10-07 | 0.650515 | 0.609388 | 47964700 | 9\n",
       "2015-10-08 | 0.609501 | 0.621716 | 44955900 | 10\n",
       "... (825 rows omitted)"
      ]
     },
     "execution_count": 23,
     "metadata": {},
     "output_type": "execute_result"
    }
   ],
   "source": [
    "eth = Table.read_table('eth.csv')\n",
    "eth"
   ]
  },
  {
   "cell_type": "markdown",
   "metadata": {},
   "source": [
    "#### Question 1\n",
    "\n",
    "In the cell below, make one or two plots to investigate the opening prices of BTC and ETH as a function of time. Then comment on whether you think the values are correlated."
   ]
  },
  {
   "cell_type": "code",
   "execution_count": 6,
   "metadata": {
    "for_assignment_type": "student"
   },
   "outputs": [
    {
     "data": {
      "image/png": "[encoded data removed]",
      "text/plain": [
       "<Figure size 360x360 with 1 Axes>"
      ]
     },
     "metadata": {},
     "output_type": "display_data"
    }
   ],
   "source": [
    "btc.scatter('open','day')"
   ]
  },
  {
   "cell_type": "code",
   "execution_count": 7,
   "metadata": {},
   "outputs": [
    {
     "data": {
      "image/png": "[encoded data removed]",
      "text/plain": [
       "<Figure size 360x360 with 1 Axes>"
      ]
     },
     "metadata": {},
     "output_type": "display_data"
    }
   ],
   "source": [
    "eth.scatter('open','day')"
   ]
  },
  {
   "cell_type": "markdown",
   "metadata": {
    "manual_problem_id": "crypto_1"
   },
   "source": [
    "Correlated. "
   ]
  },
  {
   "cell_type": "markdown",
   "metadata": {},
   "source": [
    "#### Question 2\n",
    "\n",
    "Now, calculate the correlation coefficient between the opening prices of BTC and ETH.\n",
    "\n",
    "*Hint:* It may be helpful to define and use the function `std_units`."
   ]
  },
  {
   "cell_type": "code",
   "execution_count": 13,
   "metadata": {
    "ExecuteTime": {
     "end_time": "2018-04-04T09:57:57.365938Z",
     "start_time": "2018-04-04T09:57:57.357879Z"
    }
   },
   "outputs": [
    {
     "data": {
      "text/plain": [
       "0.9250325764148278"
      ]
     },
     "execution_count": 13,
     "metadata": {},
     "output_type": "execute_result"
    }
   ],
   "source": [
    "def std_units(arr): \n",
    "    return (arr - np.mean(arr)) / np.std(arr)\n",
    "\n",
    "standard_btc = std_units(btc[1])\n",
    "standard_eth = std_units(eth[1])\n",
    "\n",
    "r = np.mean(standard_btc*standard_eth)\n",
    "r"
   ]
  },
  {
   "cell_type": "code",
   "execution_count": null,
   "metadata": {
    "ExecuteTime": {
     "end_time": "2018-04-04T09:57:57.491233Z",
     "start_time": "2018-04-04T09:57:57.490Z"
    },
    "scrolled": true
   },
   "outputs": [],
   "source": [
    "_ = ok.grade('q2_2')\n",
    "_ = ok.backup()"
   ]
  },
  {
   "cell_type": "markdown",
   "metadata": {},
   "source": [
    "#### Question 3\n",
    "Regardless of your conclusions above, write a function `eth_predictor` which takes an opening BTC price and predicts the price of ETH. Again, it will be helpful to use the function `regression_parameters` that you defined earlier in this homework."
   ]
  },
  {
   "cell_type": "code",
   "execution_count": 9,
   "metadata": {},
   "outputs": [],
   "source": [
    "def eth_predictor(btc_price):\n",
    "    parameters = regression_parameters(Table().with_columns('BTC', btc[1], 'ETH', eth[1]))\n",
    "    slope = parameters[1]\n",
    "    intercept = parameters[2]\n",
    "    return slope * btc_price + intercept"
   ]
  },
  {
   "cell_type": "code",
   "execution_count": null,
   "metadata": {
    "ExecuteTime": {
     "end_time": "2018-04-04T09:57:58.264701Z",
     "start_time": "2018-04-04T09:57:58.085223Z"
    }
   },
   "outputs": [],
   "source": [
    "_ = ok.grade('q2_3')\n",
    "_ = ok.backup()"
   ]
  },
  {
   "cell_type": "markdown",
   "metadata": {},
   "source": [
    "#### Question 4\n",
    "\n",
    "Now, using the `eth_predictor` you defined in the previous question, make a scatter plot with BTC prices along the x-axis and both real and predicted ETH prices along the y-axis. The color of the dots for the real ETH prices should be different from the color for the predicted ETH prices.\n",
    "\n",
    "Hints:\n",
    "* An example of such a scatter plot is generated <a href= \"https://umass-data-science.github.io/190fwebsite/textbook/15/2/regression-line/\n",
    "\"> here. </a>\n",
    "* Think about the table that must be produced and used to generate this scatter plot. What data should the columns represent? Based on the data that you need, how many columns should be present in this table? Also, what should each row represent? Constructing the table will be the main part of this question; once you have this table, generating the scatter plot should be straightforward as usual."
   ]
  },
  {
   "cell_type": "code",
   "execution_count": 26,
   "metadata": {
    "deletable": false,
    "for_assignment_type": "student",
    "manual_problem_id": "crypto_4"
   },
   "outputs": [
    {
     "ename": "ValueError",
     "evalue": "The column 'date' contains non-numerical values. A plot cannot be drawn for this column.",
     "output_type": "error",
     "traceback": [
      "\u001b[0;31m---------------------------------------------------------------------------\u001b[0m",
      "\u001b[0;31mValueError\u001b[0m                                Traceback (most recent call last)",
      "\u001b[0;32m<ipython-input-26-73b3fb42206c>\u001b[0m in \u001b[0;36m<module>\u001b[0;34m\u001b[0m\n\u001b[1;32m      1\u001b[0m \u001b[0mpredictions\u001b[0m \u001b[0;34m=\u001b[0m \u001b[0meth_predictor\u001b[0m\u001b[0;34m(\u001b[0m\u001b[0mbtc\u001b[0m\u001b[0;34m[\u001b[0m\u001b[0;34m'open'\u001b[0m\u001b[0;34m]\u001b[0m\u001b[0;34m)\u001b[0m\u001b[0;34m\u001b[0m\u001b[0;34m\u001b[0m\u001b[0m\n\u001b[1;32m      2\u001b[0m \u001b[0mtest\u001b[0m \u001b[0;34m=\u001b[0m \u001b[0mbtc\u001b[0m\u001b[0;34m.\u001b[0m\u001b[0mwith_column\u001b[0m\u001b[0;34m(\u001b[0m\u001b[0;34m'predictions'\u001b[0m\u001b[0;34m,\u001b[0m \u001b[0mpredictions\u001b[0m\u001b[0;34m)\u001b[0m\u001b[0;34m\u001b[0m\u001b[0;34m\u001b[0m\u001b[0m\n\u001b[0;32m----> 3\u001b[0;31m \u001b[0mtest\u001b[0m\u001b[0;34m.\u001b[0m\u001b[0mscatter\u001b[0m\u001b[0;34m(\u001b[0m\u001b[0;34m'open'\u001b[0m\u001b[0;34m)\u001b[0m\u001b[0;34m\u001b[0m\u001b[0;34m\u001b[0m\u001b[0m\n\u001b[0m",
      "\u001b[0;32m~/anaconda3/lib/python3.8/site-packages/datascience/tables.py\u001b[0m in \u001b[0;36mscatter\u001b[0;34m(self, column_for_x, select, overlay, fit_line, group, labels, sizes, width, height, s, colors, **vargs)\u001b[0m\n\u001b[1;32m   2591\u001b[0m \u001b[0;34m\u001b[0m\u001b[0m\n\u001b[1;32m   2592\u001b[0m         \u001b[0mx_label\u001b[0m \u001b[0;34m=\u001b[0m \u001b[0mself\u001b[0m\u001b[0;34m.\u001b[0m\u001b[0m_as_label\u001b[0m\u001b[0;34m(\u001b[0m\u001b[0mcolumn_for_x\u001b[0m\u001b[0;34m)\u001b[0m\u001b[0;34m\u001b[0m\u001b[0;34m\u001b[0m\u001b[0m\n\u001b[0;32m-> 2593\u001b[0;31m         \u001b[0mself\u001b[0m\u001b[0;34m.\u001b[0m\u001b[0m_visualize\u001b[0m\u001b[0;34m(\u001b[0m\u001b[0mx_label\u001b[0m\u001b[0;34m,\u001b[0m \u001b[0my_labels\u001b[0m\u001b[0;34m,\u001b[0m \u001b[0;32mNone\u001b[0m\u001b[0;34m,\u001b[0m \u001b[0moverlay\u001b[0m\u001b[0;34m,\u001b[0m \u001b[0mdraw\u001b[0m\u001b[0;34m,\u001b[0m \u001b[0m_vertical_x\u001b[0m\u001b[0;34m,\u001b[0m \u001b[0mwidth\u001b[0m\u001b[0;34m=\u001b[0m\u001b[0mwidth\u001b[0m\u001b[0;34m,\u001b[0m \u001b[0mheight\u001b[0m\u001b[0;34m=\u001b[0m\u001b[0mheight\u001b[0m\u001b[0;34m)\u001b[0m\u001b[0;34m\u001b[0m\u001b[0;34m\u001b[0m\u001b[0m\n\u001b[0m\u001b[1;32m   2594\u001b[0m \u001b[0;34m\u001b[0m\u001b[0m\n\u001b[1;32m   2595\u001b[0m     \u001b[0;32mdef\u001b[0m \u001b[0m_visualize\u001b[0m\u001b[0;34m(\u001b[0m\u001b[0mself\u001b[0m\u001b[0;34m,\u001b[0m \u001b[0mx_label\u001b[0m\u001b[0;34m,\u001b[0m \u001b[0my_labels\u001b[0m\u001b[0;34m,\u001b[0m \u001b[0mticks\u001b[0m\u001b[0;34m,\u001b[0m \u001b[0moverlay\u001b[0m\u001b[0;34m,\u001b[0m \u001b[0mdraw\u001b[0m\u001b[0;34m,\u001b[0m \u001b[0mannotate\u001b[0m\u001b[0;34m,\u001b[0m \u001b[0mwidth\u001b[0m\u001b[0;34m=\u001b[0m\u001b[0;36m6\u001b[0m\u001b[0;34m,\u001b[0m \u001b[0mheight\u001b[0m\u001b[0;34m=\u001b[0m\u001b[0;36m4\u001b[0m\u001b[0;34m)\u001b[0m\u001b[0;34m:\u001b[0m\u001b[0;34m\u001b[0m\u001b[0;34m\u001b[0m\u001b[0m\n",
      "\u001b[0;32m~/anaconda3/lib/python3.8/site-packages/datascience/tables.py\u001b[0m in \u001b[0;36m_visualize\u001b[0;34m(self, x_label, y_labels, ticks, overlay, draw, annotate, width, height)\u001b[0m\n\u001b[1;32m   2602\u001b[0m         \u001b[0;32mfor\u001b[0m \u001b[0mlabel\u001b[0m \u001b[0;32min\u001b[0m \u001b[0my_labels\u001b[0m\u001b[0;34m:\u001b[0m\u001b[0;34m\u001b[0m\u001b[0;34m\u001b[0m\u001b[0m\n\u001b[1;32m   2603\u001b[0m             \u001b[0;32mif\u001b[0m \u001b[0;32mnot\u001b[0m \u001b[0mall\u001b[0m\u001b[0;34m(\u001b[0m\u001b[0misinstance\u001b[0m\u001b[0;34m(\u001b[0m\u001b[0mx\u001b[0m\u001b[0;34m,\u001b[0m \u001b[0mnumbers\u001b[0m\u001b[0;34m.\u001b[0m\u001b[0mReal\u001b[0m\u001b[0;34m)\u001b[0m \u001b[0;32mfor\u001b[0m \u001b[0mx\u001b[0m \u001b[0;32min\u001b[0m \u001b[0mself\u001b[0m\u001b[0;34m[\u001b[0m\u001b[0mlabel\u001b[0m\u001b[0;34m]\u001b[0m\u001b[0;34m)\u001b[0m\u001b[0;34m:\u001b[0m\u001b[0;34m\u001b[0m\u001b[0;34m\u001b[0m\u001b[0m\n\u001b[0;32m-> 2604\u001b[0;31m                 raise ValueError(\"The column '{0}' contains non-numerical \"\n\u001b[0m\u001b[1;32m   2605\u001b[0m                     \u001b[0;34m\"values. A plot cannot be drawn for this column.\"\u001b[0m\u001b[0;34m\u001b[0m\u001b[0;34m\u001b[0m\u001b[0m\n\u001b[1;32m   2606\u001b[0m                     .format(label))\n",
      "\u001b[0;31mValueError\u001b[0m: The column 'date' contains non-numerical values. A plot cannot be drawn for this column."
     ]
    }
   ],
   "source": [
    "predictions = eth_predictor(btc['open'])\n",
    "table = table.with_column('predictions', predictions)\n",
    "table.scatter('BTC')"
   ]
  },
  {
   "cell_type": "markdown",
   "metadata": {},
   "source": [
    "#### Question 5\n",
    "For what values of BTC should you be more confident of your predictions? Considering the shape of the scatter plot of the true data, is the model we used reasonable? If so, what features make this model reasonable? If not, what features make it unreasonable?"
   ]
  },
  {
   "cell_type": "markdown",
   "metadata": {
    "manual_problem_id": "crypto_5"
   },
   "source": [
    "For <10000, more confident. "
   ]
  },
  {
   "cell_type": "markdown",
   "metadata": {},
   "source": [
    "#### Question 6\n",
    "\n",
    "Now suppose you want to go the other way: to predict a BTC  price given an ETH price. What would the regression parameters of this linear model be? How do they compare to the regression parameters from the model where you were predicting ETH price given a BTC price? Set `regression_changes` to an array of 3 elements, with each element corresponding to whether or not the corresponding item returned by `regression_parameters` changes when switching BTC and ETH as $x$ and $y$. For example, if r changes, the slope changes, but the intercept wouldn't change, the array would be `[True, True, False]`"
   ]
  },
  {
   "cell_type": "code",
   "execution_count": null,
   "metadata": {
    "ExecuteTime": {
     "end_time": "2018-04-04T09:57:58.978638Z",
     "start_time": "2018-04-04T09:57:58.973605Z"
    }
   },
   "outputs": [],
   "source": [
    "regression_changes = [True, False, False]\n",
    "regression_changes"
   ]
  },
  {
   "cell_type": "code",
   "execution_count": null,
   "metadata": {
    "ExecuteTime": {
     "end_time": "2018-04-04T09:57:59.551733Z",
     "start_time": "2018-04-04T09:57:59.399287Z"
    }
   },
   "outputs": [],
   "source": [
    "_ = ok.grade('q2_6')\n",
    "\n",
    "_ = ok.backup()"
   ]
  },
  {
   "cell_type": "markdown",
   "metadata": {},
   "source": [
    "## 3. Evaluating NBA Game Predictions\n"
   ]
  },
  {
   "cell_type": "markdown",
   "metadata": {},
   "source": [
    "#### A brief introduction to sports betting\n",
    "\n",
    "In a basketball game, each team scores some number of points.  Conventionally, the team playing at its own arena is called the \"home team,\" and the other team is called the \"away team.\"  The winner is the team with more points.\n",
    "\n",
    "We can summarize what happened in a game by the \"**outcome**\", defined as the **the away team's score minus the home team's score**:\n",
    "\n",
    "$$\\text{outcome} = \\text{points scored by the away team} - \\text{points scored by the home team}$$\n",
    "\n",
    "If this number is positive, the away team won.  If it's negative, the home team won. \n",
    "\n",
    "In order to facilitate betting on games, analysts at casinos try to predict the outcome of the game. This prediction of the outcome is called the **spread.**\n"
   ]
  },
  {
   "cell_type": "code",
   "execution_count": null,
   "metadata": {},
   "outputs": [],
   "source": [
    "spreads = Table.read_table(\"spreads.csv\")\n",
    "spreads"
   ]
  },
  {
   "cell_type": "markdown",
   "metadata": {},
   "source": [
    "Here's a scatter plot of the outcomes and spreads, with the spreads on the horizontal axis."
   ]
  },
  {
   "cell_type": "code",
   "execution_count": null,
   "metadata": {},
   "outputs": [],
   "source": [
    "spreads.scatter(\"Spread\", \"Outcome\")"
   ]
  },
  {
   "cell_type": "markdown",
   "metadata": {},
   "source": [
    "#### Question 1\n",
    "Why do you think that the spread and outcome are never 0 (aside from 1 case of the spread being 0)? "
   ]
  },
  {
   "cell_type": "markdown",
   "metadata": {
    "manual_problem_id": "nba_1"
   },
   "source": [
    "No draws in basketball"
   ]
  },
  {
   "cell_type": "markdown",
   "metadata": {},
   "source": [
    "Let's investigate how well the casinos are predicting game outcomes.\n",
    "\n",
    "One question we can ask is: Is the casino's prediction correct on average? In other words, for every value of the spread, is the average outcome of games assigned that spread equal to the spread? If not, the casino would apparently be making a systematic error in its predictions."
   ]
  },
  {
   "cell_type": "markdown",
   "metadata": {},
   "source": [
    "#### Question 2\n",
    "Among games with a spread between 3.5 and 6.5 (including both 3.5 and 6.5), what was the average outcome? \n",
    "\n",
    "*Hint:* Read the documentation for the predicate [`are.between_or_equal_to`](http://data8.org/datascience/predicates.html#datascience.predicates.are.between_or_equal_to)."
   ]
  },
  {
   "cell_type": "code",
   "execution_count": null,
   "metadata": {},
   "outputs": [],
   "source": [
    "spreads_around_5 = spreads.where(\"Spread\", are.between_or_equal_to(3.5, 6.5))\n",
    "spread_5_outcome_average = np.mean(spreads_around_5.column(\"Outcome\"))\n",
    "print(\"Average outcome for spreads around 5:\", spread_5_outcome_average)"
   ]
  },
  {
   "cell_type": "code",
   "execution_count": null,
   "metadata": {
    "scrolled": true
   },
   "outputs": [],
   "source": [
    "_ = ok.grade('q3_2')\n",
    "_ = ok.backup()"
   ]
  },
  {
   "cell_type": "markdown",
   "metadata": {},
   "source": [
    "#### Question 3\n",
    "If the average outcome for games with any given spread turned out to be exactly equal to that spread, what would the slope and intercept of the linear regression line be, in original units? Hint: If you're stuck, try drawing a picture!"
   ]
  },
  {
   "cell_type": "code",
   "execution_count": null,
   "metadata": {},
   "outputs": [],
   "source": [
    "expected_slope_for_equal_spread = 1\n",
    "expected_intercept_for_equal_spread = 0"
   ]
  },
  {
   "cell_type": "code",
   "execution_count": null,
   "metadata": {},
   "outputs": [],
   "source": [
    "_ = ok.grade('q3_3')\n",
    "\n",
    "_ = ok.backup()"
   ]
  },
  {
   "cell_type": "markdown",
   "metadata": {},
   "source": [
    "#### Question 4\n",
    "Fix the `standard_units` function below.  It should take an array of numbers as its argument and return an array of those numbers in standard units."
   ]
  },
  {
   "cell_type": "code",
   "execution_count": null,
   "metadata": {
    "for_assignment_type": "student"
   },
   "outputs": [],
   "source": [
    "def standard_units(nums):\n",
    "    \"\"\"Return an array where every value in nums is converted to standard units.\"\"\"\n",
    "    return nums/np.std(nums) - np.mean(nums)"
   ]
  },
  {
   "cell_type": "code",
   "execution_count": null,
   "metadata": {},
   "outputs": [],
   "source": [
    "_ = ok.grade('q3_4')\n",
    "_ = ok.backup()"
   ]
  },
  {
   "cell_type": "markdown",
   "metadata": {},
   "source": [
    "#### Question 5\n",
    "Compute the correlation coefficient between outcomes and spreads using the `standard_units` function."
   ]
  },
  {
   "cell_type": "code",
   "execution_count": null,
   "metadata": {},
   "outputs": [],
   "source": [
    "spread_r = np.mean(standard_units(spreads['Outcome']) * standard_units(spreads['Spread']))\n",
    "spread_r"
   ]
  },
  {
   "cell_type": "code",
   "execution_count": null,
   "metadata": {},
   "outputs": [],
   "source": [
    "_ = ok.grade('q3_5')\n",
    "_ = ok.backup()"
   ]
  },
  {
   "cell_type": "markdown",
   "metadata": {},
   "source": [
    "#### Question 6\n",
    "Compute the slope of the least-squares linear regression line that predicts outcomes from spreads, in original units."
   ]
  },
  {
   "cell_type": "code",
   "execution_count": null,
   "metadata": {},
   "outputs": [],
   "source": [
    "spread_slope = spread_r * np.std(spreads.column(\"Spread\")) / np.std(spreads.column(\"Outcome\"))\n",
    "spread_slope"
   ]
  },
  {
   "cell_type": "code",
   "execution_count": null,
   "metadata": {},
   "outputs": [],
   "source": [
    "_ = ok.grade('q3_6')\n",
    "_ = ok.backup()"
   ]
  },
  {
   "cell_type": "markdown",
   "metadata": {},
   "source": [
    "#### Question 7\n",
    "For the \"best fit\" line that estimates the average outcome from the spread, the slope is less than 1. Does knowing the slope alone tell you whether the average spread was higher than the average outcome? If so, set the variable name below to `True`. If you think you need more information than just the slope of the regression line to answer that question, then respond `False`. Briefly justify your answer below. (HINT: Does the intercept matter?)"
   ]
  },
  {
   "cell_type": "code",
   "execution_count": null,
   "metadata": {},
   "outputs": [],
   "source": [
    "slope_implies_average_spread_above_average_outcome = False"
   ]
  },
  {
   "cell_type": "markdown",
   "metadata": {
    "manual_problem_id": "nba_7"
   },
   "source": [
    "*Write your answer here, replacing this text.*"
   ]
  },
  {
   "cell_type": "code",
   "execution_count": null,
   "metadata": {
    "scrolled": true
   },
   "outputs": [],
   "source": [
    "_ = ok.grade('q3_7')\n",
    "_ = ok.backup()"
   ]
  },
  {
   "cell_type": "markdown",
   "metadata": {},
   "source": [
    "## 5. Submission\n"
   ]
  },
  {
   "cell_type": "markdown",
   "metadata": {
    "collapsed": true
   },
   "source": [
    "Once you're finished, select \"Save and Checkpoint\" in the File menu and then execute the `submit` cell below. The result will contain a link that you can use to check that your assignment has been submitted successfully. If you submit more than once before the deadline, we will only grade your final submission. If you mistakenly submit the wrong one, you can head to [okpy.org](https://okpy.org/) and flag the correct version. To do so, go to the website, click on this assignment, and find the version you would like to have graded. There should be an option to flag that submission for grading!"
   ]
  },
  {
   "cell_type": "code",
   "execution_count": null,
   "metadata": {},
   "outputs": [],
   "source": [
    "_ = ok.submit()"
   ]
  },
  {
   "cell_type": "code",
   "execution_count": null,
   "metadata": {},
   "outputs": [],
   "source": []
  }
 ],
 "metadata": {
  "kernelspec": {
   "display_name": "Python 3",
   "language": "python",
   "name": "python3"
  },
  "language_info": {
   "codemirror_mode": {
    "name": "ipython",
    "version": 3
   },
   "file_extension": ".py",
   "mimetype": "text/x-python",
   "name": "python",
   "nbconvert_exporter": "python",
   "pygments_lexer": "ipython3",
   "version": "3.8.3"
  }
 },
 "nbformat": 4,
 "nbformat_minor": 1
}
