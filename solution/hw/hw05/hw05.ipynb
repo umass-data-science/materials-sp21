{
  "nbformat": 4,
  "nbformat_minor": 0,
  "metadata": {
    "celltoolbar": "Raw Cell Format",
    "kernelspec": {
      "display_name": "Python 3",
      "language": "python",
      "name": "python3"
    },
    "language_info": {
      "codemirror_mode": {
        "name": "ipython",
        "version": 3
      },
      "file_extension": ".py",
      "mimetype": "text/x-python",
      "name": "python",
      "nbconvert_exporter": "python",
      "pygments_lexer": "ipython3",
      "version": "3.8.3"
    },
    "colab": {
      "name": "Copy of hw05.ipynb",
      "provenance": []
    }
  },
  "cells": [
    {
      "cell_type": "markdown",
      "metadata": {
        "id": "Xpw0q1nrORu5"
      },
      "source": [
        "# Homework 5: Probability, Simulation, Estimation, and Assessing Models"
      ]
    },
    {
      "cell_type": "markdown",
      "metadata": {
        "id": "md82URkCORvI"
      },
      "source": [
        "**Reading**: \n",
        "* [Randomness](https://www.inferentialthinking.com/chapters/09/randomness.html) \n",
        "* [Sampling and Empirical Distributions](https://www.inferentialthinking.com/chapters/10/sampling-and-empirical-distributions.html)\n",
        "* [Testing Hypotheses](https://www.inferentialthinking.com/chapters/11/testing-hypotheses.html)"
      ]
    },
    {
      "cell_type": "markdown",
      "metadata": {
        "id": "s68499nsORvL"
      },
      "source": [
        "Please complete this notebook by filling in the cells provided. Before you begin, execute the following cell to load the provided tests. Each time you start your server, you will need to execute this cell again to load the tests.\n",
        "\n",
        "Homework 5 is due Wednesday, 10/17 at 11:59pm. Start early so that you can come to office hours if you're stuck. Check the website for the office hours schedule. Late work will not be accepted as per the [policies](http://data8.org/fa18/policies.html) of this course. \n",
        "\n",
        "Directly sharing answers is not okay, but discussing problems with the course staff or with other students is encouraged. Refer to the policies page to learn more about how to learn cooperatively.\n",
        "\n",
        "For all problems that you must write our explanations and sentences for, you **must** provide your answer in the designated space. Moreover, throughout this homework and all future ones, please be sure to not re-assign variables throughout the notebook! For example, if you use `max_temperature` in your answer to one question, do not reassign it later on.\n",
        "\n",
        "*Note that some Ok tests in this notebook do not provide feedback on whether your answers are correct, only that they are in the required correct format. This is the case for all of the multiple choice questions.*"
      ]
    },
    {
      "cell_type": "code",
      "metadata": {
        "id": "w_BwSayXORvP",
        "outputId": "7bfd6f92-ff62-4662-925a-b795e8ae2e51"
      },
      "source": [
        "# Don't change this cell; just run it. \n",
        "\n",
        "import numpy as np\n",
        "from datascience import *\n",
        "\n",
        "# These lines do some fancy plotting magic.\n",
        "import matplotlib\n",
        "%matplotlib inline\n",
        "import matplotlib.pyplot as plt\n",
        "plt.style.use('fivethirtyeight')\n",
        "import warnings\n",
        "warnings.simplefilter('ignore', FutureWarning)\n",
        "\n",
        "import warnings\n",
        "warnings.filterwarnings('ignore')\n",
        "\n",
        "from client.api.notebook import Notebook\n",
        "ok = Notebook('hw05.ok')\n",
        "_ = ok.auth(inline=True)"
      ],
      "execution_count": null,
      "outputs": [
        {
          "output_type": "stream",
          "text": [
            "=====================================================================\n",
            "Assignment: Homework 5: Probability, Simulation, Estimation, and Assessing Models\n",
            "OK, version v1.13.11\n",
            "=====================================================================\n",
            "\n",
            "Successfully logged in as mahmood.jasim.bd@gmail.com\n"
          ],
          "name": "stdout"
        }
      ]
    },
    {
      "cell_type": "markdown",
      "metadata": {
        "id": "wbD7D_BwORvV"
      },
      "source": [
        "## 1. Probability\n"
      ]
    },
    {
      "cell_type": "markdown",
      "metadata": {
        "deletable": false,
        "id": "PRNSe6mcORvW"
      },
      "source": [
        "We will be testing some probability concepts that were introduced in lecture. For all of the following problems, we will introduce a problem statement and give you a proposed answer. Next, for each of the following questions, you must assign the provided variable to one of three integers. You are more than welcome to create more cells across this notebook to use for arithmetic operations or short programs to help answer the questions, but be sure to assign the provided variable to 1, 2, or 3 in the end. \n",
        "\n",
        "1. Assign the variable to 1 if you believe our proposed answer is too low.\n",
        "2. Assign the variable to 2 if you believe our proposed answer is correct.\n",
        "3. Assign the variable to 3 if you believe our proposed answer is too high.\n",
        "\n",
        "**Question 1.** You roll a 6-sided die 10 times. What is the chance of getting 10 sixes?\n",
        "\n",
        "Our proposed answer: $$(\\frac{1}{6})^{10}$$\n",
        "\n",
        "Assign `ten_sixes` to either 1, 2, or 3 depending on if you think our answer is too low, correct, or too high. "
      ]
    },
    {
      "cell_type": "code",
      "metadata": {
        "deletable": false,
        "id": "C0KkQpEXORvY",
        "outputId": "c6536c16-b41f-4740-d3f0-0fec9a29bec1"
      },
      "source": [
        "ten_sixes = ...\n",
        "ten_sixes"
      ],
      "execution_count": null,
      "outputs": [
        {
          "output_type": "execute_result",
          "data": {
            "text/plain": [
              "Ellipsis"
            ]
          },
          "metadata": {
            "tags": []
          },
          "execution_count": 2
        }
      ]
    },
    {
      "cell_type": "code",
      "metadata": {
        "id": "DdBHt-WNORvZ"
      },
      "source": [
        "#Solution\n",
        "ten_sixes = 2"
      ],
      "execution_count": null,
      "outputs": []
    },
    {
      "cell_type": "code",
      "metadata": {
        "deletable": false,
        "editable": false,
        "id": "YBusMdUhORvb",
        "outputId": "8fcc18b1-e558-4b4b-8be4-ba5c2f5a09f7"
      },
      "source": [
        "_ = ok.grade('q1_1')"
      ],
      "execution_count": null,
      "outputs": [
        {
          "output_type": "stream",
          "text": [
            "~~~~~~~~~~~~~~~~~~~~~~~~~~~~~~~~~~~~~~~~~~~~~~~~~~~~~~~~~~~~~~~~~~~~~\n",
            "Running tests\n",
            "\n",
            "---------------------------------------------------------------------\n",
            "Test summary\n",
            "    Passed: 1\n",
            "    Failed: 0\n",
            "[ooooooooook] 100.0% passed\n",
            "\n"
          ],
          "name": "stdout"
        }
      ]
    },
    {
      "cell_type": "markdown",
      "metadata": {
        "deletable": false,
        "editable": false,
        "id": "VmfdAVC2ORvc"
      },
      "source": [
        "**Question 2.** Take the same problem set-up as before, rolling a fair dice 10 times. What is the chance that every roll is less than or equal to 5?\n",
        "\n",
        "Our proposed answer: $$1 - (\\frac{1}{6})^{10}$$\n",
        "\n",
        "Assign `five_or_less` to either 1, 2, or 3. "
      ]
    },
    {
      "cell_type": "code",
      "metadata": {
        "deletable": false,
        "id": "K3GYvjrFORve",
        "outputId": "27f663ef-17cb-4f9a-a3b3-2e875c1c9eaa"
      },
      "source": [
        "five_or_less = ...\n",
        "five_or_less"
      ],
      "execution_count": null,
      "outputs": [
        {
          "output_type": "execute_result",
          "data": {
            "text/plain": [
              "Ellipsis"
            ]
          },
          "metadata": {
            "tags": []
          },
          "execution_count": 5
        }
      ]
    },
    {
      "cell_type": "code",
      "metadata": {
        "id": "bhxtkvBTORvj",
        "outputId": "900be16f-f754-447c-d2bc-0e78a8d7088c"
      },
      "source": [
        "#Solution\n",
        "correct = (5/6)**10 \n",
        "true    = 1-(1/6)**10\n",
        "print(correct, true)\n",
        "five_or_less = 3"
      ],
      "execution_count": null,
      "outputs": [
        {
          "output_type": "stream",
          "text": [
            "0.1615055828898458 0.9999999834618283\n"
          ],
          "name": "stdout"
        }
      ]
    },
    {
      "cell_type": "code",
      "metadata": {
        "deletable": false,
        "editable": false,
        "id": "lQWwPwVzORvk",
        "outputId": "d1971e43-fc15-4105-ae12-cc0f5b5f1379"
      },
      "source": [
        "_ = ok.grade('q1_2')"
      ],
      "execution_count": null,
      "outputs": [
        {
          "output_type": "stream",
          "text": [
            "~~~~~~~~~~~~~~~~~~~~~~~~~~~~~~~~~~~~~~~~~~~~~~~~~~~~~~~~~~~~~~~~~~~~~\n",
            "Running tests\n",
            "\n",
            "---------------------------------------------------------------------\n",
            "Test summary\n",
            "    Passed: 1\n",
            "    Failed: 0\n",
            "[ooooooooook] 100.0% passed\n",
            "\n"
          ],
          "name": "stdout"
        }
      ]
    },
    {
      "cell_type": "markdown",
      "metadata": {
        "deletable": false,
        "editable": false,
        "id": "jstmGOOqORvl"
      },
      "source": [
        "**Question 3.** Assume we are picking a lottery ticket. We must choose three distinct numbers from 1 to 100 and write them on a ticket. Next, someone picks three numbers one by one, each time without putting the previous number back in. We win if our numbers are all called. \n",
        "\n",
        "If we decide to play the game and pick our numbers as 12, 14, and 89, what is the chance that we win? \n",
        "\n",
        "Our proposed answer: $$(\\frac{3}{100})^3$$\n",
        "\n",
        "Assign `lottery` to either 1, 2, or 3. "
      ]
    },
    {
      "cell_type": "code",
      "metadata": {
        "deletable": false,
        "id": "yQR6ddAIORvm"
      },
      "source": [
        "lottery = ... "
      ],
      "execution_count": null,
      "outputs": []
    },
    {
      "cell_type": "code",
      "metadata": {
        "id": "qmPxuxC7ORvo",
        "outputId": "210ec95b-c9bb-4d45-bbf2-c2e49cbb0fe0"
      },
      "source": [
        "#Solution\n",
        "correct =  (1/100)*(1/99)*(1/98)\n",
        "true    = (3/100)**3\n",
        "print(correct, true)\n",
        "lottery = 3"
      ],
      "execution_count": null,
      "outputs": [
        {
          "output_type": "stream",
          "text": [
            "1.0307153164296022e-06 2.6999999999999996e-05\n"
          ],
          "name": "stdout"
        }
      ]
    },
    {
      "cell_type": "code",
      "metadata": {
        "deletable": false,
        "editable": false,
        "id": "f-R1h8RkORvp",
        "outputId": "40d84366-fde3-4989-f247-c81408514366"
      },
      "source": [
        "_ = ok.grade('q1_3')"
      ],
      "execution_count": null,
      "outputs": [
        {
          "output_type": "stream",
          "text": [
            "~~~~~~~~~~~~~~~~~~~~~~~~~~~~~~~~~~~~~~~~~~~~~~~~~~~~~~~~~~~~~~~~~~~~~\n",
            "Running tests\n",
            "\n",
            "---------------------------------------------------------------------\n",
            "Test summary\n",
            "    Passed: 1\n",
            "    Failed: 0\n",
            "[ooooooooook] 100.0% passed\n",
            "\n"
          ],
          "name": "stdout"
        }
      ]
    },
    {
      "cell_type": "markdown",
      "metadata": {
        "deletable": false,
        "editable": false,
        "id": "wgx77db9ORvp"
      },
      "source": [
        "**Question 4.** Assume we have two lists, list A and list B. List A contains the numbers [10,20,30], while list B contains the numbers [10,20,30,40]. We choose one number from list A randomly and one number from list B randomly. What is the chance that the number we drew from list A is larger than the number we drew from list B?\n",
        "\n",
        "Our proposed solution: $$1/4$$\n",
        "\n",
        "Assign `list_chances` to either 1, 2, or 3. "
      ]
    },
    {
      "cell_type": "code",
      "metadata": {
        "deletable": false,
        "id": "NE2DP3t5ORvp"
      },
      "source": [
        "list_chances = ..."
      ],
      "execution_count": null,
      "outputs": []
    },
    {
      "cell_type": "code",
      "metadata": {
        "id": "6YUaYWVgORvp",
        "outputId": "421168fb-f174-4b2b-e33c-2f06c91fc11f"
      },
      "source": [
        "#Solution\n",
        "lt=0\n",
        "n=0\n",
        "for i in [10,20,30]:\n",
        "    for j in [10,20,30,40]:\n",
        "        if(j<i):\n",
        "            lt=lt+1\n",
        "        n=n+1\n",
        "correct = lt/n\n",
        "true = 0.25\n",
        "print(correct, true)\n",
        "list_chances = 2"
      ],
      "execution_count": null,
      "outputs": [
        {
          "output_type": "stream",
          "text": [
            "0.25 0.25\n"
          ],
          "name": "stdout"
        }
      ]
    },
    {
      "cell_type": "code",
      "metadata": {
        "deletable": false,
        "editable": false,
        "id": "FMe-7FXwORvq",
        "outputId": "15f73f81-ebb7-495d-8e0c-a03b1893299d"
      },
      "source": [
        "_ = ok.grade('q1_4')"
      ],
      "execution_count": null,
      "outputs": [
        {
          "output_type": "stream",
          "text": [
            "~~~~~~~~~~~~~~~~~~~~~~~~~~~~~~~~~~~~~~~~~~~~~~~~~~~~~~~~~~~~~~~~~~~~~\n",
            "Running tests\n",
            "\n",
            "---------------------------------------------------------------------\n",
            "Test summary\n",
            "    Passed: 1\n",
            "    Failed: 0\n",
            "[ooooooooook] 100.0% passed\n",
            "\n"
          ],
          "name": "stdout"
        }
      ]
    },
    {
      "cell_type": "markdown",
      "metadata": {
        "id": "9c0PIMSuORvr"
      },
      "source": [
        "## 2. Monkeys Typing Shakespeare\n",
        "##### (...or at least the string \"datascience\")"
      ]
    },
    {
      "cell_type": "markdown",
      "metadata": {
        "id": "-j2j_q5DORvs"
      },
      "source": [
        "A monkey is banging repeatedly on the keys of a typewriter. Each time, the monkey is equally likely to hit any of the 26 lowercase letters of the English alphabet, regardless of what it has hit before. There are no other keys on the keyboard.\n",
        "\n",
        "**Question 1.** Suppose the monkey hits the keyboard 11 times.  Compute the chance that the monkey types the sequence `datascience`.  (Call this `datascience_chance`.) Use algebra and type in an arithmetic equation that Python can evalute."
      ]
    },
    {
      "cell_type": "code",
      "metadata": {
        "deletable": false,
        "id": "8fVlLICOORvs",
        "outputId": "5495c001-795f-45fc-f3ab-ed64d1e1e4d5"
      },
      "source": [
        "datascience_chance = ...\n",
        "datascience_chance"
      ],
      "execution_count": null,
      "outputs": [
        {
          "output_type": "execute_result",
          "data": {
            "text/plain": [
              "Ellipsis"
            ]
          },
          "metadata": {
            "tags": []
          },
          "execution_count": 14
        }
      ]
    },
    {
      "cell_type": "code",
      "metadata": {
        "id": "RJCveSpeORvt"
      },
      "source": [
        "#Solution\n",
        "datascience_chance = (1/26)**11"
      ],
      "execution_count": null,
      "outputs": []
    },
    {
      "cell_type": "code",
      "metadata": {
        "deletable": false,
        "id": "c1-Lxi1EORvt",
        "outputId": "3e7348ce-a0c8-4730-f386-12ea90a8cd23"
      },
      "source": [
        "_ = ok.grade('q2_1')"
      ],
      "execution_count": null,
      "outputs": [
        {
          "output_type": "stream",
          "text": [
            "~~~~~~~~~~~~~~~~~~~~~~~~~~~~~~~~~~~~~~~~~~~~~~~~~~~~~~~~~~~~~~~~~~~~~\n",
            "Running tests\n",
            "\n",
            "---------------------------------------------------------------------\n",
            "Test summary\n",
            "    Passed: 1\n",
            "    Failed: 0\n",
            "[ooooooooook] 100.0% passed\n",
            "\n"
          ],
          "name": "stdout"
        }
      ]
    },
    {
      "cell_type": "markdown",
      "metadata": {
        "id": "lXptwX39ORvv"
      },
      "source": [
        "**Question 2.** Write a function called `simulate_key_strike`.  It should take **no arguments**, and it should return a random one-character string that is equally likely to be any of the 26 lower-case English letters. "
      ]
    },
    {
      "cell_type": "code",
      "metadata": {
        "deletable": false,
        "id": "HXZp7xSbORvv"
      },
      "source": [
        "# We have provided the code below to compute a list called letters,\n",
        "# containing all the lower-case English letters.  Print it if you\n",
        "# want to verify what it contains.\n",
        "import string\n",
        "letters = list(string.ascii_lowercase)\n",
        "\n",
        "def simulate_key_strike():\n",
        "    \"\"\"Simulates one random key strike.\"\"\"\n",
        "    ...\n",
        "\n",
        "# An example call to your function:\n",
        "simulate_key_strike()"
      ],
      "execution_count": null,
      "outputs": []
    },
    {
      "cell_type": "code",
      "metadata": {
        "id": "dbQ9Xvr5ORvw",
        "outputId": "7c3cef01-d326-4c1c-a8a3-185596632f05"
      },
      "source": [
        "#Solution\n",
        "\n",
        "import string\n",
        "letters = list(string.ascii_lowercase)\n",
        "\n",
        "def simulate_key_strike():\n",
        "    \"\"\"Simulates one random key strike.\"\"\"\n",
        "    i = np.random.choice(26)\n",
        "    return(letters[i])\n",
        "\n",
        "# An example call to your function:\n",
        "simulate_key_strike()"
      ],
      "execution_count": null,
      "outputs": [
        {
          "output_type": "execute_result",
          "data": {
            "text/plain": [
              "'r'"
            ]
          },
          "metadata": {
            "tags": []
          },
          "execution_count": 18
        }
      ]
    },
    {
      "cell_type": "code",
      "metadata": {
        "deletable": false,
        "id": "mhkgXw-wORvx",
        "outputId": "e12b7591-9de9-4e41-c230-22a28f13efe3"
      },
      "source": [
        "_ = ok.grade('q2_2')"
      ],
      "execution_count": null,
      "outputs": [
        {
          "output_type": "stream",
          "text": [
            "~~~~~~~~~~~~~~~~~~~~~~~~~~~~~~~~~~~~~~~~~~~~~~~~~~~~~~~~~~~~~~~~~~~~~\n",
            "Running tests\n",
            "\n",
            "---------------------------------------------------------------------\n",
            "Test summary\n",
            "    Passed: 1\n",
            "    Failed: 0\n",
            "[ooooooooook] 100.0% passed\n",
            "\n"
          ],
          "name": "stdout"
        }
      ]
    },
    {
      "cell_type": "markdown",
      "metadata": {
        "id": "pPPCjR46ORvy"
      },
      "source": [
        "**Question 3.** Write a function called `simulate_several_key_strikes`.  It should take one argument: an integer specifying the number of key strikes to simulate. It should return a string containing that many characters, each one obtained from simulating a key strike by the monkey.\n",
        "\n",
        "*Hint:* If you make a list or array of the simulated key strikes, you can convert that to a string by calling `\"\".join(key_strikes_array)` (if your array is called `key_strikes_array`)."
      ]
    },
    {
      "cell_type": "code",
      "metadata": {
        "deletable": false,
        "id": "f4xqqNxsORvy"
      },
      "source": [
        "def simulate_several_key_strikes(num_strikes):\n",
        "    # Fill in this function.  Our solution used several lines\n",
        "    # of code.\n",
        "    ...\n",
        "\n",
        "# An example call to your function:\n",
        "simulate_several_key_strikes(11)"
      ],
      "execution_count": null,
      "outputs": []
    },
    {
      "cell_type": "code",
      "metadata": {
        "id": "7mKvz2JMORvy",
        "outputId": "0077f922-189f-4333-855c-024a27aa68aa"
      },
      "source": [
        "#Solution:\n",
        "def simulate_several_key_strikes(num_strikes):\n",
        "    # Fill in this function.  Our solution used several lines\n",
        "    # of code.\n",
        "    string_array = make_array()\n",
        "    for i in range(num_strikes):   \n",
        "        string_array =np.append(string_array, simulate_key_strike())\n",
        "    return(\"\".join(string_array))\n",
        "\n",
        "# An example call to your function:\n",
        "simulate_several_key_strikes(11)"
      ],
      "execution_count": null,
      "outputs": [
        {
          "output_type": "execute_result",
          "data": {
            "text/plain": [
              "'gmadnulxwvp'"
            ]
          },
          "metadata": {
            "tags": []
          },
          "execution_count": 21
        }
      ]
    },
    {
      "cell_type": "code",
      "metadata": {
        "deletable": false,
        "id": "bzC2ETX_ORvz",
        "outputId": "ad16566f-5bcb-4f47-e394-0023c4645b97"
      },
      "source": [
        "_ = ok.grade('q2_3')"
      ],
      "execution_count": null,
      "outputs": [
        {
          "output_type": "stream",
          "text": [
            "~~~~~~~~~~~~~~~~~~~~~~~~~~~~~~~~~~~~~~~~~~~~~~~~~~~~~~~~~~~~~~~~~~~~~\n",
            "Running tests\n",
            "\n",
            "---------------------------------------------------------------------\n",
            "Test summary\n",
            "    Passed: 1\n",
            "    Failed: 0\n",
            "[ooooooooook] 100.0% passed\n",
            "\n"
          ],
          "name": "stdout"
        }
      ]
    },
    {
      "cell_type": "markdown",
      "metadata": {
        "id": "w5AKuNxvORvz"
      },
      "source": [
        "**Question 4.** Use `simulate_several_key_strikes` 1000 times, each time simulating the monkey striking 11 keys.  Compute the proportion of times the monkey types `\"datascience\"`, calling that proportion `datascience_proportion`."
      ]
    },
    {
      "cell_type": "code",
      "metadata": {
        "deletable": false,
        "for_assignment_type": "student",
        "id": "M6nQ_BUuORvz",
        "outputId": "fab0bd79-077f-405d-c5b3-d9d587edb1df"
      },
      "source": [
        "# Your solution may take more than one line.\n",
        "...\n",
        "datascience_proportion = ...\n",
        "datascience_proportion"
      ],
      "execution_count": null,
      "outputs": [
        {
          "output_type": "execute_result",
          "data": {
            "text/plain": [
              "Ellipsis"
            ]
          },
          "metadata": {
            "tags": []
          },
          "execution_count": 23
        }
      ]
    },
    {
      "cell_type": "code",
      "metadata": {
        "id": "EQb-4FQbORvz",
        "outputId": "a56d76db-9dc3-41f3-9f8d-aaa1ee59d193"
      },
      "source": [
        "#Solution\n",
        "S=1000\n",
        "N=0\n",
        "for i in range(S):\n",
        "    N=N+(simulate_several_key_strikes(11)==\"datascience\")\n",
        "datascience_proportion=N/S\n",
        "datascience_proportion"
      ],
      "execution_count": null,
      "outputs": [
        {
          "output_type": "execute_result",
          "data": {
            "text/plain": [
              "0.0"
            ]
          },
          "metadata": {
            "tags": []
          },
          "execution_count": 24
        }
      ]
    },
    {
      "cell_type": "code",
      "metadata": {
        "deletable": false,
        "id": "6lJtDhyAORv1",
        "outputId": "b3b52679-41c9-4a6e-a452-bcd3adbb969c"
      },
      "source": [
        "_ = ok.grade('q2_4')"
      ],
      "execution_count": null,
      "outputs": [
        {
          "output_type": "stream",
          "text": [
            "~~~~~~~~~~~~~~~~~~~~~~~~~~~~~~~~~~~~~~~~~~~~~~~~~~~~~~~~~~~~~~~~~~~~~\n",
            "Running tests\n",
            "\n",
            "---------------------------------------------------------------------\n",
            "Test summary\n",
            "    Passed: 1\n",
            "    Failed: 0\n",
            "[ooooooooook] 100.0% passed\n",
            "\n"
          ],
          "name": "stdout"
        }
      ]
    },
    {
      "cell_type": "markdown",
      "metadata": {
        "id": "ZEh4cyt6ORv1"
      },
      "source": [
        "**Question 5.** Check the value your simulation computed for `datascience_proportion`.  Is your simulation a good way to estimate the chance that the monkey types `\"datascience\"` in 11 strikes (the answer to question 1)?  Why or why not?"
      ]
    },
    {
      "cell_type": "markdown",
      "metadata": {
        "deletable": false,
        "manual_grade": true,
        "manual_problem_id": "monkeys_5",
        "id": "v8guNzsyORv2"
      },
      "source": [
        "*Write your answer here, replacing this text.*"
      ]
    },
    {
      "cell_type": "markdown",
      "metadata": {
        "id": "GxoXeRX9ORv2"
      },
      "source": [
        "**Question 6.** Compute the chance that the monkey types the letter `\"e\"` at least once in the 11 strikes.  Call it `e_chance`. Use algebra and type in an arithmetic equation that Python can evalute. "
      ]
    },
    {
      "cell_type": "code",
      "metadata": {
        "deletable": false,
        "id": "9SKpKNIVORv2",
        "outputId": "8b5f5c70-8e4f-4d5a-82e6-9613b9cd9d22"
      },
      "source": [
        "e_chance = ...\n",
        "e_chance"
      ],
      "execution_count": null,
      "outputs": [
        {
          "output_type": "execute_result",
          "data": {
            "text/plain": [
              "Ellipsis"
            ]
          },
          "metadata": {
            "tags": []
          },
          "execution_count": 26
        }
      ]
    },
    {
      "cell_type": "code",
      "metadata": {
        "id": "KZtq9o9bORv4",
        "outputId": "f2335db0-e0fa-40a0-bc86-7a6f8df1eb7c"
      },
      "source": [
        "#Solution\n",
        "e_chance = 1-(25/26)**11\n",
        "e_chance"
      ],
      "execution_count": null,
      "outputs": [
        {
          "output_type": "execute_result",
          "data": {
            "text/plain": [
              "0.35041906843673165"
            ]
          },
          "metadata": {
            "tags": []
          },
          "execution_count": 27
        }
      ]
    },
    {
      "cell_type": "code",
      "metadata": {
        "deletable": false,
        "id": "ExH-Mw-iORv4",
        "outputId": "d9974d87-1a57-4cf4-dd61-4630f549f695"
      },
      "source": [
        "_ = ok.grade('q2_6')"
      ],
      "execution_count": null,
      "outputs": [
        {
          "output_type": "stream",
          "text": [
            "~~~~~~~~~~~~~~~~~~~~~~~~~~~~~~~~~~~~~~~~~~~~~~~~~~~~~~~~~~~~~~~~~~~~~\n",
            "Running tests\n",
            "\n",
            "---------------------------------------------------------------------\n",
            "Test summary\n",
            "    Passed: 1\n",
            "    Failed: 0\n",
            "[ooooooooook] 100.0% passed\n",
            "\n"
          ],
          "name": "stdout"
        }
      ]
    },
    {
      "cell_type": "markdown",
      "metadata": {
        "id": "co5hADIKORv5"
      },
      "source": [
        "**Question 7.** Do you think that a computer simulation is more or less effective to estimate `e_chance` compared to when we tried to estimate `datascience_chance` this way? Why or why not? (You don't need to write a simulation, but it is an interesting exercise.)"
      ]
    },
    {
      "cell_type": "markdown",
      "metadata": {
        "deletable": false,
        "manual_grade": true,
        "manual_problem_id": "monkeys_7",
        "id": "6lTemoTYORv5"
      },
      "source": [
        "*Write your answer here, replacing this text.*"
      ]
    },
    {
      "cell_type": "markdown",
      "metadata": {
        "id": "rc6R5qAzORv6"
      },
      "source": [
        "## 3. Sampling Basketball Players\n"
      ]
    },
    {
      "cell_type": "markdown",
      "metadata": {
        "id": "obN6QXjMORv6"
      },
      "source": [
        "This exercise uses salary data and game statistics for basketball players from the 2014-2015 NBA season. The data was collected from [Basketball-Reference](http://www.basketball-reference.com) and [Spotrac](http://www.spotrac.com).\n",
        "\n",
        "Run the next cell to load the two datasets."
      ]
    },
    {
      "cell_type": "code",
      "metadata": {
        "id": "14ttOd9NORv6",
        "outputId": "27933d55-ebd5-4342-d2b6-730d0aea6c60"
      },
      "source": [
        "player_data = Table.read_table('player_data.csv')\n",
        "salary_data = Table.read_table('salary_data.csv')\n",
        "player_data.show(3)\n",
        "salary_data.show(3)"
      ],
      "execution_count": null,
      "outputs": [
        {
          "output_type": "display_data",
          "data": {
            "text/html": [
              "<table border=\"1\" class=\"dataframe\">\n",
              "    <thead>\n",
              "        <tr>\n",
              "            <th>Name</th> <th>Age</th> <th>Team</th> <th>Games</th> <th>Rebounds</th> <th>Assists</th> <th>Steals</th> <th>Blocks</th> <th>Turnovers</th> <th>Points</th>\n",
              "        </tr>\n",
              "    </thead>\n",
              "    <tbody>\n",
              "        <tr>\n",
              "            <td>James Harden </td> <td>25  </td> <td>HOU </td> <td>81   </td> <td>459     </td> <td>565    </td> <td>154   </td> <td>60    </td> <td>321      </td> <td>2217  </td>\n",
              "        </tr>\n",
              "    </tbody>\n",
              "        <tr>\n",
              "            <td>Chris Paul   </td> <td>29  </td> <td>LAC </td> <td>82   </td> <td>376     </td> <td>838    </td> <td>156   </td> <td>15    </td> <td>190      </td> <td>1564  </td>\n",
              "        </tr>\n",
              "    </tbody>\n",
              "        <tr>\n",
              "            <td>Stephen Curry</td> <td>26  </td> <td>GSW </td> <td>80   </td> <td>341     </td> <td>619    </td> <td>163   </td> <td>16    </td> <td>249      </td> <td>1900  </td>\n",
              "        </tr>\n",
              "    </tbody>\n",
              "</table>\n",
              "<p>... (489 rows omitted)</p>"
            ],
            "text/plain": [
              "<IPython.core.display.HTML object>"
            ]
          },
          "metadata": {
            "tags": []
          }
        },
        {
          "output_type": "display_data",
          "data": {
            "text/html": [
              "<table border=\"1\" class=\"dataframe\">\n",
              "    <thead>\n",
              "        <tr>\n",
              "            <th>PlayerName</th> <th>Salary</th>\n",
              "        </tr>\n",
              "    </thead>\n",
              "    <tbody>\n",
              "        <tr>\n",
              "            <td>Kobe Bryant      </td> <td>23500000</td>\n",
              "        </tr>\n",
              "    </tbody>\n",
              "        <tr>\n",
              "            <td>Amar'e Stoudemire</td> <td>23410988</td>\n",
              "        </tr>\n",
              "    </tbody>\n",
              "        <tr>\n",
              "            <td>Joe Johnson      </td> <td>23180790</td>\n",
              "        </tr>\n",
              "    </tbody>\n",
              "</table>\n",
              "<p>... (489 rows omitted)</p>"
            ],
            "text/plain": [
              "<IPython.core.display.HTML object>"
            ]
          },
          "metadata": {
            "tags": []
          }
        }
      ]
    },
    {
      "cell_type": "markdown",
      "metadata": {
        "id": "WUQTvhI3ORv7"
      },
      "source": [
        "We would like to relate players' game statistics to their salaries, so we have computed a table called `full_data` that includes one row for each player who is listed in both `player_data` and `salary_data` using the table `join` method.  It includes all the columns from `player_data` and `salary_data`, except the `\"PlayerName\"` column."
      ]
    },
    {
      "cell_type": "code",
      "metadata": {
        "deletable": false,
        "id": "aqo-t8hHORv8",
        "outputId": "d567c602-5f23-4421-d544-1d804e45537f"
      },
      "source": [
        "full_data = player_data.join(\"Name\", salary_data, \"PlayerName\")\n",
        "full_data"
      ],
      "execution_count": null,
      "outputs": [
        {
          "output_type": "execute_result",
          "data": {
            "text/html": [
              "<table border=\"1\" class=\"dataframe\">\n",
              "    <thead>\n",
              "        <tr>\n",
              "            <th>Name</th> <th>Age</th> <th>Team</th> <th>Games</th> <th>Rebounds</th> <th>Assists</th> <th>Steals</th> <th>Blocks</th> <th>Turnovers</th> <th>Points</th> <th>Salary</th>\n",
              "        </tr>\n",
              "    </thead>\n",
              "    <tbody>\n",
              "        <tr>\n",
              "            <td>A.J. Price     </td> <td>28  </td> <td>TOT </td> <td>26   </td> <td>32      </td> <td>46     </td> <td>7     </td> <td>0     </td> <td>14       </td> <td>133   </td> <td>62552   </td>\n",
              "        </tr>\n",
              "    </tbody>\n",
              "        <tr>\n",
              "            <td>Aaron Brooks   </td> <td>30  </td> <td>CHI </td> <td>82   </td> <td>166     </td> <td>261    </td> <td>54    </td> <td>15    </td> <td>157      </td> <td>954   </td> <td>1145685 </td>\n",
              "        </tr>\n",
              "    </tbody>\n",
              "        <tr>\n",
              "            <td>Aaron Gordon   </td> <td>19  </td> <td>ORL </td> <td>47   </td> <td>169     </td> <td>33     </td> <td>21    </td> <td>22    </td> <td>38       </td> <td>243   </td> <td>3992040 </td>\n",
              "        </tr>\n",
              "    </tbody>\n",
              "        <tr>\n",
              "            <td>Adreian Payne  </td> <td>23  </td> <td>TOT </td> <td>32   </td> <td>162     </td> <td>30     </td> <td>19    </td> <td>9     </td> <td>44       </td> <td>213   </td> <td>1855320 </td>\n",
              "        </tr>\n",
              "    </tbody>\n",
              "        <tr>\n",
              "            <td>Al Horford     </td> <td>28  </td> <td>ATL </td> <td>76   </td> <td>544     </td> <td>244    </td> <td>68    </td> <td>98    </td> <td>100      </td> <td>1156  </td> <td>12000000</td>\n",
              "        </tr>\n",
              "    </tbody>\n",
              "        <tr>\n",
              "            <td>Al Jefferson   </td> <td>30  </td> <td>CHO </td> <td>65   </td> <td>548     </td> <td>113    </td> <td>47    </td> <td>84    </td> <td>68       </td> <td>1082  </td> <td>13666667</td>\n",
              "        </tr>\n",
              "    </tbody>\n",
              "        <tr>\n",
              "            <td>Al-Farouq Aminu</td> <td>24  </td> <td>DAL </td> <td>74   </td> <td>342     </td> <td>59     </td> <td>70    </td> <td>62    </td> <td>55       </td> <td>412   </td> <td>1100602 </td>\n",
              "        </tr>\n",
              "    </tbody>\n",
              "        <tr>\n",
              "            <td>Alan Anderson  </td> <td>32  </td> <td>BRK </td> <td>74   </td> <td>204     </td> <td>83     </td> <td>56    </td> <td>5     </td> <td>60       </td> <td>545   </td> <td>1276061 </td>\n",
              "        </tr>\n",
              "    </tbody>\n",
              "        <tr>\n",
              "            <td>Alec Burks     </td> <td>23  </td> <td>UTA </td> <td>27   </td> <td>114     </td> <td>82     </td> <td>17    </td> <td>5     </td> <td>52       </td> <td>374   </td> <td>3034356 </td>\n",
              "        </tr>\n",
              "    </tbody>\n",
              "        <tr>\n",
              "            <td>Alex Kirk      </td> <td>23  </td> <td>CLE </td> <td>5    </td> <td>1       </td> <td>1      </td> <td>0     </td> <td>0     </td> <td>0        </td> <td>4     </td> <td>507336  </td>\n",
              "        </tr>\n",
              "    </tbody>\n",
              "</table>\n",
              "<p>... (482 rows omitted)</p>"
            ],
            "text/plain": [
              "Name            | Age  | Team | Games | Rebounds | Assists | Steals | Blocks | Turnovers | Points | Salary\n",
              "A.J. Price      | 28   | TOT  | 26    | 32       | 46      | 7      | 0      | 14        | 133    | 62552\n",
              "Aaron Brooks    | 30   | CHI  | 82    | 166      | 261     | 54     | 15     | 157       | 954    | 1145685\n",
              "Aaron Gordon    | 19   | ORL  | 47    | 169      | 33      | 21     | 22     | 38        | 243    | 3992040\n",
              "Adreian Payne   | 23   | TOT  | 32    | 162      | 30      | 19     | 9      | 44        | 213    | 1855320\n",
              "Al Horford      | 28   | ATL  | 76    | 544      | 244     | 68     | 98     | 100       | 1156   | 12000000\n",
              "Al Jefferson    | 30   | CHO  | 65    | 548      | 113     | 47     | 84     | 68        | 1082   | 13666667\n",
              "Al-Farouq Aminu | 24   | DAL  | 74    | 342      | 59      | 70     | 62     | 55        | 412    | 1100602\n",
              "Alan Anderson   | 32   | BRK  | 74    | 204      | 83      | 56     | 5      | 60        | 545    | 1276061\n",
              "Alec Burks      | 23   | UTA  | 27    | 114      | 82      | 17     | 5      | 52        | 374    | 3034356\n",
              "Alex Kirk       | 23   | CLE  | 5     | 1        | 1       | 0      | 0      | 0         | 4      | 507336\n",
              "... (482 rows omitted)"
            ]
          },
          "metadata": {
            "tags": []
          },
          "execution_count": 30
        }
      ]
    },
    {
      "cell_type": "markdown",
      "metadata": {
        "id": "bJcUsfrwORv8"
      },
      "source": [
        "Basketball team managers would like to hire players who perform well but don't command high salaries.  From this perspective, a very crude measure of a player's *value* to their team is the number of points the player scored in a season for every **\\$1000 of salary** (*Note*: the `Salary` column is in dollars, not thousands of dollars). For example, Al Horford scored 1156 points and has a salary of **\\$12 million.** This is equivalent to 12,000 thousands of dollars, so his value is $\\frac{1156}{12000}$.\n",
        "\n",
        "**Question 2.** Create a table called `full_data_with_value` that's a copy of `full_data`, with an extra column called `\"Value\"` containing each player's value (according to our crude measure).  Then make a histogram of players' values.  **Specify bins that make the histogram informative, and don't forget your units!** Remember that `hist()` takes in an optional third argument that allows you to specify the units!\n",
        "\n",
        "*Hint*: Informative histograms contain a majority of the data and **exclude outliers**."
      ]
    },
    {
      "cell_type": "code",
      "metadata": {
        "deletable": false,
        "manual_grade": true,
        "manual_problem_id": "sampling_players_2",
        "id": "vXSK6qFNORv9"
      },
      "source": [
        "full_data_with_value = ...\n",
        "..."
      ],
      "execution_count": null,
      "outputs": []
    },
    {
      "cell_type": "code",
      "metadata": {
        "id": "qwksc_y2ORv_",
        "outputId": "4e074960-fdee-4a31-d26c-eacf8dfef15c"
      },
      "source": [
        "#Solution\n",
        "Salary = full_data.column(\"Salary\")/1000\n",
        "Value  = full_data.column(\"Points\")/Salary\n",
        "full_data_with_value = full_data.with_column(\"Value\", Value)\n",
        "bins=np.arange(0,1.2,0.1)\n",
        "full_data_with_value.hist(\"Value\",bins=bins,unit=\"Unit Value\")"
      ],
      "execution_count": null,
      "outputs": [
        {
          "output_type": "display_data",
          "data": {
            "image/png": "[encoded data removed]",
            "text/plain": [
              "<matplotlib.figure.Figure at 0xa720c24c>"
            ]
          },
          "metadata": {
            "tags": []
          }
        }
      ]
    },
    {
      "cell_type": "code",
      "metadata": {
        "id": "isZRGmuXORwA"
      },
      "source": [
        ""
      ],
      "execution_count": null,
      "outputs": []
    },
    {
      "cell_type": "markdown",
      "metadata": {
        "id": "i9VZj21OORwB"
      },
      "source": [
        "Now suppose we weren't able to find out every player's salary (perhaps it was too costly to interview each player).  Instead, we have gathered a *simple random sample* of 100 players' salaries.  The cell below loads those data."
      ]
    },
    {
      "cell_type": "code",
      "metadata": {
        "scrolled": true,
        "id": "S9T3JWNAORwC",
        "outputId": "9b3e38af-7214-48d6-d4f9-3e9d807b89ca"
      },
      "source": [
        "sample_salary_data = Table.read_table(\"sample_salary_data.csv\")\n",
        "sample_salary_data.show(3)"
      ],
      "execution_count": null,
      "outputs": [
        {
          "output_type": "display_data",
          "data": {
            "text/html": [
              "<table border=\"1\" class=\"dataframe\">\n",
              "    <thead>\n",
              "        <tr>\n",
              "            <th>PlayerName</th> <th>Salary</th>\n",
              "        </tr>\n",
              "    </thead>\n",
              "    <tbody>\n",
              "        <tr>\n",
              "            <td>C.J. Watson     </td> <td>2106720</td>\n",
              "        </tr>\n",
              "    </tbody>\n",
              "        <tr>\n",
              "            <td>Taj Gibson      </td> <td>8000000</td>\n",
              "        </tr>\n",
              "    </tbody>\n",
              "        <tr>\n",
              "            <td>Jerrelle Benimon</td> <td>35000  </td>\n",
              "        </tr>\n",
              "    </tbody>\n",
              "</table>\n",
              "<p>... (97 rows omitted)</p>"
            ],
            "text/plain": [
              "<IPython.core.display.HTML object>"
            ]
          },
          "metadata": {
            "tags": []
          }
        }
      ]
    },
    {
      "cell_type": "markdown",
      "metadata": {
        "id": "E1eax5cAORwD"
      },
      "source": [
        "**Question 3.** Make a histogram of the values of the players in `sample_salary_data`, using the same method for measuring value we used in question 2.  **Use the same bins, too.**  \n",
        "\n",
        "*Hint:* This will take several steps, including using a table join as shown above."
      ]
    },
    {
      "cell_type": "code",
      "metadata": {
        "deletable": false,
        "for_assignment_type": "student",
        "manual_grade": true,
        "manual_problem_id": "sampling_players_3",
        "id": "_57ayJEzORwD"
      },
      "source": [
        "# Use this cell to make your histogram."
      ],
      "execution_count": null,
      "outputs": []
    },
    {
      "cell_type": "code",
      "metadata": {
        "id": "kEJIamgzORwE",
        "outputId": "10a3ccdc-afb0-405b-b1e9-517ba35a8a2d"
      },
      "source": [
        "#Solution\n",
        "sample_data = player_data.join(\"Name\", sample_salary_data, \"PlayerName\")\n",
        "sample_data\n",
        "\n",
        "SampleSalary = sample_data.column(\"Salary\")/1000\n",
        "SampleValue  = sample_data.column(\"Points\")/SampleSalary\n",
        "sample_data_with_value = sample_data.with_column(\"Value\", SampleValue)\n",
        "bins=np.arange(0,1.2,0.1)\n",
        "sample_data_with_value.hist(\"Value\",bins=bins,unit=\"Unit Value\")"
      ],
      "execution_count": null,
      "outputs": [
        {
          "output_type": "display_data",
          "data": {
            "image/png": "[encoded data removed]",
            "text/plain": [
              "<matplotlib.figure.Figure at 0xa6f016ac>"
            ]
          },
          "metadata": {
            "tags": []
          }
        }
      ]
    },
    {
      "cell_type": "markdown",
      "metadata": {
        "id": "3lHzJtpQORwF"
      },
      "source": [
        "Now let us summarize what we have seen.  To guide you, we have written most of the summary already.\n",
        "\n",
        "**Question 4.** Complete the statements below by filling in the [SQUARE BRACKETS]. \n",
        "\n",
        "*Hint 1:* For a refresher on distribution types, check out [Section 10.1](https://www.inferentialthinking.com/chapters/10/1/empirical-distributions.html)\n",
        "\n",
        "*Hint 2:* The `hist()` table method ignores data points outside the range of its bins, but you may ignore this fact and calculate the areas of the bars using what you know about histograms from lecture. "
      ]
    },
    {
      "cell_type": "markdown",
      "metadata": {
        "deletable": false,
        "for_assignment_type": "student",
        "manual_grade": true,
        "manual_problem_id": "sampling_players_4",
        "id": "eA03enB_ORwF"
      },
      "source": [
        "The plot in question 2 displayed a(n) [DISTRIBUTION TYPE] distribution of the population of [A NUMBER] players.  The areas of the bars in the plot sum to [A NUMBER].\n",
        "\n",
        "The plot in question 3 displayed a(n) [DISTRIBUTION TYPE] distribution of the sample of [A NUMBER] players.  The areas of the bars in the plot sum to [A NUMBER]."
      ]
    },
    {
      "cell_type": "markdown",
      "metadata": {
        "id": "rbfno132ORwG"
      },
      "source": [
        "The plot in question 2 displayed a probability distribution of the population of 582 players. The areas of the bars in the plot sum to 1.\n",
        "\n",
        "The plot in question 3 displayed an empirical distribution of the sample of 100 players. The areas of the bars in the plot sum to 1.\n"
      ]
    },
    {
      "cell_type": "markdown",
      "metadata": {
        "id": "Ca8-oOs3ORwH"
      },
      "source": [
        "**Question 5.** For which range of values does the plot in question 3 better depict the distribution of the **population's player values**: 0 to 0.5, or above 0.5? Explain your answer. "
      ]
    },
    {
      "cell_type": "markdown",
      "metadata": {
        "deletable": false,
        "manual_grade": true,
        "manual_problem_id": "sampling_players_5",
        "id": "8y_ETuO9ORwH"
      },
      "source": [
        "*Write your answer here, replacing this text.*"
      ]
    },
    {
      "cell_type": "markdown",
      "metadata": {
        "id": "gF6cMRIFORwH"
      },
      "source": [
        "Solution: The range 0 to 0.5 better depicts the distribution of the population's player values since the empirical distribution better matches the population distribution over this range. Above 0.5, the empirical distribution does not match the population values well.  "
      ]
    },
    {
      "cell_type": "markdown",
      "metadata": {
        "id": "AdPdcl1EORwH"
      },
      "source": [
        "## 4. Earthquakes\n"
      ]
    },
    {
      "cell_type": "markdown",
      "metadata": {
        "id": "He2M4dd-ORwI"
      },
      "source": [
        "The next cell loads a table containing information about **every earthquake with a magnitude above 4.5** in 2017, compiled by the US Geological Survey. (source: https://earthquake.usgs.gov/earthquakes/search/)"
      ]
    },
    {
      "cell_type": "code",
      "metadata": {
        "ExecuteTime": {
          "end_time": "2018-02-17T03:01:37.654915Z",
          "start_time": "2018-02-17T03:01:37.599746Z"
        },
        "id": "VIL_VDxXORwI",
        "outputId": "4e35a404-e322-4280-d701-2d49ee439be6"
      },
      "source": [
        "earthquakes = Table().read_table('earthquakes_2017.csv').select(['time', 'mag', 'place'])\n",
        "earthquakes"
      ],
      "execution_count": null,
      "outputs": [
        {
          "output_type": "execute_result",
          "data": {
            "text/html": [
              "<table border=\"1\" class=\"dataframe\">\n",
              "    <thead>\n",
              "        <tr>\n",
              "            <th>time</th> <th>mag</th> <th>place</th>\n",
              "        </tr>\n",
              "    </thead>\n",
              "    <tbody>\n",
              "        <tr>\n",
              "            <td>2017-12-31T23:48:50.980Z</td> <td>4.8 </td> <td>30km SSE of Pagan, Northern Mariana Islands      </td>\n",
              "        </tr>\n",
              "    </tbody>\n",
              "        <tr>\n",
              "            <td>2017-12-31T20:59:02.500Z</td> <td>5.1 </td> <td>Southern East Pacific Rise                       </td>\n",
              "        </tr>\n",
              "    </tbody>\n",
              "        <tr>\n",
              "            <td>2017-12-31T20:27:49.450Z</td> <td>5.2 </td> <td>Chagos Archipelago region                        </td>\n",
              "        </tr>\n",
              "    </tbody>\n",
              "        <tr>\n",
              "            <td>2017-12-31T19:42:41.250Z</td> <td>4.6 </td> <td>18km NE of Hasaki, Japan                         </td>\n",
              "        </tr>\n",
              "    </tbody>\n",
              "        <tr>\n",
              "            <td>2017-12-31T16:02:59.920Z</td> <td>4.5 </td> <td>Western Xizang                                   </td>\n",
              "        </tr>\n",
              "    </tbody>\n",
              "        <tr>\n",
              "            <td>2017-12-31T15:50:22.510Z</td> <td>4.5 </td> <td>156km SSE of Longyearbyen, Svalbard and Jan Mayen</td>\n",
              "        </tr>\n",
              "    </tbody>\n",
              "        <tr>\n",
              "            <td>2017-12-31T14:53:32.590Z</td> <td>5.1 </td> <td>41km S of Daliao, Philippines                    </td>\n",
              "        </tr>\n",
              "    </tbody>\n",
              "        <tr>\n",
              "            <td>2017-12-31T14:51:58.200Z</td> <td>5.1 </td> <td>132km SSW of Lata, Solomon Islands               </td>\n",
              "        </tr>\n",
              "    </tbody>\n",
              "        <tr>\n",
              "            <td>2017-12-31T12:24:13.150Z</td> <td>4.6 </td> <td>79km SSW of Hirara, Japan                        </td>\n",
              "        </tr>\n",
              "    </tbody>\n",
              "        <tr>\n",
              "            <td>2017-12-31T04:02:18.500Z</td> <td>4.8 </td> <td>10km W of Korini, Greece                         </td>\n",
              "        </tr>\n",
              "    </tbody>\n",
              "</table>\n",
              "<p>... (6350 rows omitted)</p>"
            ],
            "text/plain": [
              "time                     | mag  | place\n",
              "2017-12-31T23:48:50.980Z | 4.8  | 30km SSE of Pagan, Northern Mariana Islands\n",
              "2017-12-31T20:59:02.500Z | 5.1  | Southern East Pacific Rise\n",
              "2017-12-31T20:27:49.450Z | 5.2  | Chagos Archipelago region\n",
              "2017-12-31T19:42:41.250Z | 4.6  | 18km NE of Hasaki, Japan\n",
              "2017-12-31T16:02:59.920Z | 4.5  | Western Xizang\n",
              "2017-12-31T15:50:22.510Z | 4.5  | 156km SSE of Longyearbyen, Svalbard and Jan Mayen\n",
              "2017-12-31T14:53:32.590Z | 5.1  | 41km S of Daliao, Philippines\n",
              "2017-12-31T14:51:58.200Z | 5.1  | 132km SSW of Lata, Solomon Islands\n",
              "2017-12-31T12:24:13.150Z | 4.6  | 79km SSW of Hirara, Japan\n",
              "2017-12-31T04:02:18.500Z | 4.8  | 10km W of Korini, Greece\n",
              "... (6350 rows omitted)"
            ]
          },
          "metadata": {
            "tags": []
          },
          "execution_count": 36
        }
      ]
    },
    {
      "cell_type": "markdown",
      "metadata": {
        "id": "VaaCjRgZORwJ"
      },
      "source": [
        "There are a several earthquakes that occurred in 2017 that we're interested in, and generally, we won't have access to this large population. Instead, if we sample correctly, we can take a small subsample of earthquakes in this year to get an idea about the distribution of magnitudes throughout the year!"
      ]
    },
    {
      "cell_type": "markdown",
      "metadata": {
        "id": "wdHjSKt-ORwK"
      },
      "source": [
        "**Question 1.** In the following lines of code, we take two different samples from the earthquake table, and calculate the mean of the magnitudes of these earthquakes. Are these samples representative of the population of earthquakes in the original table (that is, the should we expect the mean to be close to the population mean)? \n",
        "\n",
        "*Hint:* Consider the ordering of the `earthquakes` table. "
      ]
    },
    {
      "cell_type": "code",
      "metadata": {
        "ExecuteTime": {
          "end_time": "2018-02-17T03:01:37.666923Z",
          "start_time": "2018-02-17T03:01:37.656896Z"
        },
        "id": "CZxdjdxVORwK",
        "outputId": "c7cac04e-b632-42de-d3a4-09ba098abd1d"
      },
      "source": [
        "sample1 = earthquakes.sort('mag', descending = True).take(np.arange(100))\n",
        "sample1_magnitude_mean = np.mean(sample1.column('mag'))\n",
        "sample2 = earthquakes.take(np.arange(100))\n",
        "sample2_magnitude_mean = np.mean(sample2.column('mag'))\n",
        "[sample1_magnitude_mean, sample2_magnitude_mean]"
      ],
      "execution_count": null,
      "outputs": [
        {
          "output_type": "execute_result",
          "data": {
            "text/plain": [
              "[6.422999999999999, 4.775]"
            ]
          },
          "metadata": {
            "tags": []
          },
          "execution_count": 37
        }
      ]
    },
    {
      "cell_type": "markdown",
      "metadata": {
        "deletable": false,
        "manual_problem_id": "earthquakes_1",
        "id": "B7XMQ4UVORwK"
      },
      "source": [
        "*Write your answer here, replacing this text.*"
      ]
    },
    {
      "cell_type": "markdown",
      "metadata": {
        "id": "REalpXKsORwK"
      },
      "source": [
        "For the first sample, no. The first sample takes the first 100 rows after sorting by magnitude in decreasing order. That means the 100 largest quakes will be sampled. For the second sample, it depends on how the data are ordered in the table. The table appears to be sorted by date/time, so this may or may not be a representative sample depending on whether earthquare magnitudes are independent."
      ]
    },
    {
      "cell_type": "markdown",
      "metadata": {
        "id": "WQXsHyo8ORwK"
      },
      "source": [
        "**Question 2.** Write code producing a sample that should represent the population of size 500 then take the mean of the magnitudes of the earthquakes in this sample. Assign these to `representative_sample` and `representative_mean` respectively. \n",
        "\n",
        "*Hint:* In class, what sort of samples can properly represent the population?"
      ]
    },
    {
      "cell_type": "code",
      "metadata": {
        "ExecuteTime": {
          "end_time": "2018-02-17T03:01:37.677950Z",
          "start_time": "2018-02-17T03:01:37.667925Z"
        },
        "deletable": false,
        "id": "P8XMQfvOORwL",
        "outputId": "af462e7a-1df4-4745-bea3-dd4ea7713fc5"
      },
      "source": [
        "representative_sample = ...\n",
        "representative_mean = ...\n",
        "representative_mean"
      ],
      "execution_count": null,
      "outputs": [
        {
          "output_type": "execute_result",
          "data": {
            "text/plain": [
              "Ellipsis"
            ]
          },
          "metadata": {
            "tags": []
          },
          "execution_count": 38
        }
      ]
    },
    {
      "cell_type": "code",
      "metadata": {
        "id": "b-gx7jwVORwM",
        "outputId": "0f49eb27-3616-4a28-8c99-3aa8f78bcfcb"
      },
      "source": [
        "#Solution\n",
        "representative_sample =earthquakes.sample(500)\n",
        "representative_mean = representative_sample.column(\"mag\").mean()\n",
        "representative_mean"
      ],
      "execution_count": null,
      "outputs": [
        {
          "output_type": "execute_result",
          "data": {
            "text/plain": [
              "4.804399999999999"
            ]
          },
          "metadata": {
            "tags": []
          },
          "execution_count": 39
        }
      ]
    },
    {
      "cell_type": "code",
      "metadata": {
        "ExecuteTime": {
          "end_time": "2018-02-17T03:01:37.706026Z",
          "start_time": "2018-02-17T03:01:37.680959Z"
        },
        "deletable": false,
        "editable": false,
        "scrolled": false,
        "id": "oguFsPxpORwM",
        "outputId": "81a29fd4-c6c9-4337-ef16-0deeb9546afa"
      },
      "source": [
        "_ = ok.grade('q4_2')"
      ],
      "execution_count": null,
      "outputs": [
        {
          "output_type": "stream",
          "text": [
            "~~~~~~~~~~~~~~~~~~~~~~~~~~~~~~~~~~~~~~~~~~~~~~~~~~~~~~~~~~~~~~~~~~~~~\n",
            "Running tests\n",
            "\n",
            "---------------------------------------------------------------------\n",
            "Test summary\n",
            "    Passed: 1\n",
            "    Failed: 0\n",
            "[ooooooooook] 100.0% passed\n",
            "\n"
          ],
          "name": "stdout"
        }
      ]
    },
    {
      "cell_type": "markdown",
      "metadata": {
        "id": "47NvpFwoORwM"
      },
      "source": [
        "**Question 3.** Suppose we want to figure out what the biggest magnitude earthquake was in 2017, but we are tasked with doing this only with a sample of 500 from the earthquakes table. \n",
        "\n",
        "To determine whether trying to find the biggest magnitude from a sample is a plausible idea, write code that simulates the maximum of a random sample of size 500 from the `earthquakes` table 5000 times. Assign your array of maximums to `maximums`. "
      ]
    },
    {
      "cell_type": "code",
      "metadata": {
        "ExecuteTime": {
          "end_time": "2018-02-17T03:01:44.666538Z",
          "start_time": "2018-02-17T03:01:37.708032Z"
        },
        "deletable": false,
        "id": "0zCGvUBtORwN"
      },
      "source": [
        "maximums = ...\n",
        "for i in np.arange(5000): \n",
        "    maximums = ..."
      ],
      "execution_count": null,
      "outputs": []
    },
    {
      "cell_type": "code",
      "metadata": {
        "id": "br4EhzLyORwN",
        "outputId": "5b8d9a65-17ba-4cc7-c6e1-2ac133fd5191"
      },
      "source": [
        "#Solution\n",
        "maximums = make_array()\n",
        "for i in np.arange(5000): \n",
        "    maximums = np.append(maximums, earthquakes.sample(500).column(\"mag\").max())\n",
        "maximums"
      ],
      "execution_count": null,
      "outputs": [
        {
          "output_type": "execute_result",
          "data": {
            "text/plain": [
              "array([6.7, 6.7, 8.2, ..., 7.7, 6.9, 8.2])"
            ]
          },
          "metadata": {
            "tags": []
          },
          "execution_count": 42
        }
      ]
    },
    {
      "cell_type": "code",
      "metadata": {
        "id": "OsXEihHsORwN",
        "outputId": "ea3c6a7f-9385-4895-e573-8b8b5d0b4dd5"
      },
      "source": [
        "#Histogram of your maximums\n",
        "Table().with_column('Largest magnitude in sample', maximums).hist('Largest magnitude in sample') "
      ],
      "execution_count": null,
      "outputs": [
        {
          "output_type": "display_data",
          "data": {
            "image/png": "[encoded data removed]",
            "text/plain": [
              "<matplotlib.figure.Figure at 0xa73484cc>"
            ]
          },
          "metadata": {
            "tags": []
          }
        }
      ]
    },
    {
      "cell_type": "code",
      "metadata": {
        "ExecuteTime": {
          "end_time": "2018-02-17T03:01:44.687595Z",
          "start_time": "2018-02-17T03:01:44.668544Z"
        },
        "deletable": false,
        "editable": false,
        "id": "c9vZTDebORwO",
        "outputId": "94cceb95-94b2-48cb-a86f-225ece8ad884"
      },
      "source": [
        "_ = ok.grade('q4_3')"
      ],
      "execution_count": null,
      "outputs": [
        {
          "output_type": "stream",
          "text": [
            "~~~~~~~~~~~~~~~~~~~~~~~~~~~~~~~~~~~~~~~~~~~~~~~~~~~~~~~~~~~~~~~~~~~~~\n",
            "Running tests\n",
            "\n",
            "---------------------------------------------------------------------\n",
            "Test summary\n",
            "    Passed: 1\n",
            "    Failed: 0\n",
            "[ooooooooook] 100.0% passed\n",
            "\n"
          ],
          "name": "stdout"
        }
      ]
    },
    {
      "cell_type": "markdown",
      "metadata": {
        "id": "rAHqv1OOORwQ"
      },
      "source": [
        "**Question 4.** We want to see if a random sample of size 500 is likely to help you determine the largest magnitude earthquake in the population. To help determine this, find the magnitude of the (actual) strongest earthquake in 2017.\n",
        "\n",
        "*Write your explanation here.*"
      ]
    },
    {
      "cell_type": "code",
      "metadata": {
        "ExecuteTime": {
          "end_time": "2018-02-17T03:01:44.696619Z",
          "start_time": "2018-02-17T03:01:44.689602Z"
        },
        "deletable": false,
        "id": "35SHc1y9ORwQ",
        "outputId": "07ac834d-ae83-4954-f0f0-f350667ef4f6"
      },
      "source": [
        "strongest_earthquake_magnitude = ...\n",
        "strongest_earthquake_magnitude"
      ],
      "execution_count": null,
      "outputs": [
        {
          "output_type": "execute_result",
          "data": {
            "text/plain": [
              "Ellipsis"
            ]
          },
          "metadata": {
            "tags": []
          },
          "execution_count": 45
        }
      ]
    },
    {
      "cell_type": "code",
      "metadata": {
        "id": "OdvwaNbSORwS",
        "outputId": "0b2785b5-2d3a-4bb3-809b-c9119f02e2c9"
      },
      "source": [
        "#Solutions\n",
        "strongest_earthquake_magnitude = earthquakes.column(\"mag\").max()\n",
        "strongest_earthquake_magnitude"
      ],
      "execution_count": null,
      "outputs": [
        {
          "output_type": "execute_result",
          "data": {
            "text/plain": [
              "8.2"
            ]
          },
          "metadata": {
            "tags": []
          },
          "execution_count": 46
        }
      ]
    },
    {
      "cell_type": "code",
      "metadata": {
        "ExecuteTime": {
          "end_time": "2018-02-17T03:01:44.714672Z",
          "start_time": "2018-02-17T03:01:44.699631Z"
        },
        "deletable": false,
        "editable": false,
        "id": "WtYayF3DORwS",
        "outputId": "5d9683ba-116e-4bdc-c7fc-994ee2cb5e41"
      },
      "source": [
        "_ = ok.grade('q4_4')"
      ],
      "execution_count": null,
      "outputs": [
        {
          "output_type": "stream",
          "text": [
            "~~~~~~~~~~~~~~~~~~~~~~~~~~~~~~~~~~~~~~~~~~~~~~~~~~~~~~~~~~~~~~~~~~~~~\n",
            "Running tests\n",
            "\n",
            "---------------------------------------------------------------------\n",
            "Test summary\n",
            "    Passed: 1\n",
            "    Failed: 0\n",
            "[ooooooooook] 100.0% passed\n",
            "\n"
          ],
          "name": "stdout"
        }
      ]
    },
    {
      "cell_type": "markdown",
      "metadata": {
        "deletable": false,
        "editable": false,
        "id": "2sjXDeQTORwT"
      },
      "source": [
        "**Question 5.** Explain whether you believe you can accurately use a sample size of 500 to determine the maximum. What is a specific con of using the maximum as your estimator? Use the histogram above to help answer. "
      ]
    },
    {
      "cell_type": "markdown",
      "metadata": {
        "deletable": false,
        "manual_problem_id": "earthquakes_4",
        "id": "ZyCnCZ84ORwT"
      },
      "source": [
        "*Write your answer here, replacing this text.*"
      ]
    },
    {
      "cell_type": "markdown",
      "metadata": {
        "id": "dbtl9_cXORwU"
      },
      "source": [
        "Solution: No, using a sample of size 500 to estimate the max is not going to be accurate. The estimated max will be less than the true max for any sample that does not contain an observation equal to the true max. It appears that this is the case for nearly all samples, and that often the estimated max is off by one unit or more."
      ]
    },
    {
      "cell_type": "markdown",
      "metadata": {
        "id": "xGf3d4dlORwU"
      },
      "source": [
        "## 5. Assessing Gary's Models\n",
        "#### Games with Gary"
      ]
    },
    {
      "cell_type": "markdown",
      "metadata": {
        "id": "MrrmEOtNORwU"
      },
      "source": [
        "Our friend Gary comes over and asks us to play a game with him. The game works like this: \n",
        "\n",
        "> We will flip a fair coin 10 times, and if the number of heads is greater than or equal to 5, we win!\n",
        "> \n",
        "> Otherwise, Gary wins.\n",
        "\n",
        "We play the game once and we lose, observing 1 head. We are angry and accuse Gary of cheating! Gary is adamant, however, that the coin is fair.\n",
        "\n",
        "Gary's model claims that there is an equal chance of getting heads or tails, but we do not believe him. We believe that the coin is clearly rigged, with heads being less likely than tails. "
      ]
    },
    {
      "cell_type": "markdown",
      "metadata": {
        "id": "Qv7v1TB7ORwU"
      },
      "source": [
        "#### Question 1\n",
        "Assign `coin_model_probabilities` to a two-item array containing the chance of heads as the first element and the chance of tails as the second element under Gary's model. Make sure your values are between 0 and 1. "
      ]
    },
    {
      "cell_type": "code",
      "metadata": {
        "deletable": false,
        "id": "2XZZ_9t1ORwV",
        "outputId": "dbd88660-2cf8-4a24-e5e7-58865c06460a"
      },
      "source": [
        "coin_model_probabilities = ...\n",
        "coin_model_probabilities"
      ],
      "execution_count": null,
      "outputs": [
        {
          "output_type": "execute_result",
          "data": {
            "text/plain": [
              "Ellipsis"
            ]
          },
          "metadata": {
            "tags": []
          },
          "execution_count": 48
        }
      ]
    },
    {
      "cell_type": "code",
      "metadata": {
        "id": "WukasuiQORwW",
        "outputId": "ca8b0314-2703-4b53-a3b1-1ab3e3d7db0f"
      },
      "source": [
        "#Solution\n",
        "coin_model_probabilities = make_array(0.5,0.5)\n",
        "coin_model_probabilities"
      ],
      "execution_count": null,
      "outputs": [
        {
          "output_type": "execute_result",
          "data": {
            "text/plain": [
              "array([0.5, 0.5])"
            ]
          },
          "metadata": {
            "tags": []
          },
          "execution_count": 49
        }
      ]
    },
    {
      "cell_type": "code",
      "metadata": {
        "deletable": false,
        "id": "V0r1M2-FORwW",
        "outputId": "049b7e55-77d6-4eb0-b6a4-5756b26f456a"
      },
      "source": [
        "_ = ok.grade('q5_1')"
      ],
      "execution_count": null,
      "outputs": [
        {
          "output_type": "stream",
          "text": [
            "~~~~~~~~~~~~~~~~~~~~~~~~~~~~~~~~~~~~~~~~~~~~~~~~~~~~~~~~~~~~~~~~~~~~~\n",
            "Running tests\n",
            "\n",
            "---------------------------------------------------------------------\n",
            "Test summary\n",
            "    Passed: 1\n",
            "    Failed: 0\n",
            "[ooooooooook] 100.0% passed\n",
            "\n"
          ],
          "name": "stdout"
        }
      ]
    },
    {
      "cell_type": "markdown",
      "metadata": {
        "id": "5FXXsayTORwW"
      },
      "source": [
        "**Question 2**\n",
        "\n",
        "We believe Gary's model is incorrect. In particular, we believe there to be a smaller chance of heads. Which of the following statistics can we use during our simulation to test between the model and our alternative? Assign `statistic_choice` to the correct answer. \n",
        "\n",
        "1. The distance (absolute value) between the actual number of heads in 10 flips and the expected number of heads in 10 flips (5)\n",
        "2. The expected number of heads in 10 flips\n",
        "3. The actual number of heads we get in 10 flips\n",
        "\n"
      ]
    },
    {
      "cell_type": "code",
      "metadata": {
        "deletable": false,
        "id": "iOYg_DniORwY",
        "outputId": "9ea1d78f-2400-4c4f-f9fb-7b900d0a1aaa"
      },
      "source": [
        "statistic_choice = ...\n",
        "statistic_choice"
      ],
      "execution_count": null,
      "outputs": [
        {
          "output_type": "execute_result",
          "data": {
            "text/plain": [
              "Ellipsis"
            ]
          },
          "metadata": {
            "tags": []
          },
          "execution_count": 51
        }
      ]
    },
    {
      "cell_type": "code",
      "metadata": {
        "id": "lCCfOXigORwa",
        "outputId": "22e6737c-09b5-4f91-816a-64acb6d214bf"
      },
      "source": [
        "statistic_choice = 3\n",
        "statistic_choice"
      ],
      "execution_count": null,
      "outputs": [
        {
          "output_type": "execute_result",
          "data": {
            "text/plain": [
              "3"
            ]
          },
          "metadata": {
            "tags": []
          },
          "execution_count": 52
        }
      ]
    },
    {
      "cell_type": "code",
      "metadata": {
        "id": "vVOjrqQVORwb",
        "outputId": "b022ef24-6a8c-4825-e772-6dfe6017b288"
      },
      "source": [
        "_ = ok.grade('q5_2')"
      ],
      "execution_count": null,
      "outputs": [
        {
          "output_type": "stream",
          "text": [
            "~~~~~~~~~~~~~~~~~~~~~~~~~~~~~~~~~~~~~~~~~~~~~~~~~~~~~~~~~~~~~~~~~~~~~\n",
            "Running tests\n",
            "\n",
            "---------------------------------------------------------------------\n",
            "Test summary\n",
            "    Passed: 1\n",
            "    Failed: 0\n",
            "[ooooooooook] 100.0% passed\n",
            "\n"
          ],
          "name": "stdout"
        }
      ]
    },
    {
      "cell_type": "markdown",
      "metadata": {
        "id": "WOa-xSTdORwe"
      },
      "source": [
        "#### Question 3\n",
        "\n",
        "Define the function `coin_simulation_and_statistic`, which, given a sample size and an array of model proportions (like the one you created in Q1), returns the number of heads in one simulation of flipping the coin under the model specified in `model_proportions`. \n",
        "\n",
        "*Hint:* Think about how you can use the function `sample_proportions`. "
      ]
    },
    {
      "cell_type": "code",
      "metadata": {
        "deletable": false,
        "for_assignment_type": "student",
        "id": "oHLgfsTDORwf"
      },
      "source": [
        "def coin_simulation_and_statistic(sample_size, model_proportions):\n",
        "    ...\n",
        "\n",
        "coin_simulation_and_statistic(10, coin_model_probabilities)"
      ],
      "execution_count": null,
      "outputs": []
    },
    {
      "cell_type": "code",
      "metadata": {
        "id": "lhG5PO5AORwg",
        "outputId": "2b3983f6-8cb1-4d43-c421-880bd94f4633"
      },
      "source": [
        "#solution\n",
        "\n",
        "def coin_simulation_and_statistic(sample_size, model_proportions):\n",
        "    return(sample_size*sample_proportions(sample_size,model_proportions)[0])\n",
        "\n",
        "coin_simulation_and_statistic(10, coin_model_probabilities)"
      ],
      "execution_count": null,
      "outputs": [
        {
          "output_type": "execute_result",
          "data": {
            "text/plain": [
              "5.0"
            ]
          },
          "metadata": {
            "tags": []
          },
          "execution_count": 55
        }
      ]
    },
    {
      "cell_type": "code",
      "metadata": {
        "deletable": false,
        "id": "iyP4gXMzORwi",
        "outputId": "d1030e3e-6162-412b-d5d3-45c26e481bf9"
      },
      "source": [
        "_ = ok.grade('q5_3')"
      ],
      "execution_count": null,
      "outputs": [
        {
          "output_type": "stream",
          "text": [
            "~~~~~~~~~~~~~~~~~~~~~~~~~~~~~~~~~~~~~~~~~~~~~~~~~~~~~~~~~~~~~~~~~~~~~\n",
            "Running tests\n",
            "\n",
            "---------------------------------------------------------------------\n",
            "Test summary\n",
            "    Passed: 1\n",
            "    Failed: 0\n",
            "[ooooooooook] 100.0% passed\n",
            "\n"
          ],
          "name": "stdout"
        }
      ]
    },
    {
      "cell_type": "markdown",
      "metadata": {
        "id": "I3E4f9omORwi"
      },
      "source": [
        "**Question 4** \n",
        "\n",
        "Use your function from above to simulate the flipping of 10 coins 5000 times under the proportions that you specified in problem 1. Keep track of all of your statistics in `coin_statistics`. "
      ]
    },
    {
      "cell_type": "code",
      "metadata": {
        "deletable": false,
        "id": "QkBxE7ymORwj",
        "outputId": "dedf7098-199e-4467-d879-b3c9d3ff5bc8"
      },
      "source": [
        "coin_statistics = ...\n",
        "repetitions = ...\n",
        "\n",
        "for ... in ...: \n",
        "    ...\n",
        "\n",
        "coin_statistics"
      ],
      "execution_count": null,
      "outputs": [
        {
          "output_type": "error",
          "ename": "SyntaxError",
          "evalue": "can't assign to Ellipsis (<ipython-input-57-0c4dcdc93414>, line 4)",
          "traceback": [
            "\u001b[0;36m  File \u001b[0;32m\"<ipython-input-57-0c4dcdc93414>\"\u001b[0;36m, line \u001b[0;32m4\u001b[0m\n\u001b[0;31m    for ... in ...:\u001b[0m\n\u001b[0m       ^\u001b[0m\n\u001b[0;31mSyntaxError\u001b[0m\u001b[0;31m:\u001b[0m can't assign to Ellipsis\n"
          ]
        }
      ]
    },
    {
      "cell_type": "code",
      "metadata": {
        "id": "vjHE_V6eORwj",
        "outputId": "19005bc3-a5a0-44d9-9d7b-248473071d59"
      },
      "source": [
        "#Solution\n",
        "\n",
        "coin_statistics = make_array()\n",
        "repetitions = 5000\n",
        "flips = 10\n",
        "\n",
        "for i in range(5000): \n",
        "    coin_statistics=np.append(coin_statistics, coin_simulation_and_statistic(flips, coin_model_probabilities))\n",
        "\n",
        "coin_statistics\n"
      ],
      "execution_count": null,
      "outputs": [
        {
          "output_type": "execute_result",
          "data": {
            "text/plain": [
              "array([4., 4., 2., ..., 4., 5., 6.])"
            ]
          },
          "metadata": {
            "tags": []
          },
          "execution_count": 58
        }
      ]
    },
    {
      "cell_type": "code",
      "metadata": {
        "deletable": false,
        "id": "fNspFl4tORwj",
        "outputId": "7589d101-ba13-49a0-be7e-c495e6c3086b"
      },
      "source": [
        "_ = ok.grade('q5_4')"
      ],
      "execution_count": null,
      "outputs": [
        {
          "output_type": "stream",
          "text": [
            "~~~~~~~~~~~~~~~~~~~~~~~~~~~~~~~~~~~~~~~~~~~~~~~~~~~~~~~~~~~~~~~~~~~~~\n",
            "Running tests\n",
            "\n",
            "---------------------------------------------------------------------\n",
            "Test summary\n",
            "    Passed: 1\n",
            "    Failed: 0\n",
            "[ooooooooook] 100.0% passed\n",
            "\n"
          ],
          "name": "stdout"
        }
      ]
    },
    {
      "cell_type": "markdown",
      "metadata": {
        "id": "40H-dvMeORwk"
      },
      "source": [
        "Let's take a look at the distribution of statistics, using a histogram. "
      ]
    },
    {
      "cell_type": "code",
      "metadata": {
        "id": "KzrYsOU9ORwk",
        "outputId": "78826121-ec30-4eb4-f76a-5f77a5fa0f0e"
      },
      "source": [
        "#Draw a distribution of statistics \n",
        "Table().with_column('Coin Statistics', coin_statistics).hist(bins=np.arange(0,11))"
      ],
      "execution_count": null,
      "outputs": [
        {
          "output_type": "display_data",
          "data": {
            "image/png": "[encoded data removed]",
            "text/plain": [
              "<matplotlib.figure.Figure at 0xa736a20c>"
            ]
          },
          "metadata": {
            "tags": []
          }
        }
      ]
    },
    {
      "cell_type": "markdown",
      "metadata": {
        "id": "xUhgzxA5ORwl"
      },
      "source": [
        "#### Question 5\n",
        "Given your observed value, do you believe that Gary's model is reasonable, or is our alternative more likely? Explain your answer using the distribution drawn in the previous problem. "
      ]
    },
    {
      "cell_type": "markdown",
      "metadata": {
        "deletable": false,
        "manual_problem_id": "dice_and_coins_5",
        "id": "62ty6K3jORwl"
      },
      "source": [
        "*Write your answer here, replacing this text.*"
      ]
    },
    {
      "cell_type": "markdown",
      "metadata": {
        "id": "4iZGEf9HORwl"
      },
      "source": [
        "Solution: The empirical probability of observing only 1 head in 10 flips is much less than 5%, so it is reasonable to conclude that the alternative is more likely. "
      ]
    },
    {
      "cell_type": "markdown",
      "metadata": {
        "id": "LQOmgXCZORwl"
      },
      "source": [
        "## 6. Submission\n"
      ]
    },
    {
      "cell_type": "markdown",
      "metadata": {
        "collapsed": true,
        "id": "wtym_8xiORwl"
      },
      "source": [
        "Once you're finished, select \"Save and Checkpoint\" in the File menu and then execute the `submit` cell below. The result will contain a link that you can use to check that your assignment has been submitted successfully. If you submit more than once before the deadline, we will only grade your final submission. If you mistakenly submit the wrong one, you can head to [okpy.org](https://okpy.org/) and flag the correct version. To do so, go to the website, click on this assignment, and find the version you would like to have graded. There should be an option to flag that submission for grading!"
      ]
    },
    {
      "cell_type": "code",
      "metadata": {
        "id": "bpNu2g_UORwm"
      },
      "source": [
        ""
      ],
      "execution_count": null,
      "outputs": []
    },
    {
      "cell_type": "code",
      "metadata": {
        "id": "E9bmDtP0ORwm",
        "outputId": "62fb5038-feab-4583-f587-ed994343246e"
      },
      "source": [
        "# For your convenience, you can run this cell to run all the tests at once!\n",
        "import os\n",
        "print(\"Running all tests...\")\n",
        "_ = [ok.grade(q[:-3]) for q in os.listdir(\"tests\") if q.startswith('q')]\n",
        "print(\"Finished running all tests.\")"
      ],
      "execution_count": null,
      "outputs": [
        {
          "output_type": "stream",
          "text": [
            "Running all tests...\n",
            "~~~~~~~~~~~~~~~~~~~~~~~~~~~~~~~~~~~~~~~~~~~~~~~~~~~~~~~~~~~~~~~~~~~~~\n",
            "Running tests\n",
            "\n",
            "---------------------------------------------------------------------\n",
            "Test summary\n",
            "    Passed: 1\n",
            "    Failed: 0\n",
            "[ooooooooook] 100.0% passed\n",
            "\n",
            "~~~~~~~~~~~~~~~~~~~~~~~~~~~~~~~~~~~~~~~~~~~~~~~~~~~~~~~~~~~~~~~~~~~~~\n",
            "Running tests\n",
            "\n",
            "---------------------------------------------------------------------\n",
            "Test summary\n",
            "    Passed: 1\n",
            "    Failed: 0\n",
            "[ooooooooook] 100.0% passed\n",
            "\n",
            "~~~~~~~~~~~~~~~~~~~~~~~~~~~~~~~~~~~~~~~~~~~~~~~~~~~~~~~~~~~~~~~~~~~~~\n",
            "Running tests\n",
            "\n",
            "---------------------------------------------------------------------\n",
            "Test summary\n",
            "    Passed: 1\n",
            "    Failed: 0\n",
            "[ooooooooook] 100.0% passed\n",
            "\n",
            "~~~~~~~~~~~~~~~~~~~~~~~~~~~~~~~~~~~~~~~~~~~~~~~~~~~~~~~~~~~~~~~~~~~~~\n",
            "Running tests\n",
            "\n",
            "---------------------------------------------------------------------\n",
            "Test summary\n",
            "    Passed: 1\n",
            "    Failed: 0\n",
            "[ooooooooook] 100.0% passed\n",
            "\n",
            "~~~~~~~~~~~~~~~~~~~~~~~~~~~~~~~~~~~~~~~~~~~~~~~~~~~~~~~~~~~~~~~~~~~~~\n",
            "Running tests\n",
            "\n",
            "---------------------------------------------------------------------\n",
            "Test summary\n",
            "    Passed: 1\n",
            "    Failed: 0\n",
            "[ooooooooook] 100.0% passed\n",
            "\n",
            "~~~~~~~~~~~~~~~~~~~~~~~~~~~~~~~~~~~~~~~~~~~~~~~~~~~~~~~~~~~~~~~~~~~~~\n",
            "Running tests\n",
            "\n",
            "---------------------------------------------------------------------\n",
            "Test summary\n",
            "    Passed: 1\n",
            "    Failed: 0\n",
            "[ooooooooook] 100.0% passed\n",
            "\n",
            "~~~~~~~~~~~~~~~~~~~~~~~~~~~~~~~~~~~~~~~~~~~~~~~~~~~~~~~~~~~~~~~~~~~~~\n",
            "Running tests\n",
            "\n",
            "---------------------------------------------------------------------\n",
            "Question 4_6 > Suite 1 > Case 1\n",
            "\n",
            ">>> # It looks like your other_statistic array is empty!\n",
            ">>> len(other_statistic) != 0\n",
            "NameError: name 'other_statistic' is not defined\n",
            "\n",
            "# Error: expected\n",
            "#     True\n",
            "# but got\n",
            "#     Traceback (most recent call last):\n",
            "#       ...\n",
            "#     NameError: name 'other_statistic' is not defined\n",
            "\n",
            "Run only this test case with \"python3 ok -q q4_6 --suite 1 --case 1\"\n",
            "---------------------------------------------------------------------\n",
            "Test summary\n",
            "    Passed: 0\n",
            "    Failed: 1\n",
            "[k..........] 0.0% passed\n",
            "\n",
            "~~~~~~~~~~~~~~~~~~~~~~~~~~~~~~~~~~~~~~~~~~~~~~~~~~~~~~~~~~~~~~~~~~~~~\n",
            "Running tests\n",
            "\n",
            "---------------------------------------------------------------------\n",
            "Test summary\n",
            "    Passed: 1\n",
            "    Failed: 0\n",
            "[ooooooooook] 100.0% passed\n",
            "\n",
            "~~~~~~~~~~~~~~~~~~~~~~~~~~~~~~~~~~~~~~~~~~~~~~~~~~~~~~~~~~~~~~~~~~~~~\n",
            "Running tests\n",
            "\n",
            "---------------------------------------------------------------------\n",
            "Test summary\n",
            "    Passed: 1\n",
            "    Failed: 0\n",
            "[ooooooooook] 100.0% passed\n",
            "\n",
            "~~~~~~~~~~~~~~~~~~~~~~~~~~~~~~~~~~~~~~~~~~~~~~~~~~~~~~~~~~~~~~~~~~~~~\n",
            "Running tests\n",
            "\n",
            "---------------------------------------------------------------------\n",
            "Test summary\n",
            "    Passed: 1\n",
            "    Failed: 0\n",
            "[ooooooooook] 100.0% passed\n",
            "\n",
            "~~~~~~~~~~~~~~~~~~~~~~~~~~~~~~~~~~~~~~~~~~~~~~~~~~~~~~~~~~~~~~~~~~~~~\n",
            "Running tests\n",
            "\n",
            "---------------------------------------------------------------------\n",
            "Test summary\n",
            "    Passed: 1\n",
            "    Failed: 0\n",
            "[ooooooooook] 100.0% passed\n",
            "\n",
            "~~~~~~~~~~~~~~~~~~~~~~~~~~~~~~~~~~~~~~~~~~~~~~~~~~~~~~~~~~~~~~~~~~~~~\n",
            "Running tests\n",
            "\n",
            "---------------------------------------------------------------------\n",
            "Test summary\n",
            "    Passed: 1\n",
            "    Failed: 0\n",
            "[ooooooooook] 100.0% passed\n",
            "\n",
            "~~~~~~~~~~~~~~~~~~~~~~~~~~~~~~~~~~~~~~~~~~~~~~~~~~~~~~~~~~~~~~~~~~~~~\n",
            "Running tests\n",
            "\n",
            "---------------------------------------------------------------------\n",
            "Question 4_5 > Suite 1 > Case 1\n",
            "\n",
            ">>> valid_statistic in [1,2,3]\n",
            "NameError: name 'valid_statistic' is not defined\n",
            "\n",
            "# Error: expected\n",
            "#     True\n",
            "# but got\n",
            "#     Traceback (most recent call last):\n",
            "#       ...\n",
            "#     NameError: name 'valid_statistic' is not defined\n",
            "\n",
            "Run only this test case with \"python3 ok -q q4_5 --suite 1 --case 1\"\n",
            "---------------------------------------------------------------------\n",
            "Test summary\n",
            "    Passed: 0\n",
            "    Failed: 1\n",
            "[k..........] 0.0% passed\n",
            "\n",
            "~~~~~~~~~~~~~~~~~~~~~~~~~~~~~~~~~~~~~~~~~~~~~~~~~~~~~~~~~~~~~~~~~~~~~\n",
            "Running tests\n",
            "\n",
            "---------------------------------------------------------------------\n",
            "Test summary\n",
            "    Passed: 1\n",
            "    Failed: 0\n",
            "[ooooooooook] 100.0% passed\n",
            "\n",
            "~~~~~~~~~~~~~~~~~~~~~~~~~~~~~~~~~~~~~~~~~~~~~~~~~~~~~~~~~~~~~~~~~~~~~\n",
            "Running tests\n",
            "\n",
            "---------------------------------------------------------------------\n",
            "Test summary\n",
            "    Passed: 1\n",
            "    Failed: 0\n",
            "[ooooooooook] 100.0% passed\n",
            "\n",
            "~~~~~~~~~~~~~~~~~~~~~~~~~~~~~~~~~~~~~~~~~~~~~~~~~~~~~~~~~~~~~~~~~~~~~\n",
            "Running tests\n",
            "\n",
            "---------------------------------------------------------------------\n",
            "Test summary\n",
            "    Passed: 1\n",
            "    Failed: 0\n",
            "[ooooooooook] 100.0% passed\n",
            "\n",
            "~~~~~~~~~~~~~~~~~~~~~~~~~~~~~~~~~~~~~~~~~~~~~~~~~~~~~~~~~~~~~~~~~~~~~\n",
            "Running tests\n",
            "\n",
            "---------------------------------------------------------------------\n",
            "Test summary\n",
            "    Passed: 1\n",
            "    Failed: 0\n",
            "[ooooooooook] 100.0% passed\n",
            "\n",
            "~~~~~~~~~~~~~~~~~~~~~~~~~~~~~~~~~~~~~~~~~~~~~~~~~~~~~~~~~~~~~~~~~~~~~\n",
            "Running tests\n",
            "\n",
            "---------------------------------------------------------------------\n",
            "Test summary\n",
            "    Passed: 1\n",
            "    Failed: 0\n",
            "[ooooooooook] 100.0% passed\n",
            "\n",
            "~~~~~~~~~~~~~~~~~~~~~~~~~~~~~~~~~~~~~~~~~~~~~~~~~~~~~~~~~~~~~~~~~~~~~\n",
            "Running tests\n",
            "\n",
            "---------------------------------------------------------------------\n",
            "Test summary\n",
            "    Passed: 1\n",
            "    Failed: 0\n",
            "[ooooooooook] 100.0% passed\n",
            "\n",
            "Finished running all tests.\n"
          ],
          "name": "stdout"
        }
      ]
    },
    {
      "cell_type": "code",
      "metadata": {
        "id": "gunKwRZ1ORwn",
        "outputId": "15bd1dcb-9ccd-4b6c-9a44-909d187c477e"
      },
      "source": [
        "_ = ok.submit()"
      ],
      "execution_count": null,
      "outputs": [
        {
          "output_type": "display_data",
          "data": {
            "application/javascript": [
              "IPython.notebook.save_checkpoint();"
            ],
            "text/plain": [
              "<IPython.core.display.Javascript object>"
            ]
          },
          "metadata": {
            "tags": []
          }
        },
        {
          "output_type": "display_data",
          "data": {
            "application/javascript": [
              "IPython.notebook.save_notebook();"
            ],
            "text/plain": [
              "<IPython.core.display.Javascript object>"
            ]
          },
          "metadata": {
            "tags": []
          }
        },
        {
          "output_type": "stream",
          "text": [
            "Saving notebook... Saved 'hw05.ipynb'.\n",
            "Submit... 100% complete\n",
            "Submission successful for user: mahmood.jasim.bd@gmail.com\n",
            "URL: https://okpy.org/umass/compsci190F/fa18/hw05/submissions/2vE04M\n",
            "\n"
          ],
          "name": "stdout"
        }
      ]
    },
    {
      "cell_type": "code",
      "metadata": {
        "id": "4bxj7uT2ORwo"
      },
      "source": [
        ""
      ],
      "execution_count": null,
      "outputs": []
    },
    {
      "cell_type": "code",
      "metadata": {
        "id": "XAuRWYJ9ORwo"
      },
      "source": [
        ""
      ],
      "execution_count": null,
      "outputs": []
    }
  ]
}