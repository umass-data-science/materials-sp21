{
  "nbformat": 4,
  "nbformat_minor": 0,
  "metadata": {
    "kernelspec": {
      "display_name": "Python 3",
      "language": "python",
      "name": "python3"
    },
    "language_info": {
      "codemirror_mode": {
        "name": "ipython",
        "version": 3
      },
      "file_extension": ".py",
      "mimetype": "text/x-python",
      "name": "python",
      "nbconvert_exporter": "python",
      "pygments_lexer": "ipython3",
      "version": "3.8.3"
    },
    "colab": {
      "name": "end_of_semester_lab-solution.ipynb",
      "provenance": []
    }
  },
  "cells": [
    {
      "cell_type": "markdown",
      "metadata": {
        "id": "0p5wNynAm03R"
      },
      "source": [
        "# End of semester review lab\n",
        "\n",
        "**Instructions**\n",
        "\n",
        "This lab is designed to be a review of some of the key concepts and coding from the second half of the semester.\n",
        "\n",
        "Your task is to predict the wage in the following data set using all of the available features.  You should do this using two separate models, and compare which model has the lowest RMSE (Root Mean Squared Error).  The two models you should use are linear regression and K-nearest neighbor, with K = 1.  Note that we are using K nearest neighbor in a new way because this is not a classification problem.  The K-nearest neighbor should simply use the nearest neighbor's wage as the prediction wage."
      ]
    },
    {
      "cell_type": "markdown",
      "metadata": {
        "id": "j6XhTGUIm03d"
      },
      "source": [
        "You will need to follow these steps"
      ]
    },
    {
      "cell_type": "markdown",
      "metadata": {
        "id": "j5ALVluom03e"
      },
      "source": [
        "## 1. Setup\n",
        "Run the two cells below to load the packages and data.\n",
        "\n",
        "The dataset CPS85 contains data on 534 individuals surveyed in the year 1985.\n",
        "\n",
        "    wage = The hourly wage\n",
        "    educ = years of education\n",
        "    sex = sex (male or female)\n",
        "    exper = years of experience\n",
        "    union = whether or not the person was in a union"
      ]
    },
    {
      "cell_type": "code",
      "metadata": {
        "id": "6YB0lmW0m03g"
      },
      "source": [
        "from datascience import *\n",
        "import numpy as np\n",
        "import matplotlib\n",
        "%matplotlib inline"
      ],
      "execution_count": null,
      "outputs": []
    },
    {
      "cell_type": "code",
      "metadata": {
        "id": "HFJEOb9pm03i",
        "outputId": "97f21d7d-283a-4fa7-c279-7941c66f8ad6"
      },
      "source": [
        "CPS85 = Table.read_table(\"CPS85_small.csv\")\n",
        "CPS85"
      ],
      "execution_count": null,
      "outputs": [
        {
          "output_type": "execute_result",
          "data": {
            "text/html": [
              "<table border=\"1\" class=\"dataframe\">\n",
              "    <thead>\n",
              "        <tr>\n",
              "            <th>wage</th> <th>educ</th> <th>sex</th> <th>exper</th> <th>union</th>\n",
              "        </tr>\n",
              "    </thead>\n",
              "    <tbody>\n",
              "        <tr>\n",
              "            <td>9   </td> <td>10  </td> <td>M   </td> <td>27   </td> <td>Not  </td>\n",
              "        </tr>\n",
              "        <tr>\n",
              "            <td>5.5 </td> <td>12  </td> <td>M   </td> <td>20   </td> <td>Not  </td>\n",
              "        </tr>\n",
              "        <tr>\n",
              "            <td>3.8 </td> <td>12  </td> <td>F   </td> <td>4    </td> <td>Not  </td>\n",
              "        </tr>\n",
              "        <tr>\n",
              "            <td>10.5</td> <td>12  </td> <td>F   </td> <td>29   </td> <td>Not  </td>\n",
              "        </tr>\n",
              "        <tr>\n",
              "            <td>15  </td> <td>12  </td> <td>M   </td> <td>40   </td> <td>Union</td>\n",
              "        </tr>\n",
              "        <tr>\n",
              "            <td>9   </td> <td>16  </td> <td>F   </td> <td>27   </td> <td>Not  </td>\n",
              "        </tr>\n",
              "        <tr>\n",
              "            <td>9.57</td> <td>12  </td> <td>F   </td> <td>5    </td> <td>Union</td>\n",
              "        </tr>\n",
              "        <tr>\n",
              "            <td>15  </td> <td>14  </td> <td>M   </td> <td>22   </td> <td>Not  </td>\n",
              "        </tr>\n",
              "        <tr>\n",
              "            <td>11  </td> <td>8   </td> <td>M   </td> <td>42   </td> <td>Not  </td>\n",
              "        </tr>\n",
              "        <tr>\n",
              "            <td>5   </td> <td>12  </td> <td>F   </td> <td>14   </td> <td>Not  </td>\n",
              "        </tr>\n",
              "    </tbody>\n",
              "</table>\n",
              "<p>... (524 rows omitted)</p>"
            ],
            "text/plain": [
              "wage | educ | sex  | exper | union\n",
              "9    | 10   | M    | 27    | Not\n",
              "5.5  | 12   | M    | 20    | Not\n",
              "3.8  | 12   | F    | 4     | Not\n",
              "10.5 | 12   | F    | 29    | Not\n",
              "15   | 12   | M    | 40    | Union\n",
              "9    | 16   | F    | 27    | Not\n",
              "9.57 | 12   | F    | 5     | Union\n",
              "15   | 14   | M    | 22    | Not\n",
              "11   | 8    | M    | 42    | Not\n",
              "5    | 12   | F    | 14    | Not\n",
              "... (524 rows omitted)"
            ]
          },
          "metadata": {
            "tags": []
          },
          "execution_count": 58
        }
      ]
    },
    {
      "cell_type": "markdown",
      "metadata": {
        "id": "Dg_krxgNm03m"
      },
      "source": [
        "**Step 1: Data Preparation**\n",
        "1. You can't fit a model with categorical data the such as sex and union as text.  You will need to convert those columns into numbers.  Fortunately since both are binary variables, you just need to convert M to 1 and F to 0, and Union to 1 and Not to 0.\n",
        "\n",
        "2. Convert each column to standard units\n",
        "\n",
        "3. Save the cleaned data as CPS85_clean\n",
        "\n",
        "4. Create a train/test split with 70% of the data for training and 30% for testing.  Use a random seed of 1234 so that we all get the same results when we do the train test split.  There should be 374 training observations and 160 test observations.  Name the resulting data sets train and test.  \n",
        "\n",
        "\n"
      ]
    },
    {
      "cell_type": "code",
      "metadata": {
        "id": "6XCENl_Km03o"
      },
      "source": [
        "def sex_to_b(text):\n",
        "    if text == 'M':\n",
        "        return 1\n",
        "    else: return 0"
      ],
      "execution_count": null,
      "outputs": []
    },
    {
      "cell_type": "code",
      "metadata": {
        "id": "5DKExS75m03o"
      },
      "source": [
        "def union_to_b(text):\n",
        "    if text == 'union':\n",
        "        return 1\n",
        "    else: return 0"
      ],
      "execution_count": null,
      "outputs": []
    },
    {
      "cell_type": "code",
      "metadata": {
        "id": "_IO8Vxi4m03q"
      },
      "source": [
        "sex_0_1 = CPS85.apply(sex_to_b, 'sex')\n",
        "union_0_1 = CPS85.apply(union_to_b, 'union')\n"
      ],
      "execution_count": null,
      "outputs": []
    },
    {
      "cell_type": "code",
      "metadata": {
        "id": "GxDi7eo-BvAG"
      },
      "source": [
        "def standard_units(arr):\n",
        "    return arr - np.average(arr)/np.std(arr)"
      ],
      "execution_count": null,
      "outputs": []
    },
    {
      "cell_type": "code",
      "metadata": {
        "id": "nhHTLNp8m03v"
      },
      "source": [
        "CPS85_clean = (CPS85\n",
        "    .with_column('wage', standard_units(CPS85.column('wage')))\n",
        "    .with_column('educ', standard_units(CPS85.column('educ')))\n",
        "    .with_column('sex', standard_units(sex_0_1))\n",
        "    .with_column('exper', standard_units(CPS85.column('exper')))\n",
        "    .with_column('union', standard_units(union_0_1))\n",
        ")\n",
        "CPS85_clean"
      ],
      "execution_count": null,
      "outputs": []
    },
    {
      "cell_type": "code",
      "metadata": {
        "id": "UcdzYx9-m03x"
      },
      "source": [
        "np.random.seed(1234)\n",
        "shuffled = CPS85_clean.sample(with_replacement=False) # Randomly permute the rows\n",
        "train = shuffled.take(np.arange(374))\n",
        "test  = shuffled.take(np.arange(374, CPS85_clean.num_rows))"
      ],
      "execution_count": null,
      "outputs": []
    },
    {
      "cell_type": "code",
      "metadata": {
        "id": "KYeG9DP-m031",
        "outputId": "b349fda9-9ed7-4bc5-ad30-b8f3cd445b51"
      },
      "source": [
        "train"
      ],
      "execution_count": null,
      "outputs": [
        {
          "output_type": "execute_result",
          "data": {
            "text/html": [
              "<table border=\"1\" class=\"dataframe\">\n",
              "    <thead>\n",
              "        <tr>\n",
              "            <th>wage</th> <th>educ</th> <th>sex</th> <th>exper</th> <th>union</th>\n",
              "        </tr>\n",
              "    </thead>\n",
              "    <tbody>\n",
              "        <tr>\n",
              "            <td>8.75</td> <td>12  </td> <td>1   </td> <td>9    </td> <td>0    </td>\n",
              "        </tr>\n",
              "        <tr>\n",
              "            <td>12  </td> <td>14  </td> <td>0   </td> <td>10   </td> <td>0    </td>\n",
              "        </tr>\n",
              "        <tr>\n",
              "            <td>20.4</td> <td>17  </td> <td>1   </td> <td>3    </td> <td>0    </td>\n",
              "        </tr>\n",
              "        <tr>\n",
              "            <td>13  </td> <td>12  </td> <td>1   </td> <td>25   </td> <td>0    </td>\n",
              "        </tr>\n",
              "        <tr>\n",
              "            <td>8.5 </td> <td>12  </td> <td>1   </td> <td>13   </td> <td>0    </td>\n",
              "        </tr>\n",
              "        <tr>\n",
              "            <td>7   </td> <td>12  </td> <td>0   </td> <td>10   </td> <td>0    </td>\n",
              "        </tr>\n",
              "        <tr>\n",
              "            <td>4.35</td> <td>11  </td> <td>0   </td> <td>20   </td> <td>0    </td>\n",
              "        </tr>\n",
              "        <tr>\n",
              "            <td>6   </td> <td>7   </td> <td>0   </td> <td>15   </td> <td>0    </td>\n",
              "        </tr>\n",
              "        <tr>\n",
              "            <td>8   </td> <td>12  </td> <td>0   </td> <td>8    </td> <td>0    </td>\n",
              "        </tr>\n",
              "        <tr>\n",
              "            <td>10  </td> <td>10  </td> <td>0   </td> <td>25   </td> <td>0    </td>\n",
              "        </tr>\n",
              "    </tbody>\n",
              "</table>\n",
              "<p>... (364 rows omitted)</p>"
            ],
            "text/plain": [
              "wage | educ | sex  | exper | union\n",
              "8.75 | 12   | 1    | 9     | 0\n",
              "12   | 14   | 0    | 10    | 0\n",
              "20.4 | 17   | 1    | 3     | 0\n",
              "13   | 12   | 1    | 25    | 0\n",
              "8.5  | 12   | 1    | 13    | 0\n",
              "7    | 12   | 0    | 10    | 0\n",
              "4.35 | 11   | 0    | 20    | 0\n",
              "6    | 7    | 0    | 15    | 0\n",
              "8    | 12   | 0    | 8     | 0\n",
              "10   | 10   | 0    | 25    | 0\n",
              "... (364 rows omitted)"
            ]
          },
          "metadata": {
            "tags": []
          },
          "execution_count": 61
        }
      ]
    },
    {
      "cell_type": "code",
      "metadata": {
        "id": "mIOSF1Q9m032",
        "outputId": "6179e966-4667-4d6f-9116-7ec81393bd07"
      },
      "source": [
        "test"
      ],
      "execution_count": null,
      "outputs": [
        {
          "output_type": "execute_result",
          "data": {
            "text/html": [
              "<table border=\"1\" class=\"dataframe\">\n",
              "    <thead>\n",
              "        <tr>\n",
              "            <th>wage</th> <th>educ</th> <th>sex</th> <th>exper</th> <th>union</th>\n",
              "        </tr>\n",
              "    </thead>\n",
              "    <tbody>\n",
              "        <tr>\n",
              "            <td>11   </td> <td>8   </td> <td>1   </td> <td>42   </td> <td>0    </td>\n",
              "        </tr>\n",
              "        <tr>\n",
              "            <td>3.35 </td> <td>13  </td> <td>0   </td> <td>2    </td> <td>0    </td>\n",
              "        </tr>\n",
              "        <tr>\n",
              "            <td>7.78 </td> <td>16  </td> <td>0   </td> <td>6    </td> <td>0    </td>\n",
              "        </tr>\n",
              "        <tr>\n",
              "            <td>6.25 </td> <td>12  </td> <td>0   </td> <td>6    </td> <td>0    </td>\n",
              "        </tr>\n",
              "        <tr>\n",
              "            <td>13.71</td> <td>12  </td> <td>1   </td> <td>43   </td> <td>0    </td>\n",
              "        </tr>\n",
              "        <tr>\n",
              "            <td>3.35 </td> <td>12  </td> <td>0   </td> <td>8    </td> <td>0    </td>\n",
              "        </tr>\n",
              "        <tr>\n",
              "            <td>13.1 </td> <td>10  </td> <td>0   </td> <td>38   </td> <td>0    </td>\n",
              "        </tr>\n",
              "        <tr>\n",
              "            <td>18   </td> <td>16  </td> <td>1   </td> <td>38   </td> <td>0    </td>\n",
              "        </tr>\n",
              "        <tr>\n",
              "            <td>12   </td> <td>18  </td> <td>0   </td> <td>18   </td> <td>0    </td>\n",
              "        </tr>\n",
              "        <tr>\n",
              "            <td>3.8  </td> <td>12  </td> <td>0   </td> <td>4    </td> <td>0    </td>\n",
              "        </tr>\n",
              "    </tbody>\n",
              "</table>\n",
              "<p>... (150 rows omitted)</p>"
            ],
            "text/plain": [
              "wage  | educ | sex  | exper | union\n",
              "11    | 8    | 1    | 42    | 0\n",
              "3.35  | 13   | 0    | 2     | 0\n",
              "7.78  | 16   | 0    | 6     | 0\n",
              "6.25  | 12   | 0    | 6     | 0\n",
              "13.71 | 12   | 1    | 43    | 0\n",
              "3.35  | 12   | 0    | 8     | 0\n",
              "13.1  | 10   | 0    | 38    | 0\n",
              "18    | 16   | 1    | 38    | 0\n",
              "12    | 18   | 0    | 18    | 0\n",
              "3.8   | 12   | 0    | 4     | 0\n",
              "... (150 rows omitted)"
            ]
          },
          "metadata": {
            "tags": []
          },
          "execution_count": 75
        }
      ]
    },
    {
      "cell_type": "markdown",
      "metadata": {
        "id": "TvLHe5bsm034"
      },
      "source": [
        "# Regression Model "
      ]
    },
    {
      "cell_type": "markdown",
      "metadata": {
        "id": "MUMreReQm035"
      },
      "source": [
        "**Step 2: Regression Model** \n",
        "\n",
        "1. Define a function that calculates the root mean squared error of a regression model that predicts the wage using all other features.  Note: You have only done this before with one 'x' variable.  Now there are more than one.  All you have to do is to add a 'slope' for each variable. For example the mathematical equation for the predicted value is:\n",
        "\n",
        "$fitted = slope_1*educ + slope_2*sex + slope_3*exper + slope_4*union + intercept$\n",
        "\n",
        "Once you have the fitted value for each data point, you can use it to calculate the RMSE for the model\n",
        "\n",
        "*Hint* This [example from the textbook](https://umass-data-science.github.io/190fwebsite/textbook/15/3/method-of-least-squares/) should help you.  This was also in the last lab we did.\n",
        "\n",
        "2. Use the minimize function to find the slopes and intercept that minimize the the RMSE.  These slopes and intercepts are your model, and the RMSE that these slopes give you is the *training RMSE of your model*"
      ]
    },
    {
      "cell_type": "code",
      "metadata": {
        "id": "x_LgRIYZm036"
      },
      "source": [
        "def rmse(slope1, slope2, slope3, slope4, intercept):\n",
        "    e = train.column('educ')\n",
        "    s = train.column('sex')\n",
        "    ex = train.column('exper')\n",
        "    u = train.column('union')\n",
        "    w = train.column('wage')\n",
        "    fitted = slope1 * e + slope2 * s + (slope3 * ex + slope4 * u) + intercept\n",
        "    rmse = np.sqrt(np.mean((fitted - w) ** 2))\n",
        "    return rmse"
      ],
      "execution_count": null,
      "outputs": []
    },
    {
      "cell_type": "code",
      "metadata": {
        "id": "FZ3Pswjdm036",
        "outputId": "5f981cbf-f587-4bb1-c7cb-80112d995fad"
      },
      "source": [
        "e = train.column('educ')\n",
        "s = train.column('sex')\n",
        "ex = train.column('exper')\n",
        "u = train.column('union')\n",
        "w = train.column('wage')\n",
        "fitted = 1 * e + 2 * s + 3* ex + 4 * u + 5\n",
        "np.sqrt(np.mean((fitted - w)**2))   \n",
        "    "
      ],
      "execution_count": null,
      "outputs": [
        {
          "output_type": "execute_result",
          "data": {
            "text/plain": [
              "73.71883214326475"
            ]
          },
          "metadata": {
            "tags": []
          },
          "execution_count": 67
        }
      ]
    },
    {
      "cell_type": "code",
      "metadata": {
        "id": "SsazvDqZm037",
        "outputId": "6cf2d6fa-5567-4c6f-bb03-676b882c4d1b"
      },
      "source": [
        "rmse(1,2,3,4,5)"
      ],
      "execution_count": null,
      "outputs": [
        {
          "output_type": "execute_result",
          "data": {
            "text/plain": [
              "73.71883214326475"
            ]
          },
          "metadata": {
            "tags": []
          },
          "execution_count": 68
        }
      ]
    },
    {
      "cell_type": "code",
      "metadata": {
        "id": "JkGs9BISm038",
        "outputId": "8faa1cdb-2781-45a5-8c8e-c4e7bcb75eab"
      },
      "source": [
        "model_coefs = minimize(rmse)\n",
        "model_coefs#these \"slopes\" minimize the RMSE"
      ],
      "execution_count": null,
      "outputs": [
        {
          "output_type": "execute_result",
          "data": {
            "text/plain": [
              "array([ 9.31258141e-01,  2.14693454e+00,  1.04060094e-01,  3.15191442e+02,\n",
              "       -6.12851452e+00])"
            ]
          },
          "metadata": {
            "tags": []
          },
          "execution_count": 69
        }
      ]
    },
    {
      "cell_type": "code",
      "metadata": {
        "id": "vvu-cFkvm039"
      },
      "source": [
        ""
      ],
      "execution_count": null,
      "outputs": []
    },
    {
      "cell_type": "markdown",
      "metadata": {
        "id": "K6gNr8IXm03-"
      },
      "source": [
        "**Step 3: Calculate test set RMSE**\n",
        "\n",
        "1.  Use the slopes and intercept you calculated from your training data to predict the wage of each observation in your test set.\n",
        "\n",
        "2.  Calculate the RMSE of those predictions.  This is the *test set RMSE of your model*."
      ]
    },
    {
      "cell_type": "code",
      "metadata": {
        "id": "W_MJKW68m03-"
      },
      "source": [
        "#define a function to calculate test set RMSE notice we use test set here\n",
        "def rmse_test(slope1, slope2, slope3, slope4, intercept):\n",
        "    e = test.column('educ')\n",
        "    s = test.column('sex')\n",
        "    ex = test.column('exper')\n",
        "    u = test.column('union')\n",
        "    w = test.column('wage')\n",
        "    fitted = slope1 * e + slope2 * s + (slope3 * ex + slope4 * u) + intercept\n",
        "    rmse = np.sqrt(np.mean((w - fitted) ** 2))\n",
        "    return rmse"
      ],
      "execution_count": null,
      "outputs": []
    },
    {
      "cell_type": "code",
      "metadata": {
        "id": "ShU80AhJm03_",
        "outputId": "bd024943-8320-4e1a-ca44-b7d4d27d6b2c"
      },
      "source": [
        "model_coefs[0]"
      ],
      "execution_count": null,
      "outputs": [
        {
          "output_type": "execute_result",
          "data": {
            "text/plain": [
              "0.9312581413414276"
            ]
          },
          "metadata": {
            "tags": []
          },
          "execution_count": 72
        }
      ]
    },
    {
      "cell_type": "code",
      "metadata": {
        "id": "UdrUAj8Em04B",
        "outputId": "4e38ea26-fa74-402a-e2b2-3fc7427ec33a"
      },
      "source": [
        "#RMSE of test set\n",
        "rmse_test(model_coefs[0], model_coefs[1], model_coefs[2], model_coefs[3], model_coefs[4])"
      ],
      "execution_count": null,
      "outputs": [
        {
          "output_type": "execute_result",
          "data": {
            "text/plain": [
              "4.335290672696314"
            ]
          },
          "metadata": {
            "tags": []
          },
          "execution_count": 73
        }
      ]
    },
    {
      "cell_type": "code",
      "metadata": {
        "id": "RnCYLYJNm04B",
        "outputId": "fe6ebf07-dc9a-4fc1-f29d-625f643a4901"
      },
      "source": [
        "#RMSE of training set.\n",
        "#notice the test RMSE is very close, and a bit smaller this is a little unusual but not \n",
        "#so unusual as to worry.\n",
        "rmse(model_coefs[0], model_coefs[1], model_coefs[2], model_coefs[3], model_coefs[4])"
      ],
      "execution_count": null,
      "outputs": [
        {
          "output_type": "execute_result",
          "data": {
            "text/plain": [
              "4.48293960279929"
            ]
          },
          "metadata": {
            "tags": []
          },
          "execution_count": 74
        }
      ]
    },
    {
      "cell_type": "markdown",
      "metadata": {
        "id": "3EEczZxMm04D"
      },
      "source": [
        "# K-nearest Neighbor Model"
      ]
    },
    {
      "cell_type": "markdown",
      "metadata": {
        "id": "-RQ4D27pm04E"
      },
      "source": [
        "Note you should use the same training and test data for this model as you did for the regression.\n",
        "\n",
        "1. Create a function or series of functions that finds the nearest neighbor in the training data of a single row of data.  You will find [this notebook from lecture helpful](http://datahub.cs.umass.edu/hub/user-redirect/git-sync?repo=https://github.com/umass-data-science/materials-sp21&subPath=lec/lec22.ipynb)\n",
        "\n",
        "*hint:* you want the closest() function to work.  You don't need the majority_class or classify functions because this is a regression problem.\n",
        "\n",
        "\n",
        "\n",
        "\n",
        "\n",
        "\n"
      ]
    },
    {
      "cell_type": "code",
      "metadata": {
        "id": "xX3oZ3HBm04G"
      },
      "source": [
        " def distance(pt1, pt2):\n",
        "    \"\"\"Return the distance between two points, represented as arrays\"\"\"\n",
        "    return np.sqrt(sum((pt1 - pt2)**2))\n",
        "\n",
        "def row_distance(row1, row2):\n",
        "    \"\"\"Return the distance between two numerical rows of a table\"\"\"\n",
        "    return distance(np.array(row1), np.array(row2))\n",
        "\n",
        "def distances(train, example):\n",
        "    \"\"\"Compute distance between example and every row in train.\n",
        "    Return train augmented with Distance column\"\"\"\n",
        "    distances = make_array()\n",
        "    attributes = train.drop('Class')\n",
        "    for row in attributes.rows:\n",
        "        distances = np.append(distances, row_distance(row, example))\n",
        "    return train.with_column('Distance', distances)\n",
        "\n",
        "def closest(train, example, k):\n",
        "    \"\"\"Return a table of the k closest neighbors to example\"\"\"\n",
        "    return distances(train, example).sort('Distance').take(np.arange(k))"
      ],
      "execution_count": null,
      "outputs": []
    },
    {
      "cell_type": "markdown",
      "metadata": {
        "id": "2ZWHCRVCm04H"
      },
      "source": [
        "2.  Use you function to find the nearest neighbor (k=1) in the training set of each observation in the test set.  The value of the nearest neighbor's wage in the training set is the prediction of the value of wage for the test observation."
      ]
    },
    {
      "cell_type": "code",
      "metadata": {
        "id": "yawAEfTwm04J",
        "outputId": "be595cb0-e14b-41ae-c709-a072780687a8"
      },
      "source": [
        "test.row(0)"
      ],
      "execution_count": null,
      "outputs": [
        {
          "output_type": "execute_result",
          "data": {
            "text/plain": [
              "Row(wage=11.0, educ=8, sex=1, exper=42, union=0)"
            ]
          },
          "metadata": {
            "tags": []
          },
          "execution_count": 76
        }
      ]
    },
    {
      "cell_type": "code",
      "metadata": {
        "id": "7qvEOhoWm04K",
        "outputId": "81b312d9-6617-4542-bc22-633c5a17a73f"
      },
      "source": [
        "predicted_wage = closest(train, test.row(0), 1)\n",
        "predicted_wage[0][0]"
      ],
      "execution_count": null,
      "outputs": [
        {
          "output_type": "execute_result",
          "data": {
            "text/plain": [
              "8.0"
            ]
          },
          "metadata": {
            "tags": []
          },
          "execution_count": 84
        }
      ]
    },
    {
      "cell_type": "code",
      "metadata": {
        "id": "OxLgEUsTm04L"
      },
      "source": [
        "predicted_wage_array = make_array()\n",
        "for i in np.arange(test.num_rows):\n",
        "    predicted_wage = closest(train, test.row(i), 1)[0][0]#this chooses the wage of the nearest neighbor\n",
        "    predicted_wage_array = np.append(predicted_wage_array, predicted_wage)"
      ],
      "execution_count": null,
      "outputs": []
    },
    {
      "cell_type": "code",
      "metadata": {
        "id": "7dHTh8Xnm04L",
        "outputId": "1eff00f8-8122-4f42-ea41-510eef75d21e"
      },
      "source": [
        "predicted_wage_array"
      ],
      "execution_count": null,
      "outputs": [
        {
          "output_type": "execute_result",
          "data": {
            "text/plain": [
              "array([ 8.  ,  4.25,  6.25,  6.94, 12.5 ,  3.35, 13.16, 17.86, 11.22,\n",
              "        4.13,  6.25,  7.5 , 19.  ,  4.5 ,  6.  , 11.25,  9.6 ,  6.  ,\n",
              "        6.  , 11.79, 10.  ,  8.06, 12.  ,  6.5 ,  5.  ,  4.17,  5.25,\n",
              "        3.6 , 11.25,  8.89, 11.11,  6.25,  6.67, 24.98,  3.95,  5.5 ,\n",
              "       26.29,  6.94, 10.5 ,  5.5 , 10.  ,  5.5 ,  4.25,  4.  , 19.88,\n",
              "        8.5 , 11.25,  5.5 ,  5.5 ,  4.  ,  7.  ,  9.33, 20.55,  8.75,\n",
              "        5.  , 19.  ,  5.  ,  8.  ,  8.  ,  6.  ,  4.  ,  4.5 , 13.45,\n",
              "       11.25,  8.5 ,  7.61,  4.25, 10.  ,  4.13,  5.55, 15.  ,  4.28,\n",
              "       24.98,  5.  ,  3.5 , 20.5 , 24.98,  6.4 ,  3.35,  7.5 ,  9.  ,\n",
              "        4.  ,  9.5 , 19.88, 13.45,  6.  ,  5.  ,  5.25,  5.65,  7.5 ,\n",
              "        8.49, 12.  ,  4.  ,  5.25,  3.75,  5.  ,  6.88, 11.79, 14.29,\n",
              "       10.  ,  7.5 ,  5.71,  6.75, 11.25,  4.5 ,  7.5 , 15.95,  4.25,\n",
              "       14.  ,  8.  , 20.5 ,  8.5 ,  5.2 , 10.28,  8.06, 13.45,  8.5 ,\n",
              "        7.96, 11.25,  7.61, 11.67,  3.5 ,  7.  ,  6.25,  4.85, 10.  ,\n",
              "        3.95, 12.22,  4.8 , 10.  , 11.25,  8.75, 12.22, 22.5 ,  8.  ,\n",
              "        8.  , 11.25,  3.75,  2.85,  4.55, 10.28,  5.5 ,  5.  ,  3.75,\n",
              "       11.25,  5.65, 13.12,  7.96, 12.  ,  4.45,  8.5 ,  8.06, 16.14,\n",
              "        5.  , 18.16, 11.11,  6.93, 19.98, 11.67,  4.45])"
            ]
          },
          "metadata": {
            "tags": []
          },
          "execution_count": 86
        }
      ]
    },
    {
      "cell_type": "markdown",
      "metadata": {
        "id": "i2h0-Vfmm04Q"
      },
      "source": [
        "3.  Calculate the RMSE of the predicted wage using your nearest neighbor prediction.  This is the RMSE of your nearest neighbor model"
      ]
    },
    {
      "cell_type": "code",
      "metadata": {
        "id": "Ux2GaLP8m04S",
        "outputId": "787b4725-8de6-4271-9faa-0a1145b508aa"
      },
      "source": [
        "predicted_wage_array - test.column('wage')"
      ],
      "execution_count": null,
      "outputs": [
        {
          "output_type": "execute_result",
          "data": {
            "text/plain": [
              "array([-3.  ,  0.9 , -1.53,  0.69, -1.21,  0.  ,  0.06, -0.14, -0.78,\n",
              "        0.33, -0.42, -0.03,  1.  , -0.75, -1.  ,  1.25,  0.6 , -0.36,\n",
              "        0.38,  0.54,  0.5 ,  0.56, -0.5 ,  1.  ,  0.  , -0.83, -0.25,\n",
              "       -0.04,  0.64,  1.39,  0.33,  0.25,  1.27,  0.  ,  0.3 , -0.6 ,\n",
              "        1.31,  0.54, -1.5 ,  0.  ,  1.  ,  0.  ,  0.7 , -0.1 ,  1.38,\n",
              "       -0.86,  0.93, -0.5 ,  0.1 ,  0.5 ,  0.25, -0.27, -0.7 , -1.25,\n",
              "        0.  ,  0.84, -0.3 ,  0.  , -6.  , -0.25,  0.  ,  0.15,  0.95,\n",
              "        4.25,  1.05, -0.04,  0.8 , -1.  , -0.42, -0.55,  0.  , -0.31,\n",
              "        0.  , -0.77, -0.48, -2.  , -1.02, -1.6 ,  0.  ,  0.92,  1.2 ,\n",
              "       -0.5 , -0.15,  0.41, -0.76,  0.5 ,  0.  , -0.5 , -0.18,  1.22,\n",
              "        0.74, -0.57, -0.75,  0.75,  0.15, -1.25,  1.78,  1.17, -1.09,\n",
              "        0.  ,  1.  ,  0.91,  1.8 ,  0.75,  0.85,  0.  , -1.55, -0.75,\n",
              "        0.55,  0.62, -1.5 ,  0.07, -0.65,  0.28, -0.14,  0.19, -0.65,\n",
              "        0.29,  0.82, -0.08,  1.05,  0.  , -1.5 , -0.48,  0.35, -0.67,\n",
              "        0.2 ,  0.22, -0.05,  0.  ,  0.75, -0.1 ,  0.72, -0.75,  0.  ,\n",
              "       -0.56,  3.25, -0.05,  0.84, -1.2 ,  0.53, -1.35,  1.  , -2.04,\n",
              "        0.25, -0.22, -1.88,  1.71, -0.2 ,  1.05,  1.  ,  0.56,  1.47,\n",
              "       -0.5 ,  0.91, -0.21, -0.07, -2.22,  2.5 , -2.05])"
            ]
          },
          "metadata": {
            "tags": []
          },
          "execution_count": 87
        }
      ]
    },
    {
      "cell_type": "code",
      "metadata": {
        "id": "59seyJ5Km04T",
        "outputId": "0a39019b-d717-4b09-90bd-69a0f7fe589d"
      },
      "source": [
        "np.sqrt(np.mean((predicted_wage_array - test.column('wage'))**2))"
      ],
      "execution_count": null,
      "outputs": [
        {
          "output_type": "execute_result",
          "data": {
            "text/plain": [
              "1.0876361983678182"
            ]
          },
          "metadata": {
            "tags": []
          },
          "execution_count": 88
        }
      ]
    },
    {
      "cell_type": "markdown",
      "metadata": {
        "id": "hJKnEwsXm04U"
      },
      "source": [
        "**Results:** What are the RMSEs of your two models?  Which one has a lower RMSE on the test set? "
      ]
    },
    {
      "cell_type": "markdown",
      "metadata": {
        "id": "nkX7lboQm04V"
      },
      "source": [
        "RMSE of the linear regression model is 4.48, RMSE of the nearest neighbor model is 13.7, so the linear regression model has a lower test set error"
      ]
    }
  ]
}