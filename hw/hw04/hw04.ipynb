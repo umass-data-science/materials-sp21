{
  "nbformat": 4,
  "nbformat_minor": 0,
  "metadata": {
    "kernelspec": {
      "display_name": "Python 3",
      "language": "python",
      "name": "python3"
    },
    "language_info": {
      "codemirror_mode": {
        "name": "ipython",
        "version": 3
      },
      "file_extension": ".py",
      "mimetype": "text/x-python",
      "name": "python",
      "nbconvert_exporter": "python",
      "pygments_lexer": "ipython3",
      "version": "3.6.4"
    },
    "colab": {
      "name": "hw04.ipynb",
      "provenance": [],
      "collapsed_sections": []
    }
  },
  "cells": [
    {
      "cell_type": "markdown",
      "metadata": {
        "id": "hSChv-n8NuBN"
      },
      "source": [
        "# Homework 4: Functions, Histograms, and Groups"
      ]
    },
    {
      "cell_type": "markdown",
      "metadata": {
        "id": "Mg3fThi3NuBR"
      },
      "source": [
        "**Reading**: Textbook chapter [7.2](https://umass-data-science.github.io/190fwebsite/textbook/07/2/visualizing-numerical-distributions/) and chapter [8](https://umass-data-science.github.io/190fwebsite/textbook/08/functions-and-tables/)."
      ]
    },
    {
      "cell_type": "markdown",
      "metadata": {
        "id": "DiPEWNjVNuBT"
      },
      "source": [
        "Please complete this notebook by filling in the cells provided.\n",
        "\n",
        "Homework 4 is due Thursday, 3/11 at 11:59pm. Start early so that you can come to office hours if you're stuck. Check the website for the office hours schedule. Late work will not be accepted as per the [policies](https://umass-data-science.github.io/190fwebsite/policy/) of this course. \n",
        "\n",
        "Throughout this homework and all future ones, please be sure to not re-assign variables throughout the notebook! For example, if you use `max_temperature` in your answer to one question, do not reassign it later on. Moreover, please be sure to only put your written answers in the provided cells. "
      ]
    },
    {
      "cell_type": "code",
      "metadata": {
        "id": "hI2wv2WfNuBW"
      },
      "source": [
        "# Don't change this cell; just run it. \n",
        "import numpy as np\n",
        "from datascience import *\n",
        "\n",
        "# These lines do some fancy plotting magic.\\n\",\n",
        "import matplotlib\n",
        "%matplotlib inline\n",
        "import matplotlib.pyplot as plots\n",
        "plots.style.use('fivethirtyeight')\n"
      ],
      "execution_count": null,
      "outputs": []
    },
    {
      "cell_type": "markdown",
      "metadata": {
        "id": "HSnod0gKNuBZ"
      },
      "source": [
        "## 1. Working with Text using Functions\n"
      ]
    },
    {
      "cell_type": "markdown",
      "metadata": {
        "id": "4s5IR5gzNuBb"
      },
      "source": [
        "The following table contains the words from four chapters of Charles Dickens' [*A Tale of Two Cities*](http://www.gutenberg.org/cache/epub/98/pg98.txt).  We're going to compute some simple facts about each chapter.  Since we're performing the same computation on each chapter, it's best to encapsulate each computational procedure in a function, and then call the function several times. Run the cell to get a table with one column."
      ]
    },
    {
      "cell_type": "code",
      "metadata": {
        "id": "tElAwy1sNuBe"
      },
      "source": [
        "# Just run this cell to load the data.\n",
        "tale_chapters = Table.read_table(\"tale.csv\")\n",
        "tale_chapters"
      ],
      "execution_count": null,
      "outputs": []
    },
    {
      "cell_type": "markdown",
      "metadata": {
        "id": "VfbG5BCGNuBg"
      },
      "source": [
        "**Question 1.** Write a function called `word_count` that takes a single argument, the text of a single chapter, and returns the number of words in that chapter.  Assume that words are separated from each other by spaces. \n",
        "\n",
        "*Hint:* Try the string method [`split`](https://docs.python.org/3/library/stdtypes.html#str.split) and the function [`len`](https://docs.python.org/3/library/functions.html#len)."
      ]
    },
    {
      "cell_type": "code",
      "metadata": {
        "for_assignment_type": "student",
        "id": "lE0xW3DqNuBi"
      },
      "source": [
        "def word_count(text):\n",
        "    ...\n",
        "    \n",
        "word_count(tale_chapters.column(\"Chapter text\").item(0))"
      ],
      "execution_count": null,
      "outputs": []
    },
    {
      "cell_type": "markdown",
      "metadata": {
        "id": "4mvOnaMyNuBl"
      },
      "source": [
        "**Question 2.** Use the `apply` function on the table from before to create an array called `chapter_lengths` which contains the length of each chapter in `tale_chapters`."
      ]
    },
    {
      "cell_type": "code",
      "metadata": {
        "id": "H-DuytelNuBn"
      },
      "source": [
        "chapter_lengths = ...\n",
        "chapter_lengths"
      ],
      "execution_count": null,
      "outputs": []
    },
    {
      "cell_type": "markdown",
      "metadata": {
        "id": "b-W6g-N-NuBr"
      },
      "source": [
        "**Question 3.** Write a function called `character_count`.  It should take a string as its argument and return the number of characters in that string that aren't spaces (\" \"), periods (\".\"), exclamation marks (\"!\"), or question marks (\"?\"). Remember that `tale_chapters` is a table, and that the function takes in only the text of one chapter as input.\n",
        "\n",
        "*Hint:* Try using the string method `replace` several times to remove the characters we don't want to count."
      ]
    },
    {
      "cell_type": "code",
      "metadata": {
        "for_assignment_type": "student",
        "id": "4akAD9N9NuBs"
      },
      "source": [
        "..."
      ],
      "execution_count": null,
      "outputs": []
    },
    {
      "cell_type": "markdown",
      "metadata": {
        "id": "Oia8jCQXNuBs"
      },
      "source": [
        "**Question 4.** Write a function called `chapter_number`.  It should take a single argument, the text of a chapter from our dataset, and return the number of that chapter, as a Roman numeral.  (For example, it should return the string \"I\" for the first chapter and \"II\" for the second.)  If the argument doesn't have a chapter number in the same place as the chapters in our dataset, `chapter_number` can return whatever you like.\n",
        "\n",
        "To help you with this, we've included a function called `text_before`.  Its documentation describes what it does."
      ]
    },
    {
      "cell_type": "code",
      "metadata": {
        "id": "CHiYNWUbNuBu"
      },
      "source": [
        "def text_before(full_text, pattern):\n",
        "    \"\"\"Finds all the text that occurs in full_text before the specified pattern.\n",
        "\n",
        "    Parameters\n",
        "    ----------\n",
        "    full_text : str\n",
        "        The text we want to search within.\n",
        "    param2 : str\n",
        "        The thing we want to search for.\n",
        "\n",
        "    Returns\n",
        "    -------\n",
        "    str\n",
        "        All the text that occurs in full_text before pattern.  If pattern\n",
        "        doesn't appear anywhere, all of full_text is returned.\n",
        "    \n",
        "    Examples\n",
        "    --------\n",
        "    \n",
        "    >>> text_before(\"The rain in Spain falls mainly on the plain.\", \"Spain\")\n",
        "    'The rain in '\n",
        "    >>> text_before(\"The rain in Spain falls mainly on the plain.\", \"ain\")\n",
        "    'The r'\n",
        "    >>> text_before(\"The rain in Spain falls mainly on the plain.\", \"Portugal\")\n",
        "    'The rain in Spain falls mainly on the plain.'\n",
        "    \"\"\"\n",
        "    return np.array(full_text.split(pattern)).item(0)\n",
        "\n",
        "def chapter_number(chapter_text):\n",
        "    ..."
      ],
      "execution_count": null,
      "outputs": []
    },
    {
      "cell_type": "markdown",
      "metadata": {
        "id": "ubWAur08NuBv"
      },
      "source": [
        "## 2. Uber\n"
      ]
    },
    {
      "cell_type": "markdown",
      "metadata": {
        "id": "rHSvu3TPNuBw"
      },
      "source": [
        "Below we load tables containing 200,000 weekday Uber rides in the Manila, Philippines, and Boston, Massachusetts metropolitan areas from the [Uber Movement](https://movement.uber.com) project. The `sourceid` and `dstid` columns contain codes corresponding to start and end locations of each ride. The `hod` column contains codes corresponding to the hour of the day the ride took place. The `ride time` table contains the length of the ride, in minutes."
      ]
    },
    {
      "cell_type": "code",
      "metadata": {
        "for_question_type": "solution",
        "scrolled": true,
        "id": "wbvXaDzaNuBx"
      },
      "source": [
        "boston = Table.read_table(\"boston.csv\")\n",
        "manila = Table.read_table(\"manila.csv\")\n",
        "print(\"Boston\")\n",
        "boston.show(4)\n",
        "print(\"Manila\")\n",
        "manila.show(4)"
      ],
      "execution_count": null,
      "outputs": []
    },
    {
      "cell_type": "markdown",
      "metadata": {
        "id": "RH6IvnVuNuBx"
      },
      "source": [
        "**Question 1**\n",
        "Produce histograms of all ride times in Boston and in Manila, using the given bins. Please put the code for both of them in the following cell, and put the ride times for Boston first.  "
      ]
    },
    {
      "cell_type": "code",
      "metadata": {
        "deletable": false,
        "manual_problem_id": "uber_1",
        "id": "9J2hSzCLNuBy"
      },
      "source": [
        "bins = np.arange(0, 120, 5)\n",
        "...\n",
        "..."
      ],
      "execution_count": null,
      "outputs": []
    },
    {
      "cell_type": "markdown",
      "metadata": {
        "id": "xtRH5F-_NuBz"
      },
      "source": [
        "** Question 2** Set the two variables below to estimates of what percentage of rides are less than 10 minutes in Boston and Manila. Find your estimates by visually assessing the histograms. Your solution should consist of only mathematical operations and numbers."
      ]
    },
    {
      "cell_type": "code",
      "metadata": {
        "deletable": false,
        "manual_problem_id": "uber_2",
        "id": "Yhn40OHONuB1"
      },
      "source": [
        "boston_under_10 = ...\n",
        "manila_under_10 = ..."
      ],
      "execution_count": null,
      "outputs": []
    },
    {
      "cell_type": "markdown",
      "metadata": {
        "id": "9LC1TXATNuB2"
      },
      "source": [
        "**Question 3** Comment on the main difference between the two histograms. What might be causing this?"
      ]
    },
    {
      "cell_type": "markdown",
      "metadata": {
        "deletable": false,
        "for_assignment_type": "student",
        "manual_problem_id": "uber_3",
        "id": "ovi8Uag8NuB3"
      },
      "source": [
        "**Your Solution Here**:"
      ]
    },
    {
      "cell_type": "markdown",
      "metadata": {
        "id": "Iogq7RihNuB3"
      },
      "source": [
        "**The following two questions are optional!** \n",
        "\n",
        "Please do make an attempt at them, but they will not be incorporated into the final grading of this homework. "
      ]
    },
    {
      "cell_type": "markdown",
      "metadata": {
        "id": "Q7ilGfHBNuB3"
      },
      "source": [
        "**Optional Question 4** The `hod` column in each table represents the hour of the day during which the Uber was called. 0 corresponds to 12-1 AM, 1 to 1-2 AM, 13 to 1-2 PM, etc. Write a function which takes in a table like `boston` or `manila`, and an `hod` number between 0 and 23, and displays a histogram of ride lengths from that hour in that city. Use the same bins as before."
      ]
    },
    {
      "cell_type": "code",
      "metadata": {
        "deletable": false,
        "for_assignment_type": "student",
        "id": "-mF8MJSWNuB4"
      },
      "source": [
        "def hist_for_time(tbl, hod):\n",
        "    bins = np.arange(0, 120, 5)\n",
        "    ...\n",
        "\n",
        "#DO NOT DELETE THIS LINE! \n",
        "hist_for_time(boston, 12)"
      ],
      "execution_count": null,
      "outputs": []
    },
    {
      "cell_type": "markdown",
      "metadata": {
        "id": "nYrdSkqkNuB5"
      },
      "source": [
        "**Optional Question 5** Between the two cities, which has a larger difference between Uber calls at 10 AM and 10 PM? Use the function you just created to answer this question. Include the code you need to come up with an answer below.\n",
        "\n",
        "Assign `larger_diff` to the number 1 if the answer is Manila, and 2 if the answer is Boston. "
      ]
    },
    {
      "cell_type": "code",
      "metadata": {
        "deletable": false,
        "for_assignment_type": "student",
        "manual_problem_id": "manual_grading",
        "id": "9o1dHkH3NuB7"
      },
      "source": [
        "larger_diff = ... "
      ],
      "execution_count": null,
      "outputs": []
    },
    {
      "cell_type": "markdown",
      "metadata": {
        "id": "GPhvCzUgNuB8"
      },
      "source": [
        "## 3. Faculty salaries\n"
      ]
    },
    {
      "cell_type": "markdown",
      "metadata": {
        "id": "pGiSPOQ9NuB9"
      },
      "source": [
        "In the next cell, we load a dataset compiled by the [Daily Cal](http://projects.dailycal.org/paychecker/) about UC Berkeley (where this course was created). It includes information on faculty, their departments, their positions, and their gross salaries in 2015. "
      ]
    },
    {
      "cell_type": "code",
      "metadata": {
        "id": "F90lIGtXNuB-"
      },
      "source": [
        "profs = Table.read_table(\"faculty.csv\").where(\"year\", are.equal_to(2015))\\\n",
        "                                       .drop(\"year\", \"title\")\\\n",
        "                                       .relabeled(\"title_category\", \"position\")\n",
        "profs"
      ],
      "execution_count": null,
      "outputs": []
    },
    {
      "cell_type": "markdown",
      "metadata": {
        "id": "uSLjSUYGNuB-"
      },
      "source": [
        "We want to use this table to generate arrays with the names of each professor in each department."
      ]
    },
    {
      "cell_type": "markdown",
      "metadata": {
        "id": "L9orNtPrNuB-"
      },
      "source": [
        "**Question 1** Set `prof_names` to a table with two columns. The first column should be called \"department\" and have the name of every department once, and the second column should be called \"faculty\" and contain an *array* of the names of all faculty members in that department. \n",
        "\n",
        "*Hint:* Think about how ```group``` works: it collects values into an array and then applies a function to that array. We have defined two functions below for you, and you will need to use one of them in your call to ```group```. If you're not sure which to use, try experimenting with both!"
      ]
    },
    {
      "cell_type": "code",
      "metadata": {
        "id": "Gop7GSM0NuCB"
      },
      "source": [
        "# Pick between the two functions defined below \n",
        "def identity(array):\n",
        "    return array \n",
        "\n",
        "def first(array):\n",
        "    return array.item(0)"
      ],
      "execution_count": null,
      "outputs": []
    },
    {
      "cell_type": "code",
      "metadata": {
        "id": "nk-4xI51NuCB"
      },
      "source": [
        "prof_names = ...\n",
        "prof_names"
      ],
      "execution_count": null,
      "outputs": []
    },
    {
      "cell_type": "markdown",
      "metadata": {
        "id": "EO0PZ7eENuCC"
      },
      "source": [
        " ** Question 2 ** At the moment, the `name` column of `profs` is sorted by last name. Would the arrays you generated in the previous part be the same as if we had sorted by first name instead? When we say that two arrays are the same, we mean that they contain the same number of elements and the elements in the corresponding positions are identical. Explain your answer. If you feel you need to make certain assumptions about the data, feel free to state them in your response. "
      ]
    },
    {
      "cell_type": "markdown",
      "metadata": {
        "deletable": false,
        "manual_problem_id": "faculty_1",
        "id": "pdYZsUZMNuCD"
      },
      "source": [
        "*Write your answer here, replacing this text.*"
      ]
    },
    {
      "cell_type": "markdown",
      "metadata": {
        "id": "50NK0ctJNuCD"
      },
      "source": [
        "**Question 3** Set `biggest_range_dept` to the name of the department with the largest salary range, where range is defined as the difference between the lowest and highest salaries in the department. \n",
        "\n",
        "*Hint:* First you'll need to define a new function `salary_range` which takes in an array of salaries and returns the salary range of the corresponding department. Think about what functions we have discussed can combine and give you this range. Then, set `department_ranges` to a table containing the names and salary ranges of each department. "
      ]
    },
    {
      "cell_type": "code",
      "metadata": {
        "id": "KN2UFLZ_NuCD"
      },
      "source": [
        "# Define salary_range in this cell\n",
        "...\n",
        "    ..."
      ],
      "execution_count": null,
      "outputs": []
    },
    {
      "cell_type": "code",
      "metadata": {
        "id": "DFL1CFu7NuCE"
      },
      "source": [
        "department_ranges = ...\n",
        "biggest_range_dept = ...\n",
        "biggest_range_dept"
      ],
      "execution_count": null,
      "outputs": []
    },
    {
      "cell_type": "markdown",
      "metadata": {
        "id": "4hzh7Ob9NuCF"
      },
      "source": [
        "## 4. Submission\n"
      ]
    },
    {
      "cell_type": "markdown",
      "metadata": {
        "collapsed": true,
        "id": "soIUc6eiNuCF"
      },
      "source": [
        "Once you're finished, select \"Save and Checkpoint\" in the File menu and then select \"Download as\" from the File menu, choosing \"Notebook\" and then \"PDF\".  Upload the Notebook (.ipynb) into [Gradescope](https://www.gradescope.com/courses/84122) and upload the PDF to Moodle under the HW4 assignment, as discussed in lab. "
      ]
    }
  ]
}