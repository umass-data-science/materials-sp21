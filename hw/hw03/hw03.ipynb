{
  "nbformat": 4,
  "nbformat_minor": 0,
  "metadata": {
    "kernelspec": {
      "display_name": "Python 3",
      "language": "python",
      "name": "python3"
    },
    "language_info": {
      "codemirror_mode": {
        "name": "ipython",
        "version": 3
      },
      "file_extension": ".py",
      "mimetype": "text/x-python",
      "name": "python",
      "nbconvert_exporter": "python",
      "pygments_lexer": "ipython3",
      "version": "3.8.3"
    },
    "colab": {
      "name": "hw03.ipynb",
      "provenance": [],
      "collapsed_sections": []
    }
  },
  "cells": [
    {
      "cell_type": "markdown",
      "metadata": {
        "id": "oR5uE8YnMvSv"
      },
      "source": [
        "# Homework 3: Table Manipulation and Visualization"
      ]
    },
    {
      "cell_type": "markdown",
      "metadata": {
        "id": "_-FVLbMbMvSz"
      },
      "source": [
        "**Reading**: Textbook chapter [7](https://umass-data-science.github.io/190fwebsite/textbook/07/visualization/)."
      ]
    },
    {
      "cell_type": "markdown",
      "metadata": {
        "id": "R4RmCiB9M4w0"
      },
      "source": [
        ""
      ]
    },
    {
      "cell_type": "markdown",
      "metadata": {
        "id": "sjsgIfvJMvS1"
      },
      "source": [
        "Please complete this notebook by filling in the cells provided. Before you begin, execute the following cell to load the provided tests. Each time you start your server, you will need to execute this cell again to load the tests.\n",
        "\n",
        "Homework 3 is due Thursday, 3/4 by 11:59pm. Start early so that you can come to office hours if you're stuck. Check the website for the office hours schedule. Late work will not be accepted as per the [policies](https://umass-data-science.github.io/190fwebsite/policy/) of this course. \n",
        "\n",
        "Throughout this homework and all future ones, please be sure to not re-assign variables throughout the notebook! For example, if you use `max_temperature` in your answer to one question, do not reassign it later on. Moreover, please be sure to only put your written answers in the provided cells. "
      ]
    },
    {
      "cell_type": "code",
      "metadata": {
        "id": "XxjFTJm7MvS4"
      },
      "source": [
        "# Don't change this cell; just run it. \n",
        "\n",
        "import numpy as np\n",
        "from datascience import *\n",
        "\n",
        "\n",
        "# These lines do some fancy plotting magic.\\n\",\n",
        "import matplotlib\n",
        "%matplotlib inline\n",
        "import matplotlib.pyplot as plots\n",
        "plots.style.use('fivethirtyeight')\n"
      ],
      "execution_count": null,
      "outputs": []
    },
    {
      "cell_type": "markdown",
      "metadata": {
        "id": "Ghh0CHnzMvS6"
      },
      "source": [
        "## 1. Differences between Universities, Part II\n"
      ]
    },
    {
      "cell_type": "markdown",
      "metadata": {
        "id": "YPwujxAwMvS8"
      },
      "source": [
        "**Question 1.** Suppose you're choosing a university to attend, and you'd like to *quantify* how *dissimilar* any two universities are.  You rate each university you're considering on several numerical traits.  You decide on a very detailed list of 1000 traits, and you measure all of them!  Some examples:\n",
        "\n",
        "* The cost to attend (per year)\n",
        "* The average Yelp review of nearby Thai restaurants\n",
        "* The USA Today ranking of the Medical school\n",
        "* The USA Today ranking of the Engineering school\n",
        "\n",
        "You decide that the dissimilarity between two universities is the *total* of the differences in their traits.  That is, the dissimilarity is:\n",
        "\n",
        "* the **sum** of\n",
        "* the absolute values of\n",
        "* the 1000 differences in their trait values.\n",
        "\n",
        "In the next cell, we've loaded arrays containing the 1000 trait values for UMass and Harvard.  Compute the dissimilarity (according to the above method) between UMass and Harvard.  Call your answer `dissimilarity`.  Use a single line of code to compute the answer.\n",
        "\n",
        "*Note:* The data we're using aren't real -- we made them up for this exercise, except for the cost-of-attendance numbers. "
      ]
    },
    {
      "cell_type": "code",
      "metadata": {
        "id": "-NcU4yOOMvS-"
      },
      "source": [
        "UMass = Table.read_table(\"UMass.csv\").column(\"Trait value\")\n",
        "Harvard = Table.read_table(\"Harvard.csv\").column(\"Trait value\")\n",
        "\n",
        "dissimilarity = ...\n",
        "dissimilarity"
      ],
      "execution_count": null,
      "outputs": []
    },
    {
      "cell_type": "markdown",
      "metadata": {
        "id": "M7s0rOXPMvTA"
      },
      "source": [
        "**Question 2.** Why do we sum up the absolute values of the differences in trait values, rather than just summing up the differences?"
      ]
    },
    {
      "cell_type": "markdown",
      "metadata": {
        "deletable": false,
        "manual_grade": true,
        "manual_problem_id": "more_universities_3",
        "id": "cSdF7WAtMvTA"
      },
      "source": [
        "*Write your answer here, replacing this text.*"
      ]
    },
    {
      "cell_type": "markdown",
      "metadata": {
        "id": "v5bUbH7BMvTB"
      },
      "source": [
        "##### Weighing the traits\n",
        "After computing dissimilarities between several schools, you notice a problem with your method: the scale of the traits matters a lot.\n",
        "\n",
        "Since schools cost tens of thousands of dollars to attend, the cost-to-attend trait is always a much bigger *number* than most other traits.  That makes it affect the dissimilarity a lot more than other traits.  Two schools that differ in cost-to-attend by \\$900, but are otherwise identical, get a dissimilarity of 900.  But two schools that differ in graduation rate by .9 (a huge difference!), but are otherwise identical, get a dissimilarity of only .9.\n",
        "\n",
        "One way to fix this problem is to assign different \"weights\" to different traits.  For example, we could fix the problem above by multiplying the difference in the cost-to-attend traits by .001, so that a difference of \\$900 in cost-to-attend results in a dissimilarity of $900 \\times .001$, or $.9$.\n",
        "\n",
        "Here's a revised method that does that for every trait:\n",
        "\n",
        "1. For each trait, subtract the two schools' trait values.\n",
        "2. Then take the absolute value of that difference.\n",
        "3. *Now multiply that absolute value by a trait-specific number, like .001 or 2.*\n",
        "4. Now sum the 1000 resulting numbers.\n",
        "\n",
        "**Question 3.** Suppose you've already decided on a weight for each trait.  These are loaded into an array called `weights` in the cell below.  `weights.item(0)` is the weight for the first trait, `weights.item(1)` is the weight for the second trait, and so on.  Use the revised method to compute a revised dissimilarity between UMass and Harvard.\n",
        "\n",
        "*Hint:* Using array arithmetic, your answer should be almost as short as in question 1."
      ]
    },
    {
      "cell_type": "code",
      "metadata": {
        "id": "nd_tctEcMvTB"
      },
      "source": [
        "weights = Table.read_table(\"weights.csv\").column(\"Weight\")\n",
        "\n",
        "revised_dissimilarity = ...\n",
        "revised_dissimilarity"
      ],
      "execution_count": null,
      "outputs": []
    },
    {
      "cell_type": "markdown",
      "metadata": {
        "id": "PlkMWG4NMvTD"
      },
      "source": [
        "## 2. Unemployment\n"
      ]
    },
    {
      "cell_type": "markdown",
      "metadata": {
        "id": "SQg5aE5SMvTD"
      },
      "source": [
        "The Federal Reserve Bank of St. Louis publishes data about jobs in the US.  Below we've loaded data on unemployment in the United States.  There are many ways of defining unemployment, and our dataset includes two notions of the unemployment rate:\n",
        "\n",
        "1. Among people who are able to work and are looking for a full-time job, the percentage who can't find a job.  This is called the Non-Employment Index, or NEI.\n",
        "2. Among people who are able to work and are looking for a full-time job, the percentage who can't find any job *or* are only working at a part-time job.  The latter group is called \"Part-Time for Economic Reasons\", so the acronym for this index is NEI-PTER.  (Economists are great at marketing.)\n",
        "\n",
        "The source of the data is [here](https://fred.stlouisfed.org/categories/33509)."
      ]
    },
    {
      "cell_type": "markdown",
      "metadata": {
        "id": "m1SaQNIcMvTF"
      },
      "source": [
        "**Question 1.** The data are in a CSV file called `unemployment.csv`.  Load that file into a table called `unemployment`."
      ]
    },
    {
      "cell_type": "code",
      "metadata": {
        "id": "Ot1v8GzBMvTF"
      },
      "source": [
        "unemployment = ...\n",
        "unemployment"
      ],
      "execution_count": null,
      "outputs": []
    },
    {
      "cell_type": "markdown",
      "metadata": {
        "id": "LTSHZEclMvTF"
      },
      "source": [
        "**Question 2.** Sort the data in decreasing order by NEI, naming the sorted table `by_nei`.  Create another table called `by_nei_pter` that's sorted in decreasing order by NEI-PTER instead."
      ]
    },
    {
      "cell_type": "code",
      "metadata": {
        "id": "Ql1G804IMvTG"
      },
      "source": [
        "by_nei = ...\n",
        "by_nei_pter = ..."
      ],
      "execution_count": null,
      "outputs": []
    },
    {
      "cell_type": "markdown",
      "metadata": {
        "id": "Ccag8vJ3MvTG"
      },
      "source": [
        "**Question 3.** Use `take` to make a table containing the data for the 10 quarters when NEI was greatest.  Call that table `greatest_nei`."
      ]
    },
    {
      "cell_type": "code",
      "metadata": {
        "id": "yGgJgp2-MvTH"
      },
      "source": [
        "greatest_nei = ...\n",
        "greatest_nei"
      ],
      "execution_count": null,
      "outputs": []
    },
    {
      "cell_type": "markdown",
      "metadata": {
        "id": "274Yr7btMvTI"
      },
      "source": [
        "**Question 4.** It's believed that many people became PTER (recall: \"Part-Time for Economic Reasons\") in the \"Great Recession\" of 2008-2009.  NEI-PTER is the percentage of people who are unemployed (and counted in the NEI) plus the percentage of people who are PTER.  Compute an array containing the percentage of people who were PTER in each quarter.  (The first element of the array should correspond to the first row of `unemployment`, and so on.)\n",
        "\n",
        "*Note:* Use the original `unemployment` table for this."
      ]
    },
    {
      "cell_type": "code",
      "metadata": {
        "id": "3ytPCyayMvTI"
      },
      "source": [
        "pter = ...\n",
        "pter"
      ],
      "execution_count": null,
      "outputs": []
    },
    {
      "cell_type": "markdown",
      "metadata": {
        "id": "FDy4r0zjMvTJ"
      },
      "source": [
        "**Question 5.** Add `pter` as a column to `unemployment` (named \"PTER\") and sort the resulting table by that column in decreasing order.  Call the table `by_pter`.\n",
        "\n",
        "Try to do this with a single line of code, if you can."
      ]
    },
    {
      "cell_type": "code",
      "metadata": {
        "id": "HZiH9PZcMvTK"
      },
      "source": [
        "by_pter = ...\n",
        "by_pter"
      ],
      "execution_count": null,
      "outputs": []
    },
    {
      "cell_type": "markdown",
      "metadata": {
        "id": "XSVa3GIvMvTK"
      },
      "source": [
        "**Question 6.** Create a line plot of the PTER over time. To do this, first add the `year` array and the `pter` array to the `unemployment` table; label these columns \"Year\" and \"PTER\", respectively. Then, generate a line plot using one of the table methods you've learned in class."
      ]
    },
    {
      "cell_type": "code",
      "metadata": {
        "id": "zC3tD6_8MvTL"
      },
      "source": [
        "year = 1994 + np.arange(by_pter.num_rows)/4"
      ],
      "execution_count": null,
      "outputs": []
    },
    {
      "cell_type": "markdown",
      "metadata": {
        "id": "5JuLTlhQMvTL"
      },
      "source": [
        "**Question 7.** Were PTER rates high during or directly after the Great Recession (that is to say, were PTER rates particularly high in the years 2008 through 2011 or so)? Assign highPTER to `True` if you think PTER rates were high in this period, and `False` if you think they weren't. "
      ]
    },
    {
      "cell_type": "code",
      "metadata": {
        "id": "rVITqeA2MvTM"
      },
      "source": [
        "highPTER = ..."
      ],
      "execution_count": null,
      "outputs": []
    },
    {
      "cell_type": "markdown",
      "metadata": {
        "id": "qcNQT5akMvTN"
      },
      "source": [
        "## 3. Birth Rates\n"
      ]
    },
    {
      "cell_type": "markdown",
      "metadata": {
        "id": "zCfXy9feMvTN"
      },
      "source": [
        "The following table gives census-based population estimates for each state on July 1, 2015 and July 1, 2016. The last four columns describe the components of the estimated change in population during this time interval. *For all questions below, assume that the word \"states\" refers to all 52 rows including Puerto Rico & the District of Columbia.*"
      ]
    },
    {
      "cell_type": "code",
      "metadata": {
        "id": "hW8FAe96MvTO"
      },
      "source": [
        "# Don't change this cell; just run it.\n",
        "# From http://www2.census.gov/programs-surveys/popest/datasets/2010-2016/national/totals/nst-est2016-alldata.csv\n",
        "# See http://www2.census.gov/programs-surveys/popest/datasets/2010-2015/national/totals/nst-est2015-alldata.pdf\n",
        "#     for column descriptions. (As of Feb 2017, no descriptions were posted for 2010-2016.)\n",
        "pop = Table.read_table('nst-est2016-alldata.csv').where('SUMLEV', 40).select([1, 4, 12, 13, 27, 34, 62, 69])\n",
        "pop = pop.relabeled(2, '2015').relabeled(3, '2016')\n",
        "pop = pop.relabeled(4, 'BIRTHS').relabeled(5, 'DEATHS')\n",
        "pop = pop.relabeled(6, 'MIGRATION').relabeled(7, 'OTHER')\n",
        "pop.set_format([2, 3, 4, 5, 6, 7], NumberFormatter(decimals=0)).show(5)"
      ],
      "execution_count": null,
      "outputs": []
    },
    {
      "cell_type": "markdown",
      "metadata": {
        "id": "x48NuQ9UMvTP"
      },
      "source": [
        "**Question 1.** Assign `us_birth_rate` to the total US annual birth rate during this time interval. The annual birth rate for a year-long period is the number of births in that period as a proportion of the population at the start of the period."
      ]
    },
    {
      "cell_type": "code",
      "metadata": {
        "id": "vTzccX-gMvTQ"
      },
      "source": [
        "us_birth_rate = ...\n",
        "us_birth_rate"
      ],
      "execution_count": null,
      "outputs": []
    },
    {
      "cell_type": "markdown",
      "metadata": {
        "id": "sNjOZTvwMvTQ"
      },
      "source": [
        "**Question 2.** Assign `fastest_growth` to an array of the names of the five states with the fastest population growth rates in *descending order of growth rate*. First, create a new version of the `pop` table, called `growth_rates`, which includes a column with the growth rate of each state. Making intermediate tables can improve the readability of the code and make it easier to follow when revisting at a later time."
      ]
    },
    {
      "cell_type": "code",
      "metadata": {
        "id": "iWbyJ12QMvTQ"
      },
      "source": [
        "growth_rates = ...\n",
        "fastest_growth = ...\n",
        "fastest_growth"
      ],
      "execution_count": null,
      "outputs": []
    },
    {
      "cell_type": "markdown",
      "metadata": {
        "id": "m4B_GOCjMvTQ"
      },
      "source": [
        "**Question 3.** Assign `movers` to the number of states for which the absolute annual rate of migration was higher than 1%. The annual rate of migration for a year-long period is the net number of migrations (in and out) as a proportion of the population at the start of the period. The `MIGRATION` column contains estimated annual net migration counts by state."
      ]
    },
    {
      "cell_type": "code",
      "metadata": {
        "id": "6gtCKdO-MvTR"
      },
      "source": [
        "migration_rates = ...\n",
        "movers = ...\n",
        "movers"
      ],
      "execution_count": null,
      "outputs": []
    },
    {
      "cell_type": "markdown",
      "metadata": {
        "id": "jVQsKQldMvTR"
      },
      "source": [
        "**Question 4.** Assign `west_births` to the total number of births that occurred in region 4 (the Western US). *Hint:* Make sure you double check the type of the values in the region column."
      ]
    },
    {
      "cell_type": "code",
      "metadata": {
        "id": "a9k-Q0alMvTR"
      },
      "source": [
        "west_births = ...\n",
        "west_births"
      ],
      "execution_count": null,
      "outputs": []
    },
    {
      "cell_type": "markdown",
      "metadata": {
        "id": "SEYDxVe_MvTR"
      },
      "source": [
        "**Question 5.** Assign `less_than_west_births` to the number of states that had a total population in 2016 that was smaller than the *number of babies born in region 4 (the Western US)* during this time interval."
      ]
    },
    {
      "cell_type": "code",
      "metadata": {
        "id": "Qn64GrOOMvTR"
      },
      "source": [
        "less_than_west_births = ...\n",
        "less_than_west_births"
      ],
      "execution_count": null,
      "outputs": []
    },
    {
      "cell_type": "markdown",
      "metadata": {
        "id": "ccQRhsT_MvTR"
      },
      "source": [
        "**Question 6.** \n",
        "\n",
        "In the code cell below, create a visualization that will show if there is an association between birth rate and death rate during this time interval. It may be helpful to create an intermediate table here."
      ]
    },
    {
      "cell_type": "code",
      "metadata": {
        "deletable": false,
        "manual_problem_id": "birth_death_rates_graph",
        "id": "txZVVnFMMvTR"
      },
      "source": [
        "# Generate your chart in this cell\n",
        "..."
      ],
      "execution_count": null,
      "outputs": []
    },
    {
      "cell_type": "markdown",
      "metadata": {
        "id": "vCFvWedxMvTS"
      },
      "source": [
        "**Question 7.** `True` or `False`: There is an association between birth rate and death rate during this time interval. \n",
        "\n",
        "Assign your answer to `assoc` in the cell below. "
      ]
    },
    {
      "cell_type": "code",
      "metadata": {
        "id": "G6GO-5CVMvTS"
      },
      "source": [
        "assoc = ..."
      ],
      "execution_count": null,
      "outputs": []
    },
    {
      "cell_type": "markdown",
      "metadata": {
        "id": "qD7Wm17SMvTS"
      },
      "source": [
        "## 4. Marginal Histograms\n"
      ]
    },
    {
      "cell_type": "markdown",
      "metadata": {
        "id": "_CrNMWFRMvTT"
      },
      "source": [
        "Consider the following scatter plot: ![](scatter.png)\n",
        "\n",
        "The axes of the plot represent values of two variables: $x$ and $y$. "
      ]
    },
    {
      "cell_type": "markdown",
      "metadata": {
        "id": "3QU1KVzHMvTT"
      },
      "source": [
        "Suppose we have a table called `t` that has two columns in it:\n",
        "\n",
        "- `x`: a column containing the x-values of the points in the scatter plot\n",
        "- `y`: a column containing the y-values of the points in the scatter plot"
      ]
    },
    {
      "cell_type": "markdown",
      "metadata": {
        "id": "KWr7Us43MvTU"
      },
      "source": [
        "**Question 1:** Match each of the following histograms to the code that produced them. Explain your reasoning."
      ]
    },
    {
      "cell_type": "markdown",
      "metadata": {
        "id": "qdLwSzXlMvTU"
      },
      "source": [
        "**Histogram A:** ![](var1.png)\n",
        "**Histogram B:** ![](var2.png)"
      ]
    },
    {
      "cell_type": "markdown",
      "metadata": {
        "deletable": false,
        "for_assignment_type": "student",
        "manual_problem_id": "hist_x",
        "id": "ePUygLbKMvTU"
      },
      "source": [
        "**Line 1:** `t.hist('x')`\n",
        "\n",
        "**Histogram for Line 1: (A OR B)**\n",
        "\n",
        "**Explanation:**"
      ]
    },
    {
      "cell_type": "markdown",
      "metadata": {
        "deletable": false,
        "for_assignment_type": "student",
        "manual_problem_id": "hist_y",
        "id": "xBO11fV7MvTW"
      },
      "source": [
        "**Line 2:** `t.hist('y')`\n",
        "\n",
        "**Histogram for Line 2: (A OR B)**\n",
        "\n",
        "**Explanation:**"
      ]
    },
    {
      "cell_type": "markdown",
      "metadata": {
        "id": "I5qz-nsoMvTW"
      },
      "source": [
        "## 5. Submission\n"
      ]
    },
    {
      "cell_type": "markdown",
      "metadata": {
        "collapsed": true,
        "id": "K7254liUMvTW"
      },
      "source": [
        "Once you're finished, select \"Save and Checkpoint\" in the File menu and then select \"Download as\" from the File menu, choosing \"Notebook\" and then \"PDF\".  Upload the Notebook (.ipynb) into [Gradescope](https://www.gradescope.com/courses/84122) and upload the PDF to Moodle under the HW3 assignment, as discussed in lab. "
      ]
    },
    {
      "cell_type": "code",
      "metadata": {
        "id": "tPD0Pn8XMvTX"
      },
      "source": [
        ""
      ],
      "execution_count": null,
      "outputs": []
    }
  ]
}