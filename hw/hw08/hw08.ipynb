{
  "nbformat": 4,
  "nbformat_minor": 0,
  "metadata": {
    "kernelspec": {
      "display_name": "Python 3",
      "language": "python",
      "name": "python3"
    },
    "language_info": {
      "codemirror_mode": {
        "name": "ipython",
        "version": 3
      },
      "file_extension": ".py",
      "mimetype": "text/x-python",
      "name": "python",
      "nbconvert_exporter": "python",
      "pygments_lexer": "ipython3",
      "version": "3.8.3"
    },
    "colab": {
      "name": "hw08.ipynb",
      "provenance": [],
      "collapsed_sections": [
        "Bsu28MJrPfye",
        "TraXbcdPPfyh",
        "IJTp6iJLPfyj",
        "cDFjZIACPfyk",
        "6DoQqsvUPfyl"
      ]
    }
  },
  "cells": [
    {
      "cell_type": "markdown",
      "metadata": {
        "id": "rgp2ZkcAPfx9"
      },
      "source": [
        "# Homework 8: Central Limit Theorem"
      ]
    },
    {
      "cell_type": "markdown",
      "metadata": {
        "id": "c8DodMlEPfyC"
      },
      "source": [
        "**Reading**: Textbook chapter [14](https://www.inferentialthinking.com/chapters/14/why-the-mean-matters.html)."
      ]
    },
    {
      "cell_type": "markdown",
      "metadata": {
        "id": "cZaG__OsPfyH"
      },
      "source": [
        "Please complete this notebook by filling in the cells provided. Before you begin, execute the following cell. Each time you start your server, you will need to execute this cell again. \n",
        "\n",
        "Homework 8 is due ** Thursday, 04/15 at 11:59pm**. Start early so that you can come to office hours if you're stuck. Check the website for the office hours schedule. Late work will not be accepted as per the policies of this course. \n",
        "\n",
        "Directly sharing answers is not okay, but discussing problems with the course staff or with other students is encouraged. Refer to the policies page to learn more about how to learn cooperatively.\n",
        "\n",
        "For all problems that you must write our explanations and sentences for, you **must** provide your answer in the designated space. Moreover, throughout this homework and all future ones, please be sure to not re-assign variables throughout the notebook! For example, if you use `max_temperature` in your answer to one question, do not reassign it later on."
      ]
    },
    {
      "cell_type": "code",
      "metadata": {
        "collapsed": true,
        "id": "dL9JEZJWPfyM"
      },
      "source": [
        "# Don't change this cell; just run it. \n",
        "\n",
        "import numpy as np\n",
        "from datascience import *\n",
        "\n",
        "# These lines do some fancy plotting magic.\n",
        "import matplotlib\n",
        "%matplotlib inline\n",
        "import matplotlib.pyplot as plt\n",
        "plt.style.use('fivethirtyeight')\n",
        "import warnings\n",
        "warnings.simplefilter('ignore', FutureWarning)\n"
      ],
      "execution_count": null,
      "outputs": []
    },
    {
      "cell_type": "markdown",
      "metadata": {
        "id": "ZWpaM5kcPfyP"
      },
      "source": [
        "## 1. The Bootstrap and The Normal Curve\n"
      ]
    },
    {
      "cell_type": "markdown",
      "metadata": {
        "id": "U06y7mrAPfyR"
      },
      "source": [
        "In this exercise, we will explore a dataset that includes the safety inspection scores for restauraunts in the city of Austin, Texas.  We will be interested in determining the average restaurant score (out of 100) for the city from a random sample of the scores.  We'll compare two methods for computing a confidence interval for that quantity: the bootstrap resampling method, and an approximation based on the Central Limit Theorem."
      ]
    },
    {
      "cell_type": "code",
      "metadata": {
        "id": "Mw-ZDTpyPfyV"
      },
      "source": [
        "# Just run this cell.\n",
        "pop_restaurants = Table.read_table('restaurant_inspection_scores.csv').drop(5,6)\n",
        "pop_restaurants"
      ],
      "execution_count": null,
      "outputs": []
    },
    {
      "cell_type": "markdown",
      "metadata": {
        "id": "rxvH7GvjPfyX"
      },
      "source": [
        "#### Question 1 (Ungraded)\n",
        "Plot a histogram of the scores."
      ]
    },
    {
      "cell_type": "code",
      "metadata": {
        "id": "H8C3BLWtPfyY"
      },
      "source": [
        "# Write your code here.\n",
        "..."
      ],
      "execution_count": null,
      "outputs": []
    },
    {
      "cell_type": "markdown",
      "metadata": {
        "id": "3Y77AVhNPfyZ"
      },
      "source": [
        "This is the population mean:"
      ]
    },
    {
      "cell_type": "code",
      "metadata": {
        "id": "EQqtbNqHPfyZ"
      },
      "source": [
        "pop_mean = np.mean(pop_restaurants.column(3))\n",
        "pop_mean"
      ],
      "execution_count": null,
      "outputs": []
    },
    {
      "cell_type": "markdown",
      "metadata": {
        "id": "yVKZA64CPfyb"
      },
      "source": [
        "Often it is impossible to find complete datasets like this.  Imagine we instead had access only to a random sample of 100 restaurant inspections, called `restaurant_sample`.  That table is created below. We are interested in using this sample to estimate the population mean."
      ]
    },
    {
      "cell_type": "code",
      "metadata": {
        "id": "Jp61g9qiPfyb"
      },
      "source": [
        "restaurant_sample = pop_restaurants.sample(100, with_replacement=False)\n",
        "restaurant_sample"
      ],
      "execution_count": null,
      "outputs": []
    },
    {
      "cell_type": "markdown",
      "metadata": {
        "id": "MN8AST9APfyc"
      },
      "source": [
        "#### Question 2 (Ungraded)\n",
        "Plot a histogram of the **sample** scores. "
      ]
    },
    {
      "cell_type": "code",
      "metadata": {
        "id": "QJ_h2NY_Pfyc"
      },
      "source": [
        "# Write your code here:\n",
        "..."
      ],
      "execution_count": null,
      "outputs": []
    },
    {
      "cell_type": "markdown",
      "metadata": {
        "id": "DtJ79dJSPfyd"
      },
      "source": [
        "This is the **sample mean**:"
      ]
    },
    {
      "cell_type": "code",
      "metadata": {
        "id": "SjiFXYkWPfyd"
      },
      "source": [
        "sample_mean = np.mean(restaurant_sample.column(3))\n",
        "sample_mean"
      ],
      "execution_count": null,
      "outputs": []
    },
    {
      "cell_type": "markdown",
      "metadata": {
        "id": "Bsu28MJrPfye"
      },
      "source": [
        "#### Question 3\n",
        "Complete the function `bootstrap_scores` below. It should take no arguments. It should simulate drawing 5000 resamples from `restaurant_sample` and computing the mean restaurant score in each resample.  It should return an array of those 5000 resample means."
      ]
    },
    {
      "cell_type": "code",
      "metadata": {
        "id": "EJYLH_XFPfyf"
      },
      "source": [
        "def bootstrap_scores():\n",
        "    resampled_means = ...\n",
        "    for i in range(5000):\n",
        "        resampled_mean = ...\n",
        "        resampled_means = ...\n",
        "    ...\n",
        "\n",
        "resampled_means = bootstrap_scores()\n",
        "resampled_means"
      ],
      "execution_count": null,
      "outputs": []
    },
    {
      "cell_type": "markdown",
      "metadata": {
        "id": "97O8VyeqPfyf"
      },
      "source": [
        "Take a look at the histogram of the **resampled means**."
      ]
    },
    {
      "cell_type": "code",
      "metadata": {
        "id": "gP_WryH7Pfyg"
      },
      "source": [
        "Table().with_column('Resampled Means', resampled_means).hist()"
      ],
      "execution_count": null,
      "outputs": []
    },
    {
      "cell_type": "markdown",
      "metadata": {
        "id": "TraXbcdPPfyh"
      },
      "source": [
        "#### Question 4\n",
        "Compute a 95 percent confidence interval for the average restaurant score using the array `resampled_means`."
      ]
    },
    {
      "cell_type": "code",
      "metadata": {
        "manual_problem_id": "bootstrap_4",
        "id": "wNHL9GzVPfyj"
      },
      "source": [
        "lower_bound = ...\n",
        "upper_bound = ...\n",
        "print(\"95% confidence interval for the average restaurant score, computed by bootstrapping:\\n(\",lower_bound, \",\", upper_bound, \")\")"
      ],
      "execution_count": null,
      "outputs": []
    },
    {
      "cell_type": "markdown",
      "metadata": {
        "id": "IJTp6iJLPfyj"
      },
      "source": [
        "#### Question 5\n",
        "Does the distribution of the resampled mean scores look normally distributed? State \"yes\" or \"no\" and describe in one sentence why you should expect this result."
      ]
    },
    {
      "cell_type": "markdown",
      "metadata": {
        "deletable": false,
        "manual_problem_id": "bootstrap_6",
        "id": "av0NBXrOPfyj"
      },
      "source": [
        "*Write your answer here, replacing this text.*"
      ]
    },
    {
      "cell_type": "markdown",
      "metadata": {
        "id": "cDFjZIACPfyk"
      },
      "source": [
        "#### Question 6\n",
        "Does the distribution of the **sample scores** (notice we're no longer talking about the resampled means) look normally distributed? State \"yes\" or \"no\" and describe in one sentence why you should expect this result."
      ]
    },
    {
      "cell_type": "markdown",
      "metadata": {
        "deletable": false,
        "manual_problem_id": "bootstrap_5",
        "id": "GOxv2W1dPfyl"
      },
      "source": [
        "*Write your answer here, replacing this text.*"
      ]
    },
    {
      "cell_type": "markdown",
      "metadata": {
        "id": "CnTXmZQsPfyl"
      },
      "source": [
        "For the last question, you'll need to recall two facts.\n",
        "1. If a group of numbers has a normal distribution, around 95% of them lie within 2 standard deviations of their mean.\n",
        "2. The Central Limit Theorem tells us the quantitative relationship between\n",
        "    * the standard deviation of an array of numbers and\n",
        "    * the standard deviation of an array of means of samples taken from those numbers."
      ]
    },
    {
      "cell_type": "markdown",
      "metadata": {
        "id": "6DoQqsvUPfyl"
      },
      "source": [
        "#### Question 7\n",
        "Without referencing the array `resampled_means` or performing any new simulations, calculate an interval around the `sample_mean` that covers approximately 95% of the numbers in the `resampled_means` array.  **You may use the following values to compute your result, but you should not perform additional resampling** - think about how you can use the CLT to accomplish this."
      ]
    },
    {
      "cell_type": "code",
      "metadata": {
        "for_assignment_type": "student",
        "manual_problem_id": "bootstrap_7",
        "id": "bbBP6wiGPfyl"
      },
      "source": [
        "sample_mean = np.mean(restaurant_sample.column(3))\n",
        "sample_sd = np.std(restaurant_sample.column(3))\n",
        "sample_size = restaurant_sample.num_rows\n",
        "\n",
        "lower_bound_normal = ...\n",
        "upper_bound_normal = ...\n",
        "print(\"95% confidence interval for the average restaurant score, computed by a normal approximation:\\n(\",lower_bound_normal, \",\", upper_bound_normal, \")\")"
      ],
      "execution_count": null,
      "outputs": []
    },
    {
      "cell_type": "markdown",
      "metadata": {
        "id": "IlojdJDtPfyl"
      },
      "source": [
        "This confidence interval should look very similar to the one you computed in Question 4. If not, try calculating the inner 95 percent using 1.96 standard deviations instead of 2 for a more precise calculation. If they are still very different, there may be an error in your code."
      ]
    },
    {
      "cell_type": "markdown",
      "metadata": {
        "id": "ow71YV52Pfyl"
      },
      "source": [
        "## 2. Testing the Central Limit Theorem\n"
      ]
    },
    {
      "cell_type": "markdown",
      "metadata": {
        "id": "YZr-aHcaPfym"
      },
      "source": [
        "The Central Limit Theorem tells us that the probability distribution of the **sum** or **average** of a large random sample drawn with replacement will be roughly normal, *regardless of the distribution of the population from which the sample is drawn*.\n",
        "\n",
        "That's a pretty big claim, but the theorem doesn't stop there. It further states that the standard deviation of this normal distribution is given by \n",
        "\n",
        "$$\\frac{\\texttt{sd of the original distribution}}{\\sqrt{\\texttt{sample size}}}$$ \n",
        "\n",
        "In other words, suppose we start with *any distribution* that has standard deviation $x$, take a sample of size $n$ (where $n$ is a large number) from that distribution with replacement, and compute the **mean** of that sample. If we repeat this procedure many times, then those sample means will have a normal distribution with standard deviation $\\frac{x}{\\sqrt{n}}$.\n",
        "\n",
        "That's an even bigger claim than the first one! The proof of the theorem is beyond the scope of this class, but in this exercise, we will be exploring some data to see the CLT in action."
      ]
    },
    {
      "cell_type": "markdown",
      "metadata": {
        "id": "h2MQtv2VPfyn"
      },
      "source": [
        "<div class=\"hide\">\\pagebreak</div>\n",
        "**Question 1.** The CLT only applies when sample sizes are \"sufficiently large.\" This isn't a very precise statement. Is 10 large?  How about 50?  The truth is that it depends both on the original population distribution and just how \"normal\" you want the result to look. Let's use a simulation to get a feel for how the distribution of the sample mean changes as sample size goes up.\n",
        "\n",
        "Consider a coin flip. If we say `Heads` is $1$ and `Tails` is $0$, then there's a 50% chance of getting a 1 and a 50% chance of getting a 0, which is definitely not a normal distribution.  The average of several coin tosses, where Heads is 1 and Tails is 0, is equal to the proportion of heads in those coin tosses, so the CLT should apply if we compute the sample proportion of heads many times.\n",
        "\n",
        "Write a function called `simulate_sample_n` that takes in a sample size $n$. It should return an array that contains 5000 sample proportions of heads, each from $n$ coin flips."
      ]
    },
    {
      "cell_type": "code",
      "metadata": {
        "id": "8_jDzMmrPfyn"
      },
      "source": [
        "def sample_size_n(n):\n",
        "    coin_proportions = make_array(.5, .5) # our coin is fair\n",
        "    heads_proportions = make_array()\n",
        "    for i in np.arange(5000):\n",
        "        simulated_proportions = ...\n",
        "        prop_heads = ...\n",
        "        heads_proportions = ...\n",
        "    return heads_proportions\n",
        "\n",
        "\n",
        "sample_size_n(5)"
      ],
      "execution_count": null,
      "outputs": []
    },
    {
      "cell_type": "markdown",
      "metadata": {
        "id": "bCYvHM5sPfyo"
      },
      "source": [
        "<div class=\"hide\">\\pagebreak</div>\n",
        "The code below will use the function you just defined to plot the empirical distribution of the sample mean for various sample sizes. Drag the slider or click on the number to the right to type in a sample size of your choice. The x- and y-scales are kept the same to facilitate comparisons. Notice the shape of the graph as the sample size increases and decreases."
      ]
    },
    {
      "cell_type": "code",
      "metadata": {
        "deletable": false,
        "editable": false,
        "scrolled": false,
        "id": "2W8lwSvUPfyp"
      },
      "source": [
        "# Just run this cell\n",
        "from ipywidgets import interact\n",
        "\n",
        "def outer(f):\n",
        "    def graph(x):\n",
        "        bins = np.arange(-0.01,1.05,0.02)\n",
        "        sample_props = f(x)\n",
        "        Table().with_column('Sample Size: {}'.format(x), sample_props).hist(bins=bins)\n",
        "        plt.ylim(0, 30)\n",
        "        print('Sample SD:', np.std(sample_props))\n",
        "        plt.show()\n",
        "    return graph\n",
        "    \n",
        "interact(outer(sample_size_n), x=(0, 400, 1), continuous_update=False);\n",
        "\n",
        "# Min sample size is 0, max is 400\n",
        "# The graph will refresh a few times when you drag the slider around"
      ],
      "execution_count": null,
      "outputs": []
    },
    {
      "cell_type": "markdown",
      "metadata": {
        "id": "w3lMKEe3Pfyp"
      },
      "source": [
        "You can see that even the means of samples of 10 items follow a roughly bell-shaped distribution.  A sample of 50 items looks quite bell-shaped."
      ]
    },
    {
      "cell_type": "markdown",
      "metadata": {
        "manual_problem_id": "clt_2",
        "id": "5xsIRU03Pfyp"
      },
      "source": [
        "<div class=\"hide\">\\pagebreak</div>\n",
        "**Question 2:** In the plot for a sample size of 10, why are the bars spaced at intervals of .1, with gaps in between?"
      ]
    },
    {
      "cell_type": "markdown",
      "metadata": {
        "deletable": false,
        "manual_problem_id": "clt_2",
        "id": "CCoiidgOPfyp"
      },
      "source": [
        "*Write your answer here, replacing this text.*"
      ]
    },
    {
      "cell_type": "markdown",
      "metadata": {
        "id": "VqEonVqwPfyq"
      },
      "source": [
        "<div class=\"hide\">\\pagebreak</div>\n",
        "Now we will test the second claim of the CLT: That the SD of the sample mean is the SD of the original distribution, divided by the square root of the sample size.\n",
        "\n",
        "We have imported the flight delay data and computed its standard deviation for you."
      ]
    },
    {
      "cell_type": "code",
      "metadata": {
        "id": "fUTLUmnwPfyq"
      },
      "source": [
        "united = Table.read_table('united_summer2015.csv')\n",
        "united_std = np.std(united.column('Delay'))\n",
        "united_std"
      ],
      "execution_count": null,
      "outputs": []
    },
    {
      "cell_type": "markdown",
      "metadata": {
        "id": "shUEyuauPfyr"
      },
      "source": [
        "<div class=\"hide\">\\pagebreak</div>\n",
        "**Question 3:** Write a function called `empirical_sample_mean_sd` that takes a sample size `n` as its argument. The function should simulate 500 samples with replacemnt of size `n` from the flight delays dataset, and it should return the standard deviation of the **means of those 500 samples**.\n",
        "\n",
        "*Hint:* This function will be similar to the `sample_size_n` function you wrote earlier."
      ]
    },
    {
      "cell_type": "code",
      "metadata": {
        "id": "faOq7pGJPfyr"
      },
      "source": [
        "def empirical_sample_mean_sd(n):\n",
        "    sample_means = make_array()\n",
        "    for i in np.arange(500):\n",
        "        sample = ...\n",
        "        sample_mean = ...\n",
        "        sample_means = ...\n",
        "    return np.std(sample_means)\n",
        "\n",
        "empirical_sample_mean_sd(10)"
      ],
      "execution_count": null,
      "outputs": []
    },
    {
      "cell_type": "markdown",
      "metadata": {
        "id": "6j_KYBSPPfyr"
      },
      "source": [
        "**Question 4:** Now, write a function called `predict_sample_mean_sd` to find the predicted value of the standard deviation of means according to the relationship between the standard deviation of the sample mean and sample size that is discussed [here](https://www.inferentialthinking.com/chapters/14/5/variability-of-the-sample-mean.html) in the textbook. It takes a sample size `n` (a number) as its argument.  It returns the predicted value of the standard deviation of the mean delay time for samples of size `n` from the flight delays (represented in the table `united`)."
      ]
    },
    {
      "cell_type": "code",
      "metadata": {
        "id": "cXPIlr05Pfyr"
      },
      "source": [
        "def predict_sample_mean_sd(n):\n",
        "    ...\n",
        "\n",
        "predict_sample_mean_sd(10)"
      ],
      "execution_count": null,
      "outputs": []
    },
    {
      "cell_type": "markdown",
      "metadata": {
        "id": "bVU1C9gyPfys"
      },
      "source": [
        "<div class=\"hide\">\\pagebreak</div>\n",
        "The cell below will plot the predicted and empirical SDs for the delay data for various sample sizes."
      ]
    },
    {
      "cell_type": "code",
      "metadata": {
        "deletable": false,
        "editable": false,
        "id": "pl7bDLg5Pfys"
      },
      "source": [
        "sd_table = Table().with_column('Sample Size', np.arange(1,101))\n",
        "predicted = sd_table.apply(predict_sample_mean_sd, 'Sample Size')\n",
        "empirical = sd_table.apply(empirical_sample_mean_sd, 'Sample Size')\n",
        "sd_table = sd_table.with_columns('Predicted SD', predicted, 'Empirical SD', empirical)\n",
        "sd_table.scatter('Sample Size')"
      ],
      "execution_count": null,
      "outputs": []
    },
    {
      "cell_type": "markdown",
      "metadata": {
        "id": "RNZdej_QPfys"
      },
      "source": [
        "<div class=\"hide\">\\pagebreak</div>\n",
        "**Question 5:** Do our predicted and empirical values match? Why is this the case?"
      ]
    },
    {
      "cell_type": "markdown",
      "metadata": {
        "deletable": false,
        "manual_problem_id": "clt_5",
        "id": "XJ2WhJjiPfyt"
      },
      "source": [
        "*Write your answer here, replacing this text.*"
      ]
    },
    {
      "cell_type": "markdown",
      "metadata": {
        "id": "nQQ0yAiyPfyt"
      },
      "source": [
        "## 3. Polling and the Normal Distribution\n"
      ]
    },
    {
      "cell_type": "markdown",
      "metadata": {
        "id": "4I5vMh9XPfyt"
      },
      "source": [
        "<div class=\"hide\">\\pagebreak</div>\n",
        "#### Question 1\n",
        "\n",
        "Michelle is a statistical consultant, and she works for a group that supports Proposition 68 (which would mandate labeling of all horizontal or vertical axes), called Yes on 68.  They want to know how many Californians will vote for the proposition.\n",
        "\n",
        "Michelle polls a uniform random sample of all California voters, and she finds that 210 of the 400 sampled voters will vote in favor of the proposition. Fill in the code below to form a table with 3 columns: the first two columns should be identical to `sample`. The third column should be named `Proportion` and have the proportion of total voters that chose each option."
      ]
    },
    {
      "cell_type": "code",
      "metadata": {
        "ExecuteTime": {
          "end_time": "2018-03-20T04:34:23.388186Z",
          "start_time": "2018-03-20T04:34:23.372185Z"
        },
        "id": "yM4sa380Pfyt"
      },
      "source": [
        "sample = Table().with_columns(\n",
        "    \"Vote\",  make_array(\"Yes\", \"No\"),\n",
        "    \"Count\", make_array(210,   190))\n",
        "sample_size = ...\n",
        "sample_with_proportions = ...\n",
        "sample_with_proportions"
      ],
      "execution_count": null,
      "outputs": []
    },
    {
      "cell_type": "markdown",
      "metadata": {
        "id": "QJFGyTuFPfyu"
      },
      "source": [
        "<div class=\"hide\">\\pagebreak</div>\n",
        "#### Question 2\n",
        "\n",
        "She then wants to use 10,000 bootstrap resamples to compute a confidence interval for the proportion of all California voters who will vote Yes.  Fill in the next cell to simulate an  empirical distribution of Yes proportions with 10,000 resamples. In other words, use bootstrap resampling to simulate 10,000 election outcomes, and populate `resample_yes_proportions` with the yes proportion of each bootstrap resample. Then, visualize `resample_yes_proportions` with a histogram. You should see a bell shaped curve centered near the proportion of Yes in the original sample."
      ]
    },
    {
      "cell_type": "code",
      "metadata": {
        "ExecuteTime": {
          "end_time": "2018-03-20T04:35:22.190065Z",
          "start_time": "2018-03-20T04:35:21.777769Z"
        },
        "id": "WX7_9Z34Pfyv"
      },
      "source": [
        "resample_yes_proportions = make_array()\n",
        "for i in np.arange(10000):\n",
        "    resample = ...\n",
        "    resample_yes_proportions = ...\n",
        "Table().with_column(\"Resample Yes proportion\", resample_yes_proportions).hist(bins=np.arange(.2, .8, .01))"
      ],
      "execution_count": null,
      "outputs": []
    },
    {
      "cell_type": "markdown",
      "metadata": {
        "id": "zN9sh5PWPfyw"
      },
      "source": [
        "<div class=\"hide\">\\pagebreak</div>\n",
        "#### Question 3\n",
        "Why does the Central Limit Theorem (CLT) apply in this situation, and how does it explain the distribution we see above?"
      ]
    },
    {
      "cell_type": "markdown",
      "metadata": {
        "manual_problem_id": "polling_3",
        "id": "4fsgccqVPfyx"
      },
      "source": [
        "*Write your answer here, replacing this text.*"
      ]
    },
    {
      "cell_type": "markdown",
      "metadata": {
        "id": "YPX3VL5yPfyx"
      },
      "source": [
        "<div class=\"hide\">\\pagebreak</div>\n",
        "In a population whose members are 0 and 1, there is a simple formula for the standard deviation of that population:\n",
        "\n",
        "$$\\texttt{standard deviation} = \\sqrt{(\\text{proportion of 0s}) \\times (\\text{proportion of 1s})}$$\n",
        "\n",
        "(Figuring out this formula, starting from the definition of the standard deviation, is an fun exercise for those who enjoy algebra.)"
      ]
    },
    {
      "cell_type": "markdown",
      "metadata": {
        "id": "4q7tcPw0Pfyx"
      },
      "source": [
        "<div class=\"hide\">\\pagebreak</div>\n",
        "#### Question 4\n",
        "Using only the CLT and the numbers of Yes and No voters in our sample of 400, compute (_algebraically_) a number `approximate_sd` that's the predicted standard deviation of the array `resample_yes_proportions` according to the Central Limit Theorem. **Do not access the data in `resample_yes_proportions` in any way.** Remember that a predicted standard deviation of the sample means can be computed from the population SD and the size of the sample. \n",
        "\n",
        "Also remember that if we do not know the population SD, we can use the sample SD as a reasonable approximation in its place."
      ]
    },
    {
      "cell_type": "code",
      "metadata": {
        "ExecuteTime": {
          "end_time": "2018-03-20T04:35:33.660846Z",
          "start_time": "2018-03-20T04:35:33.652810Z"
        },
        "id": "etPOXFEyPfyx"
      },
      "source": [
        "approximate_sd = ...\n",
        "approximate_sd"
      ],
      "execution_count": null,
      "outputs": []
    },
    {
      "cell_type": "markdown",
      "metadata": {
        "id": "9LsCTtGyPfyy"
      },
      "source": [
        "<div class=\"hide\">\\pagebreak</div>\n",
        "#### Question 5\n",
        "Compute another approximation to the true SD of possible sample proportions, the standard deviation of the array resample_yes_proportions, to verify that your answer to question 2 is approximately right."
      ]
    },
    {
      "cell_type": "code",
      "metadata": {
        "ExecuteTime": {
          "end_time": "2018-03-20T04:35:34.753988Z",
          "start_time": "2018-03-20T04:35:34.745953Z"
        },
        "id": "k06-_g5sPfyz"
      },
      "source": [
        "exact_sd = ...\n",
        "exact_sd"
      ],
      "execution_count": null,
      "outputs": []
    },
    {
      "cell_type": "markdown",
      "metadata": {
        "id": "OGzXqIWUPfy0"
      },
      "source": [
        "<div class=\"hide\">\\pagebreak</div>\n",
        "#### Question 6\n",
        "**Again, without accessing `resample_yes_proportions` in any way**, compute an approximate 95% confidence interval for the proportion of Yes voters in California.\n",
        "\n",
        "The cell below draws your interval as a red bar below the histogram of `resample_yes_proportions`; use that to verify that your answer looks right.\n",
        "\n",
        "*Hint:* How many SDs corresponds to 95% of the distribution promised by the CLT? Recall the discussion in the textbook <a href = \"https://www.inferentialthinking.com/chapters/14/3/sd-and-the-normal-curve.html\"> here. "
      ]
    },
    {
      "cell_type": "code",
      "metadata": {
        "ExecuteTime": {
          "end_time": "2018-03-20T04:35:42.572582Z",
          "start_time": "2018-03-20T04:35:42.560545Z"
        },
        "id": "AIBeSkAkPfy0"
      },
      "source": [
        "lower_limit = ...\n",
        "upper_limit = ...\n",
        "print('lower:', lower_limit, 'upper:', upper_limit)"
      ],
      "execution_count": null,
      "outputs": []
    },
    {
      "cell_type": "code",
      "metadata": {
        "deletable": false,
        "editable": false,
        "id": "Vsq-Z6xUPfy1"
      },
      "source": [
        "# Run this cell to plot your confidence interval.\n",
        "Table().with_column(\"Resample Yes proportion\", resample_yes_proportions).hist(bins=np.arange(.2, .8, .01))\n",
        "plt.plot(make_array(lower_limit, upper_limit), make_array(0, 0), c='r', lw=10);"
      ],
      "execution_count": null,
      "outputs": []
    },
    {
      "cell_type": "markdown",
      "metadata": {
        "id": "PuFe5JDlPfy1"
      },
      "source": [
        "<div class=\"hide\">\\pagebreak</div>\n",
        "Your confidence interval should overlap the number 0.5.  That means we can't be very sure whether Proposition 68 is winning, even though the sample Yes proportion is a bit above 0.5.\n",
        "\n",
        "The Yes on 68 campaign really needs to know whether they're winning.  It's impossible to be absolutely sure without polling the whole population, but they'd be okay if the standard deviation of the sample mean were only 0.005.  They ask Michelle to run a new poll with a sample size that's large enough to achieve that.  (Polling is expensive, so the sample also shouldn't be bigger than necessary.)\n",
        "\n",
        "Michelle consults Chapter 14 of your textbook.  Instead of making the conservative assumption that the population standard deviation is 0.5 (coding Yes voters as 1 and No voters as 0), she decides to assume that it's equal to the standard deviation of the sample,\n",
        "\n",
        "$$\\sqrt{(\\text{Yes proportion in the sample}) \\times (\\text{No proportion in the sample})}.$$\n",
        "\n",
        "Under that assumption, Michelle decides that a sample of 9,975 would suffice."
      ]
    },
    {
      "cell_type": "markdown",
      "metadata": {
        "id": "gjzIrWjxPfy1"
      },
      "source": [
        "<div class=\"hide\">\\pagebreak</div>\n",
        "#### Question 7\n",
        "Does Michelle's sample size achieve the desired standard deviation of sample means? What SD would you achieve with a smaller sample size? A higher sample size? To explore this, first compute the SD of sample means obtained by using Michelle's sample size."
      ]
    },
    {
      "cell_type": "code",
      "metadata": {
        "ExecuteTime": {
          "end_time": "2018-03-20T04:35:45.882794Z",
          "start_time": "2018-03-20T04:35:45.870760Z"
        },
        "scrolled": true,
        "id": "md9LUkO8Pfy1"
      },
      "source": [
        "estimated_population_sd = ...\n",
        "michelle_sample_size = ...\n",
        "michelle_sample_mean_sd = ...\n",
        "print(\"With Michelle's sample size, you would predict a sample mean SD of %f.\" % michelle_sample_mean_sd)"
      ],
      "execution_count": null,
      "outputs": []
    },
    {
      "cell_type": "markdown",
      "metadata": {
        "id": "jMko3uLhPfy1"
      },
      "source": [
        "Then, compute the SD of sample means that you would get from a smaller sample size. Ideally, you should pick a number that is significantly smaller, but any sample size smaller than Michelle's will do. "
      ]
    },
    {
      "cell_type": "code",
      "metadata": {
        "ExecuteTime": {
          "end_time": "2018-03-20T04:35:47.010246Z",
          "start_time": "2018-03-20T04:35:47.002724Z"
        },
        "id": "cQxDPtUdPfy2"
      },
      "source": [
        "smaller_sample_size = ...\n",
        "smaller_sample_mean_sd = ...\n",
        "print(\"With this smaller sample size, you would predict a sample mean SD of %f\" % smaller_sample_mean_sd)"
      ],
      "execution_count": null,
      "outputs": []
    },
    {
      "cell_type": "markdown",
      "metadata": {
        "id": "g0Hr5oYRPfy3"
      },
      "source": [
        "Finally, compute the SD of sample means that you would get from a larger sample size. Here, a number that is significantly larger would make any difference more obvious, but any sample size larger than Michelle's will do. "
      ]
    },
    {
      "cell_type": "code",
      "metadata": {
        "ExecuteTime": {
          "end_time": "2018-03-20T04:35:48.098047Z",
          "start_time": "2018-03-20T04:35:48.089414Z"
        },
        "id": "o4FEibVwPfy3"
      },
      "source": [
        "larger_sample_size = ...\n",
        "larger_sample_mean_sd = ...\n",
        "print(\"With this larger sample size, you would predict a sample mean SD of %f\" % larger_sample_mean_sd)"
      ],
      "execution_count": null,
      "outputs": []
    },
    {
      "cell_type": "markdown",
      "metadata": {
        "id": "VQ5T1a7WPfy3"
      },
      "source": [
        "<div class=\"hide\">\\pagebreak</div>\n",
        "#### Question 8\n",
        "Based off of this, was Michelle's sample size the minimum sufficient sample, given her assumption that the sample SD is the same as the population SD? Assign `min_sufficient` to `True` if this 9975 was indeed the minimum sufficient sample, and `False` if it wasn't."
      ]
    },
    {
      "cell_type": "code",
      "metadata": {
        "ExecuteTime": {
          "end_time": "2018-03-20T04:35:49.134092Z",
          "start_time": "2018-03-20T04:35:49.126066Z"
        },
        "id": "HQN6-EeXPfy3"
      },
      "source": [
        "min_sufficient = ...\n",
        "min_sufficient"
      ],
      "execution_count": null,
      "outputs": []
    },
    {
      "cell_type": "markdown",
      "metadata": {
        "id": "67s9Ot8_Pfy3"
      },
      "source": [
        "## 4. Submission\n"
      ]
    },
    {
      "cell_type": "markdown",
      "metadata": {
        "collapsed": true,
        "id": "sS9YA6yLPfy4"
      },
      "source": [
        "Once you're finished, select \"Save and Checkpoint\" in the File menu and then select \"Download as\" from the File menu, choosing \"Notebook\" and then \"PDF\".  Upload the Notebook (.ipynb) into [Gradescope](https://www.gradescope.com/courses/84122) and upload the PDF to Moodle under the HW8 assignment. "
      ]
    }
  ]
}