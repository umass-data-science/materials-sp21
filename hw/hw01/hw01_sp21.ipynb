{
  "nbformat": 4,
  "nbformat_minor": 0,
  "metadata": {
    "kernelspec": {
      "display_name": "Python 3",
      "language": "python",
      "name": "python3"
    },
    "language_info": {
      "codemirror_mode": {
        "name": "ipython",
        "version": 3
      },
      "file_extension": ".py",
      "mimetype": "text/x-python",
      "name": "python",
      "nbconvert_exporter": "python",
      "pygments_lexer": "ipython3",
      "version": "3.8.3"
    },
    "colab": {
      "name": "hw01_SP20.ipynb",
      "provenance": [],
      "collapsed_sections": []
    }
  },
  "cells": [
    {
      "cell_type": "markdown",
      "metadata": {
        "id": "Q9_LNvUMKbxv"
      },
      "source": [
        "# Homework 1: Causality and Expressions\n",
        "\n",
        "Please complete this notebook by filling in the cells provided."
      ]
    },
    {
      "cell_type": "markdown",
      "metadata": {
        "id": "9TSHWn0yKbx0"
      },
      "source": [
        "## Reading:\n",
        "This assignment uses material from textbook chapters [1](https://umass-data-science.github.io/190fwebsite/textbook/01/what-is-data-science/), [2](https://umass-data-science.github.io/190fwebsite/textbook/02/causality-and-experiments/), and [3](https://umass-data-science.github.io/190fwebsite/textbook/03/programming-in-python/). You should read this material before starting the assignment, and refer back to it as needed.\n",
        "\n",
        "## Answering Questions:\n",
        "For all problems that you must write explanations and sentences for, you **must** provide your answer in the designated space. Moreover, throughout this homework and all future ones, please be sure to not re-assign variables throughout the notebook! For example, if you use the name `max_temperature` in your answer to one question, do not assign that name a different value later on. \n",
        "\n",
        "## Deadline:\n",
        "\n",
        "This assignment is due Thursday, February 18 at 11:59PM. Late work will not be accepted as per the [policies](https://umass-data-science.github.io/190fwebsite/policies/) page.\n",
        "\n",
        "## Collaboration:\n",
        "Directly sharing answers is not okay, but discussing problems with the course staff or with other students is encouraged. Refer to the policies page to learn more about what is an acceptable level of homework collaboration.\n",
        "\n",
        "## Getting Help:\n",
        "You should start early so that you have time to get help if you're stuck. Drop by at [office hours](https://umass-data-science.github.io/190fwebsite/office_hours/) for help and ask questions during the lab sections."
      ]
    },
    {
      "cell_type": "markdown",
      "metadata": {
        "id": "bg0NJAW5Kbx4"
      },
      "source": [
        "## Submission:\n",
        "\n",
        "Once you're finished, select \"Save and Checkpoint\" in the File menu and then select \"Download as\" from the File menu, choosing \"Notebook\" and then \"PDF\".  Upload the Notebook (.ipynb) into [Gradescope](https://www.gradescope.com/courses/84122) and upload the PDF to Moodle under the HW1 assignment, as discussed in lab. "
      ]
    },
    {
      "cell_type": "markdown",
      "metadata": {
        "id": "AUsYirNLKbx7"
      },
      "source": [
        "## 1. Scary Arithmetic\n"
      ]
    },
    {
      "cell_type": "markdown",
      "metadata": {
        "deletable": false,
        "manual_problem_id": "adt_1",
        "id": "Kjp6OFkSKbx-"
      },
      "source": [
        "An ad for ADT Security Systems says,\n",
        "\n",
        "> \"When you go on vacation, burglars go to work [...] According to FBI statistics, over 25% of home burglaries occur between Memorial Day and Labor Day.\"\n",
        "\n",
        "Do the data in the ad support the claim that burglars are more likely to go to work during the time between Memorial Day and Labor Day than at other times? Please explain your answer. Open and edit the cell below to provide your answer and explanation, then run the cell."
      ]
    },
    {
      "cell_type": "markdown",
      "metadata": {
        "id": "c-jJ6exbKbyA"
      },
      "source": [
        "*Write your answer here, replacing this text. *"
      ]
    },
    {
      "cell_type": "markdown",
      "metadata": {
        "id": "PG-SVlAvKbyC"
      },
      "source": [
        "## 2. Characters in Little Women\n"
      ]
    },
    {
      "cell_type": "markdown",
      "metadata": {
        "id": "yfUiXxLjKbyD"
      },
      "source": [
        "The textbook describes counting the number of times that the literary characters were named in each chapter of the classic book, [Little Women](https://umass-data-science.github.io/190fwebsite/textbook/01/3/little_women.txt). In computer science, the word \"character\" also refers to a letter, digit, space, or punctuation mark; any single element of a text. The following code generates a scatter plot in which each dot corresponds to a chapter of Little Women. The horizontal position of a dot measures the number of period characters \".\" in the chapter. The vertical position measures the total number of characters. Run the cell below to produce the plot, then answer the following questions."
      ]
    },
    {
      "cell_type": "code",
      "metadata": {
        "scrolled": false,
        "id": "bHfR8WWmKbyG"
      },
      "source": [
        "# This cell contains code that hasn't yet been covered in the course,\n",
        "# but you should be able to interpret the scatter plot it generates.\n",
        "\n",
        "from datascience import *\n",
        "from urllib.request import urlopen\n",
        "import numpy as np\n",
        "% matplotlib inline\n",
        "\n",
        "little_women_url = 'https://umass-data-science.github.io/190fwebsite/textbook/01/3/little_women.txt'\n",
        "chapters = urlopen(little_women_url).read().decode().split('CHAPTER ')[1:]\n",
        "text = Table().with_column('Chapters', chapters)\n",
        "Table().with_columns(\n",
        "    'Periods',    np.char.count(chapters, '.'),\n",
        "    'Characters', text.apply(len, 0)\n",
        "    ).scatter(0)"
      ],
      "execution_count": null,
      "outputs": []
    },
    {
      "cell_type": "markdown",
      "metadata": {
        "id": "yFnulqguKbyI"
      },
      "source": [
        "**Question 1.** About how many periods are in the chapter with the most characters? Assign either 1, 2, 3, 4, or 5 to the name `characters_q1` below.\n",
        "\n",
        "1. 250\n",
        "2. 390\n",
        "3. 440\n",
        "4. 32,000\n",
        "5. 40,000"
      ]
    },
    {
      "cell_type": "code",
      "metadata": {
        "id": "2E9vCj9SKbyK"
      },
      "source": [
        "characters_q1 = ..."
      ],
      "execution_count": null,
      "outputs": []
    },
    {
      "cell_type": "markdown",
      "metadata": {
        "id": "8uGOySxTKbyL"
      },
      "source": [
        "**Question 2.** Which of the following chapters has the most characters per period? Assign either 1, 2, or 3 to the name `characters_q2` below.\n",
        "1. The chapter with about 60 periods\n",
        "2. The chapter with about 350 periods\n",
        "3. The chapter with about 440 periods"
      ]
    },
    {
      "cell_type": "code",
      "metadata": {
        "id": "vVIJLVJVKbyN"
      },
      "source": [
        "characters_q2 = ..."
      ],
      "execution_count": null,
      "outputs": []
    },
    {
      "cell_type": "markdown",
      "metadata": {
        "id": "isi262K6KbyN"
      },
      "source": [
        "To discover more interesting facts from this plot, read [Section 1.3.2](https://umass-data-science.github.io/190fwebsite/textbook/01/3/2/another-kind-of-character/) of the textbook."
      ]
    },
    {
      "cell_type": "markdown",
      "metadata": {
        "id": "b4KZeL56KbyO"
      },
      "source": [
        "## 3. Names and Assignment Statements\n"
      ]
    },
    {
      "cell_type": "markdown",
      "metadata": {
        "id": "nVC8_y_RKbyO"
      },
      "source": [
        "**Question 1.** When you run the following cell, Python produces a cryptic error message."
      ]
    },
    {
      "cell_type": "code",
      "metadata": {
        "id": "kh6kU_jkKbyP"
      },
      "source": [
        "4 = 2 + 2"
      ],
      "execution_count": null,
      "outputs": []
    },
    {
      "cell_type": "markdown",
      "metadata": {
        "id": "zVquUruuKbyP"
      },
      "source": [
        "Choose the best explanation of what's wrong with the code, and then assign 1, 2, 3, or 4 to `names_q1` below to indicate your answer.\n",
        "\n",
        "1. Python is smart and already knows `4 = 2 + 2`.\n",
        "\n",
        "2. `4` is a number, and it doesn't make sense to make a number be a name for something else. In Python, \"`x = 2 + 2`\" means \"assign `x` as the name for the value of `2 + 2`.\"\n",
        "\n",
        "3. It should be `2 + 2 = 4`.\n",
        "\n",
        "4. I don't get an error message. This is a trick question."
      ]
    },
    {
      "cell_type": "code",
      "metadata": {
        "id": "LaG4TLiUKbyR"
      },
      "source": [
        "names_q1 = ..."
      ],
      "execution_count": null,
      "outputs": []
    },
    {
      "cell_type": "markdown",
      "metadata": {
        "id": "eyPEd2zAKbyR"
      },
      "source": [
        "**Question 2.** When you run the following cell, Python will produce another cryptic error message."
      ]
    },
    {
      "cell_type": "code",
      "metadata": {
        "id": "zVdE-ZnlKbyS"
      },
      "source": [
        "two = 3\n",
        "six = two plus two"
      ],
      "execution_count": null,
      "outputs": []
    },
    {
      "cell_type": "markdown",
      "metadata": {
        "id": "2AD_JCp9KbyS"
      },
      "source": [
        "Choose the best explanation of what's wrong with the code and assign 1, 2, 3, or 4 to `names_q2` below to indicate your answer.\n",
        "\n",
        "1. The `plus` operation only applies to numbers, not the word \"two\".\n",
        "\n",
        "2. The name \"two\" cannot be assigned to the number 3.\n",
        "\n",
        "3. Two plus two is four, not six.\n",
        "\n",
        "4. The name `two` cannot be followed directly by another name."
      ]
    },
    {
      "cell_type": "code",
      "metadata": {
        "id": "K-JRFAQXKbyS"
      },
      "source": [
        "names_q2 = ..."
      ],
      "execution_count": null,
      "outputs": []
    },
    {
      "cell_type": "markdown",
      "metadata": {
        "id": "5wljHU5RKbyT"
      },
      "source": [
        "## 4. Job Opportunities & Education in Rural India\n"
      ]
    },
    {
      "cell_type": "markdown",
      "metadata": {
        "id": "yFjXVq0FKbyT"
      },
      "source": [
        "A [study](http://www.nber.org/papers/w16021.pdf) at UCLA investigated factors that might result in greater attention to the health and education of girls in rural India. One such factor is information about job opportunities for women. The idea is that if people know that educated women can get good jobs, they might take more care of the health and education of girls in their families, as an investment in the girls’ future potential as earners.\n",
        "\n",
        "The study focused on 160 villages outside the capital of India, all with little access to information about call centers and similar organizations that offer job opportunities to women. In 80 of the villages chosen at random, recruiters visited the village, described the opportunities, recruited women who had some English language proficiency and experience with computers, and provided ongoing support free of charge for three years. In the other 80 villages, no recruiters visited and no other intervention was made.\n",
        "\n",
        "At the end of the study period, the researchers recorded data about the school attendance and health of the children in the villages."
      ]
    },
    {
      "cell_type": "markdown",
      "metadata": {
        "id": "DTpz9oaxKbyV"
      },
      "source": [
        "**Question 1.** Which statement best describes the *treatment* and *control* groups for this study? Assign either 1, 2, or 3 to the name `jobs_q1` below.\n",
        "\n",
        "1. The treatment group was the 80 villages visited by recruiters, and the control group was the other 80 villages with no intervention.\n",
        "\n",
        "2. The treatment group was the 160 villages selected, and the control group was the rest of the villages outside the capital of India.\n",
        "\n",
        "3. There is no clear notion of *treatment* and *control* group in this study."
      ]
    },
    {
      "cell_type": "code",
      "metadata": {
        "id": "o0m-9nIuKbyW"
      },
      "source": [
        "jobs_q1 = ..."
      ],
      "execution_count": null,
      "outputs": []
    },
    {
      "cell_type": "markdown",
      "metadata": {
        "id": "g9BjhTK-KbyX"
      },
      "source": [
        "**Question 2.** Was this an observational study or a randomized controlled experiment? Assign either 1, 2, or 3 to the name `jobs_q2` below.\n",
        "\n",
        "1. This was an observational study.\n",
        "\n",
        "2. This was a randomized controlled experiment.  \n",
        "\n",
        "3. This was a randomized observational study."
      ]
    },
    {
      "cell_type": "code",
      "metadata": {
        "id": "nOBVtwOoKbyX"
      },
      "source": [
        "jobs_q2 = ..."
      ],
      "execution_count": null,
      "outputs": []
    },
    {
      "cell_type": "markdown",
      "metadata": {
        "deletable": false,
        "manual_problem_id": "job_opportunities_3",
        "id": "I2GHEmV7KbyY"
      },
      "source": [
        "**Question 3.** The study reported, “Girls aged 5-15 in villages that received the recruiting services were 3 to 5 percentage points more likely to be in school and experienced an increase in Body Mass Index, reflecting greater nutrition and/or medical care. However, there was no net gain in height. For boys, there was no change in any of these measures.” Why do you think the author points out the lack of change in the boys? Open and edit the cell below to provide your explanation, then run the cell."
      ]
    },
    {
      "cell_type": "markdown",
      "metadata": {
        "id": "ynMIirvFKbyY"
      },
      "source": [
        "*Write your answer here, replacing this text.*"
      ]
    },
    {
      "cell_type": "markdown",
      "metadata": {
        "id": "PtSbna4QKbyZ"
      },
      "source": [
        "## 5. Differences between Universities\n"
      ]
    },
    {
      "cell_type": "markdown",
      "metadata": {
        "id": "SFR11SOcKbyZ"
      },
      "source": [
        "**Question 1.** Suppose you'd like to *quantify* how *dissimilar* two universities are, using three quantitative characteristics.  The US Department of Education data on [UMass](https://collegescorecard.ed.gov/school/?166629-University-of-Massachusetts-Amherst) and [UConn](https://collegescorecard.ed.gov/school/?129020-University-of-Connecticut) describes the following three variables (among many others):\n",
        "\n",
        "| Trait                                | UMass  | Uconn  |\n",
        "|--------------------------------------|--------|--------|\n",
        "| Average annual cost to attend ($)    | 18,869 | 20,023 |\n",
        "| Graduation rate (percentage)         | 77     | 82     |\n",
        "| Socioeconomic Diversity (percentage) | 24     | 21     |\n",
        "\n",
        "You decide to define the dissimilarity between two universities as the **maximum of the absolute values of the 3 differences in these values of these variables**.\n",
        "\n",
        "Using this method, compute the dissimilarity between UMass and UConn.  Name the result `dissimilarity`.  Use a single expression (a single line of code) to compute the answer.  Let Python perform all the arithmetic (like subtracting 82 from 77) rather than simplifying the expression yourself. The built-in `abs` function takes absolute values."
      ]
    },
    {
      "cell_type": "code",
      "metadata": {
        "id": "8MF0zMfSKbyZ"
      },
      "source": [
        "dissimilarity = ...\n",
        "dissimilarity"
      ],
      "execution_count": null,
      "outputs": []
    },
    {
      "cell_type": "markdown",
      "metadata": {
        "id": "cFCtIPOEKbyZ"
      },
      "source": [
        "## 6. Nearsightedness Study\n"
      ]
    },
    {
      "cell_type": "markdown",
      "metadata": {
        "id": "5TrhcGnYKbya"
      },
      "source": [
        "Myopia, or nearsightedness, results from a number of genetic and environmental factors. In 1999, Quinn et al studied the relation between myopia and ambient lighting at night (for example, from nightlights or room lights) during childhood."
      ]
    },
    {
      "cell_type": "markdown",
      "metadata": {
        "deletable": false,
        "manual_problem_id": "nearsightedness_1",
        "id": "5bDZS68jKbya"
      },
      "source": [
        "**Question 1.** The data were gathered by the following procedure, reported in the study. “Between January and June 1998, parents of children aged 2-16 years [...] that were seen as outpatients in a university pediatric ophthalmology clinic completed a questionnaire on the child’s light exposure both at present and before the age of 2 years.” Was this study observational, or was it a controlled experiment? Open and edit the cell below to provide your explanation, then run the cell."
      ]
    },
    {
      "cell_type": "markdown",
      "metadata": {
        "id": "Xzz4ubqKKbya"
      },
      "source": [
        "*Write your answer here, replacing this text.*"
      ]
    },
    {
      "cell_type": "markdown",
      "metadata": {
        "deletable": false,
        "manual_problem_id": "nearsightedness_2",
        "id": "nAhCTKOJKbya"
      },
      "source": [
        "**Question 2.** The study found that of the children who slept with a room light on before the age of 2, 55% were myopic. Of the children who slept with a night light on before the age of 2, 34% were myopic. Of the children who slept in the dark before the age of 2, 10% were myopic. The study concluded that, \"The prevalence of myopia [...] during childhood was strongly associated with ambient light exposure during sleep at night in the first two years after birth.\"\n",
        "\n",
        "Do the data support this statement? You may interpret “strongly” in any reasonable qualitative way. Open and edit the cell below to provide your answer and explanation, then run the cell."
      ]
    },
    {
      "cell_type": "markdown",
      "metadata": {
        "id": "yRvEkSPiKbyb"
      },
      "source": [
        "*Write your answer here, replacing this text.*"
      ]
    },
    {
      "cell_type": "markdown",
      "metadata": {
        "deletable": false,
        "manual_problem_id": "nearsightedness_3",
        "id": "IdLLwHqNKbyb"
      },
      "source": [
        "**Question 3.** On May 13, 1999, CNN reported the results of this study under the headline, “Night light may lead to nearsightedness.” Does the conclusion of the study claim that night light causes nearsightedness? Open and edit the cell below to provide your answer and explanation, then run the cell."
      ]
    },
    {
      "cell_type": "markdown",
      "metadata": {
        "id": "OgW5qwiwKbyb"
      },
      "source": [
        "*Write your answer here, replacing this text.*"
      ]
    },
    {
      "cell_type": "markdown",
      "metadata": {
        "deletable": false,
        "manual_problem_id": "nearsightedness_4",
        "id": "k-GxMIhoKbyc"
      },
      "source": [
        "**Question 4.** The final paragraph of the CNN report said that “several eye specialists” had pointed out that the study should have accounted for heredity.\n",
        "\n",
        "Myopia is passed down from parents to children. It's reasonable to suppose that myopic parents are more likely to leave lights on in their children's rooms than other parents. In what way could this have affected the data? Open and edit the cell below to provide your answer and explanation, then run the cell."
      ]
    },
    {
      "cell_type": "markdown",
      "metadata": {
        "id": "U44wAcYjKbyc"
      },
      "source": [
        "*Write your answer here, replacing this text.*"
      ]
    },
    {
      "cell_type": "markdown",
      "metadata": {
        "id": "2-orW1AmKbyc"
      },
      "source": [
        "## 7. Studying the Survivors\n"
      ]
    },
    {
      "cell_type": "markdown",
      "metadata": {
        "id": "49CTNNeWKbyc"
      },
      "source": [
        "The Reverend Henry Whitehead was skeptical of John Snow’s conclusion about the Broad Street pump. After the Broad Street cholera epidemic ended, Whitehead set about trying to prove Snow wrong.  (The history of the event is detailed [here](http://www.ncbi.nlm.nih.gov/pmc/articles/PMC1034367/pdf/medhist00183-0026.pdf).)\n",
        "\n",
        "He realized that Snow had focused his analysis almost entirely on those who had died. Whitehead, therefore, investigated the drinking habits of people in the Broad Street area who had not died in the outbreak.\n",
        "\n",
        "What is the main reason it was important to study this group?\n",
        "\n",
        "1) If Whitehead had found that many people had drunk water from the Broad Street pump and not caught cholera, that would have been evidence against Snow's hypothesis.\n",
        "\n",
        "2) Survivors could provide additional information about what else could have caused the cholera, potentially unearthing another cause.\n",
        "\n",
        "3) Through considering the survivors, Whitehead could have identified a cure for cholera."
      ]
    },
    {
      "cell_type": "code",
      "metadata": {
        "id": "lgkX5Xr3Kbyd"
      },
      "source": [
        "# Assign survivor_answer to 1, 2, or 3\n",
        "survivor_answer = ..."
      ],
      "execution_count": null,
      "outputs": []
    },
    {
      "cell_type": "markdown",
      "metadata": {
        "id": "edTI66lrKbyd"
      },
      "source": [
        "**Note:** Whitehead ended up finding further proof that the Broad Street pump played the central role in spreading the disease to the people who lived near it. Eventually, he became one of Snow’s greatest defenders."
      ]
    },
    {
      "cell_type": "markdown",
      "metadata": {
        "id": "_l7dA5G5Kbye"
      },
      "source": [
        "## 9. Submission\n"
      ]
    },
    {
      "cell_type": "markdown",
      "metadata": {
        "collapsed": true,
        "id": "WcByzxFaKbyf"
      },
      "source": [
        "Once you're finished, select \"Save and Checkpoint\" in the File menu and then select \"Download as\" from the File menu, choosing \"Notebook\" and then \"PDF\".  Upload the Notebook (.ipynb) into [Gradescope](https://www.gradescope.com/courses/84122) and upload the PDF to Moodle under the HW1 assignment, as discussed in lab. "
      ]
    }
  ]
}