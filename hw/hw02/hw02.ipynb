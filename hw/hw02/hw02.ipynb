{
  "nbformat": 4,
  "nbformat_minor": 0,
  "metadata": {
    "kernelspec": {
      "display_name": "Python 3",
      "language": "python",
      "name": "python3"
    },
    "language_info": {
      "codemirror_mode": {
        "name": "ipython",
        "version": 3
      },
      "file_extension": ".py",
      "mimetype": "text/x-python",
      "name": "python",
      "nbconvert_exporter": "python",
      "pygments_lexer": "ipython3",
      "version": "3.6.4"
    },
    "colab": {
      "name": "hw02.ipynb",
      "provenance": [],
      "collapsed_sections": [
        "GJfoMc55MU-X",
        "bzFBN5qKMU-g",
        "VKo15CR_MU_G",
        "qCV7AvkwMU_M",
        "T_EQZc-bMU_T"
      ]
    }
  },
  "cells": [
    {
      "cell_type": "markdown",
      "metadata": {
        "id": "8tGE4woPMU95"
      },
      "source": [
        "# Homework 2: Arrays and Tables"
      ]
    },
    {
      "cell_type": "markdown",
      "metadata": {
        "id": "2ZDGDd1wMU99"
      },
      "source": [
        "**Reading**: Textbook chapters [4](https://umass-data-science.github.io/190fwebsite/textbook/04/data-types/), [5](https://umass-data-science.github.io/190fwebsite/textbook/05/sequences/), and [6](https://umass-data-science.github.io/190fwebsite/textbook/06/tables/)."
      ]
    },
    {
      "cell_type": "markdown",
      "metadata": {
        "id": "5gOutXcpMU-A"
      },
      "source": [
        "Please complete this notebook by filling in the cells provided. Before you begin, execute the following cell. Each time you start your server, you will need to execute this cell again to load the tests.\n",
        "\n",
        "Homework 2 is due Thursday, 2/25 at 11:59pm. Start early so that you can come to office hours if you're stuck. Check the website for the office hours schedule.\n",
        "\n",
        "Throughout this homework and all future ones, please be sure to not re-assign variables throughout the notebook! For example, if you use `max_temperature` in your answer to one question, do not reassign it later on. "
      ]
    },
    {
      "cell_type": "code",
      "metadata": {
        "id": "q0QXj9NVMU-C"
      },
      "source": [
        "# Don't change this cell; just run it. \n",
        "\n",
        "import numpy as np\n",
        "from datascience import *\n"
      ],
      "execution_count": null,
      "outputs": []
    },
    {
      "cell_type": "markdown",
      "metadata": {
        "id": "AR3im8TQMU-E"
      },
      "source": [
        "## 1. Creating Arrays\n"
      ]
    },
    {
      "cell_type": "markdown",
      "metadata": {
        "id": "V0OQcZlmMU-G"
      },
      "source": [
        "**Question 1.** Make an array called `weird_numbers` containing the following numbers (in the given order):\n",
        "\n",
        "1. -2\n",
        "2. the sine of 1.2\n",
        "3. 3\n",
        "4. 5 to the power of the cosine of 1.2\n",
        "\n",
        "*Hint:* `sin` and `cos` are functions in the `math` module."
      ]
    },
    {
      "cell_type": "code",
      "metadata": {
        "id": "sAfHW3x2MU-H"
      },
      "source": [
        "# Our solution involved one extra line of code before creating\n",
        "# weird_numbers.\n",
        "...\n",
        "weird_numbers = ...\n",
        "weird_numbers"
      ],
      "execution_count": null,
      "outputs": []
    },
    {
      "cell_type": "markdown",
      "metadata": {
        "id": "zwHUI8jdMU-H"
      },
      "source": [
        "**Question 2.** Make an array called `book_title_words` containing the following three strings: \"Eats\", \"Shoots\", and \"and Leaves\"."
      ]
    },
    {
      "cell_type": "code",
      "metadata": {
        "id": "iPg--mcxMU-I"
      },
      "source": [
        "book_title_words = ...\n",
        "book_title_words"
      ],
      "execution_count": null,
      "outputs": []
    },
    {
      "cell_type": "markdown",
      "metadata": {
        "id": "qHZLNbNiMU-L"
      },
      "source": [
        "Strings have a method called `join`.  `join` takes one argument, an array of strings.  It returns a single string.  Specifically, the value of `a_string.join(an_array)` is a single string that's the [concatenation](https://en.wikipedia.org/wiki/Concatenation) (\"putting together\") of all the strings in `an_array`, **except** `a_string` is inserted in between each string\n",
        "\n",
        "**Question 3.** Use the array `book_title_words` and the method `join` to make two strings:\n",
        "\n",
        "1. \"Eats, Shoots, and Leaves\" (call this one `with_commas`)\n",
        "2. \"Eats Shoots and Leaves\" (call this| one `without_commas`)\n",
        "\n",
        "*Hint:* If you're not sure what `join` does, first try just calling, for example, `\"foo\".join(book_title_words)` ."
      ]
    },
    {
      "cell_type": "code",
      "metadata": {
        "id": "HPou9Bx4MU-M"
      },
      "source": [
        "with_commas = ...\n",
        "without_commas = ...\n",
        "\n",
        "# These lines are provided just to print out your answers.\n",
        "print('with_commas:', with_commas)\n",
        "print('without_commas:', without_commas)"
      ],
      "execution_count": null,
      "outputs": []
    },
    {
      "cell_type": "markdown",
      "metadata": {
        "id": "w5sO6MtjMU-P"
      },
      "source": [
        "## 2. Indexing Arrays\n"
      ]
    },
    {
      "cell_type": "markdown",
      "metadata": {
        "id": "X79UaaBMMU-Q"
      },
      "source": [
        "These exercises give you practice accessing individual elements of arrays.  In Python (and in many programming languages), elements are accessed by *index*, so the first element is the element at index 0.  "
      ]
    },
    {
      "cell_type": "markdown",
      "metadata": {
        "id": "G3VB49_CMU-R"
      },
      "source": [
        "**Question 1.** The cell below creates an array of some numbers.  Set `third_element` to the third element of `some_numbers`."
      ]
    },
    {
      "cell_type": "code",
      "metadata": {
        "id": "ytCFH4cBMU-R"
      },
      "source": [
        "some_numbers = make_array(-1, -3, -6, -10, -15)\n",
        "\n",
        "third_element = ...\n",
        "third_element"
      ],
      "execution_count": null,
      "outputs": []
    },
    {
      "cell_type": "markdown",
      "metadata": {
        "id": "7ZkJZVAWMU-T"
      },
      "source": [
        "**Question 2.** The next cell creates a table that displays some information about the elements of `some_numbers` and their order.  Run the cell to see the partially-completed table, then fill in the missing information in the cell (the strings that are currently \"???\") to complete the table."
      ]
    },
    {
      "cell_type": "code",
      "metadata": {
        "id": "TrMVhWb9MU-U"
      },
      "source": [
        "elements_of_some_numbers = Table().with_columns(\n",
        "    \"English name for position\", make_array(\"first\", \"second\", \"???\", \"???\", \"fifth\"),\n",
        "    \"Index\",                     make_array(\"???\", \"1\", \"2\", \"???\", \"4\"),\n",
        "    \"Element\",                   some_numbers)\n",
        "elements_of_some_numbers"
      ],
      "execution_count": null,
      "outputs": []
    },
    {
      "cell_type": "markdown",
      "metadata": {
        "id": "FTKhOYIyMU-U"
      },
      "source": [
        "**Question 3.** You'll sometimes want to find the *last* element of an array.  Suppose an array has 142 elements.  What is the index of its last element?"
      ]
    },
    {
      "cell_type": "code",
      "metadata": {
        "id": "D8Z0-g4qMU-U"
      },
      "source": [
        "index_of_last_element = ..."
      ],
      "execution_count": null,
      "outputs": []
    },
    {
      "cell_type": "markdown",
      "metadata": {
        "id": "uc6Ncx5fMU-V"
      },
      "source": [
        "More often, you don't know the number of elements in an array, its *length*.  (For example, it might be a large dataset you found on the Internet.)  The function `len` takes a single argument, an array, and returns the `len`gth of that array (an integer).\n",
        "\n",
        "**Question 4.** The cell below loads an array called `president_birth_years`.  The last element in that array is the most recent birth year of any deceased president. Assign that year to `most_recent_birth_year`."
      ]
    },
    {
      "cell_type": "code",
      "metadata": {
        "id": "C_XsH4YpMU-W"
      },
      "source": [
        "president_birth_years = Table.read_table(\"president_births.csv\").column('Birth Year')\n",
        "\n",
        "most_recent_birth_year = ...\n",
        "most_recent_birth_year"
      ],
      "execution_count": null,
      "outputs": []
    },
    {
      "cell_type": "markdown",
      "metadata": {
        "id": "GJfoMc55MU-X"
      },
      "source": [
        "## 3. Basic Array Arithmetic\n"
      ]
    },
    {
      "cell_type": "markdown",
      "metadata": {
        "id": "5PBQgnDKMU-X"
      },
      "source": [
        "**Question 1.** Multiply the numbers 42, 4224, 42422424, and -250 by 157.  For this question, **don't** use arrays."
      ]
    },
    {
      "cell_type": "code",
      "metadata": {
        "id": "Mk0YVE1RMU-Y"
      },
      "source": [
        "first_product = ...\n",
        "second_product = ...\n",
        "third_product = ...\n",
        "fourth_product = ...\n",
        "print(first_product, second_product, third_product, fourth_product)"
      ],
      "execution_count": null,
      "outputs": []
    },
    {
      "cell_type": "markdown",
      "metadata": {
        "id": "-MMslqTjMU-Y"
      },
      "source": [
        "**Question 2.** Now, do the same calculation, but using an array called `numbers` and only a single multiplication (`*`) operator.  Store the 4 results in an array named `products`."
      ]
    },
    {
      "cell_type": "code",
      "metadata": {
        "id": "ESOZAEBPMU-a"
      },
      "source": [
        "numbers = ...\n",
        "products = ...\n",
        "products"
      ],
      "execution_count": null,
      "outputs": []
    },
    {
      "cell_type": "markdown",
      "metadata": {
        "id": "23m0VkPWMU-c"
      },
      "source": [
        "**Question 3.** Oops, we made a typo!  Instead of 157, we wanted to multiply each number by 1577.  Compute the fixed products in the cell below using array arithmetic.  Notice that your job is really easy if you previously defined an array containing the 4 numbers."
      ]
    },
    {
      "cell_type": "code",
      "metadata": {
        "id": "gDYm2jmjMU-e"
      },
      "source": [
        "fixed_products = ...\n",
        "fixed_products"
      ],
      "execution_count": null,
      "outputs": []
    },
    {
      "cell_type": "markdown",
      "metadata": {
        "id": "C0WN-5XZMU-f"
      },
      "source": [
        "**Question 4.** We've loaded an array of temperatures in the next cell.  Each number is the highest temperature observed on a day at a climate observation station, mostly from the US.  Since they're from the US government agency NOAA, all the temperatures are in Fahrenheit.  Convert them all to Celsius by first subtracting 32 from them, then multiplying the results by $\\frac{5}{9}$. Round each result to the nearest integer using the `np.round` function."
      ]
    },
    {
      "cell_type": "code",
      "metadata": {
        "id": "rt5oU3XcMU-g"
      },
      "source": [
        "max_temperatures = Table.read_table(\"temperatures.csv\").column(\"Daily Max Temperature\")\n",
        "\n",
        "celsius_max_temperatures = ...\n",
        "celsius_max_temperatures"
      ],
      "execution_count": null,
      "outputs": []
    },
    {
      "cell_type": "markdown",
      "metadata": {
        "id": "x9pSs2DlMU-g"
      },
      "source": [
        "**Question 5.** The cell below loads all the *lowest* temperatures from each day (in Fahrenheit).  Compute the size of the daily temperature range for each day.  That is, compute the difference between each daily maximum temperature and the corresponding daily minimum temperature.  **Give your answer in Celsius!**"
      ]
    },
    {
      "cell_type": "code",
      "metadata": {
        "id": "W64nO5AOMU-g"
      },
      "source": [
        "min_temperatures = Table.read_table(\"temperatures.csv\").column(\"Daily Min Temperature\")\n",
        "\n",
        "celsius_temperature_ranges = ...\n",
        "celsius_temperature_ranges"
      ],
      "execution_count": null,
      "outputs": []
    },
    {
      "cell_type": "markdown",
      "metadata": {
        "id": "bzFBN5qKMU-g"
      },
      "source": [
        "## 4. World Population\n"
      ]
    },
    {
      "cell_type": "markdown",
      "metadata": {
        "collapsed": true,
        "id": "rKWRvJ0eMU-g"
      },
      "source": [
        "The cell below loads a table of estimates of the world population for different years, starting in 1950. The estimates come from the US Census Bureau website."
      ]
    },
    {
      "cell_type": "code",
      "metadata": {
        "id": "nVflQmHqMU-h"
      },
      "source": [
        "world = Table.read_table(\"world_population.csv\").select('Year', 'Population')\n",
        "world.show(4)"
      ],
      "execution_count": null,
      "outputs": []
    },
    {
      "cell_type": "markdown",
      "metadata": {
        "id": "G3hPYnrNMU-h"
      },
      "source": [
        "The name `population` is assigned to an array of population estimates."
      ]
    },
    {
      "cell_type": "code",
      "metadata": {
        "id": "b-P9scYUMU-h"
      },
      "source": [
        "population = world.column(1)\n",
        "population"
      ],
      "execution_count": null,
      "outputs": []
    },
    {
      "cell_type": "markdown",
      "metadata": {
        "id": "dzDXGoRAMU-j"
      },
      "source": [
        "In this question, you will apply some built-in Numpy functions to this array."
      ]
    },
    {
      "cell_type": "markdown",
      "metadata": {
        "id": "ryoSG9dFMU-j"
      },
      "source": [
        "<img src=\"array_diff.png\" style=\"width: 600px;\"/>\n",
        "\n",
        "The difference function `np.diff` subtracts each element in an array by the element that preceeds it. As a result, the length of the array `np.diff` returns will always be one less than the length of the input array."
      ]
    },
    {
      "cell_type": "markdown",
      "metadata": {
        "id": "vAY3XODgMU-j"
      },
      "source": [
        "<img src=\"array_cumsum.png\" style=\"width: 700px;\"/>\n",
        "\n",
        "The cumulative sum function `np.cumsum` outputs an array of partial sums. For example, the third element in the output array corresponds to the sum of the first, second, and third elements."
      ]
    },
    {
      "cell_type": "markdown",
      "metadata": {
        "id": "hp97RGM9MU-l"
      },
      "source": [
        "**Question 1.** Very often in data science, we are interested understanding how values change with time. Use `np.diff` and `np.max` (or just `max`) to calculate the largest annual change in population between any two consecutive years."
      ]
    },
    {
      "cell_type": "code",
      "metadata": {
        "id": "tpNGia6qMU-l"
      },
      "source": [
        "largest_population_change = ...\n",
        "largest_population_change"
      ],
      "execution_count": null,
      "outputs": []
    },
    {
      "cell_type": "markdown",
      "metadata": {
        "id": "GLBdDexqMU-m"
      },
      "source": [
        "**Question 2.** Describe in words the result of the following expression. What do the values in the resulting array represent (choose one)?"
      ]
    },
    {
      "cell_type": "code",
      "metadata": {
        "id": "oDRHcE2JMU-n"
      },
      "source": [
        "np.cumsum(np.diff(population))"
      ],
      "execution_count": null,
      "outputs": []
    },
    {
      "cell_type": "markdown",
      "metadata": {
        "id": "kk5335nzMU-o"
      },
      "source": [
        "1) The total population change between consecutive years, starting at 1951.\n",
        "\n",
        "2) The total population change between 1950 and each later year, starting at 1951.\n",
        "\n",
        "3) The total population change between consecutive years and 1950, starting at 1951."
      ]
    },
    {
      "cell_type": "code",
      "metadata": {
        "id": "I0A17HRWMU-o"
      },
      "source": [
        "# Assign cumulative_sum_answer to 1, 2, or 3\n",
        "cumulative_sum_answer = ..."
      ],
      "execution_count": null,
      "outputs": []
    },
    {
      "cell_type": "markdown",
      "metadata": {
        "id": "VKo15CR_MU_G"
      },
      "source": [
        "## 5. Old Faithful\n"
      ]
    },
    {
      "cell_type": "markdown",
      "metadata": {
        "id": "JiEojsohMU_G"
      },
      "source": [
        "**Important**: In this question, the `ok` tests don't tell you whether or not your answer is correct. They only check that your answer is close. However, when the question is graded, we will check for the correct answer. Therefore, you should do your best to submit answers that not only pass the tests, but are also correct.\n",
        "\n",
        "Old Faithful is a geyser in Yellowstone that erupts every 44 to 125 minutes (according to [Wikipedia](https://en.wikipedia.org/wiki/Old_Faithful)). People are [often told that the geyser erupts every hour](http://yellowstone.net/geysers/old-faithful/), but in fact the waiting time between eruptions is more variable. Let's take a look."
      ]
    },
    {
      "cell_type": "markdown",
      "metadata": {
        "id": "RD34kED1MU_H"
      },
      "source": [
        "**Question 1.** The first line below assigns `waiting_times` to an array of 272 consecutive waiting times between eruptions, taken from a classic 1938 dataset. Assign the names `shortest`, `longest`, and `average` so that the `print` statement is correct."
      ]
    },
    {
      "cell_type": "code",
      "metadata": {
        "id": "XbVgCZ_nMU_H"
      },
      "source": [
        "waiting_times = Table.read_table('old_faithful.csv').column('waiting')\n",
        "\n",
        "shortest = ...\n",
        "longest = ...\n",
        "average = ...\n",
        "\n",
        "print(\"Old Faithful erupts every\", shortest, \"to\", longest, \"minutes and every\", average, \"minutes on average.\")"
      ],
      "execution_count": null,
      "outputs": []
    },
    {
      "cell_type": "markdown",
      "metadata": {
        "id": "YRkqWM0SMU_J"
      },
      "source": [
        "**Question 2.** Assign `biggest_decrease` to the biggest decrease in waiting time between two consecutive eruptions. For example, the third eruption occurred after 74 minutes and the fourth after 62 minutes, so the decrease in waiting time was 74 - 62 = 12 minutes. *Hint*: You'll need an array arithmetic function [mentioned in the textbook](https://umass-data-science.github.io/190fwebsite/textbook/05/1/arrays/)."
      ]
    },
    {
      "cell_type": "code",
      "metadata": {
        "id": "w_DPV4h_MU_K"
      },
      "source": [
        "biggest_decrease = ...\n",
        "biggest_decrease"
      ],
      "execution_count": null,
      "outputs": []
    },
    {
      "cell_type": "markdown",
      "metadata": {
        "id": "XZNRcb_sMU_K"
      },
      "source": [
        "**Question 3.** If you expected Old Faithful to erupt every hour, you would expect to wait a total of `60 * k` minutes to see `k` eruptions. Set `difference_from_expected` to an array with 272 elements, where the element at index `i` is the absolute difference between the expected and actual total amount of waiting time to see the first `i+1` eruptions.  *Hint*: You'll need to compare a cumulative sum to a range.\n",
        "\n",
        "For example, since the first three waiting times are 79, 54, and 74, the total waiting time for 3 eruptions is 79 + 54 + 74 = 207. The expected waiting time for 3 eruptions is 60 * 3 = 180. Therefore, `difference_from_expected.item(2)` should be $|207 - 180| = 27$."
      ]
    },
    {
      "cell_type": "code",
      "metadata": {
        "id": "ePhqUqR6MU_L"
      },
      "source": [
        "difference_from_expected = ...\n",
        "difference_from_expected"
      ],
      "execution_count": null,
      "outputs": []
    },
    {
      "cell_type": "markdown",
      "metadata": {
        "id": "52pgXXjCMU_L"
      },
      "source": [
        "**Question 4.** If instead you guess that each waiting time will be the same as the previous waiting time, how many minutes would your guess differ from the actual time, averaging over every wait time except the first one.\n",
        "\n",
        "For example, since the first three waiting times are 79, 54, and 74, the average difference between your guess and the actual time for just the second and third eruption would be $\\frac{|79-54|+ |54-74|}{2} = 22.5$."
      ]
    },
    {
      "cell_type": "code",
      "metadata": {
        "id": "JlBHeWkNMU_M"
      },
      "source": [
        "average_error = ...\n",
        "average_error"
      ],
      "execution_count": null,
      "outputs": []
    },
    {
      "cell_type": "markdown",
      "metadata": {
        "id": "qCV7AvkwMU_M"
      },
      "source": [
        "## 6. Tables\n"
      ]
    },
    {
      "cell_type": "markdown",
      "metadata": {
        "id": "1WhrKq-7MU_N"
      },
      "source": [
        "**Question 1.** Suppose you have 4 apples, 3 oranges, and 3 pineapples.  (Perhaps you're using Python to solve a high school Algebra problem.)  Create a table that contains this information.  It should have two columns: \"fruit name\" and \"count\".  Give it the name `fruits`.\n",
        "\n",
        "**Note:** Use lower-case and singular words for the name of each fruit, like `\"apple\"`."
      ]
    },
    {
      "cell_type": "code",
      "metadata": {
        "id": "H2qTfmHcMU_O"
      },
      "source": [
        "# Our solution uses 1 statement split over 3 lines.\n",
        "fruits = ...\n",
        "        ...\n",
        "        ...\n",
        "fruits"
      ],
      "execution_count": null,
      "outputs": []
    },
    {
      "cell_type": "markdown",
      "metadata": {
        "id": "WKNfv5QqMU_O"
      },
      "source": [
        "**Question 2.** The file `inventory.csv` contains information about the inventory at a fruit stand.  Each row represents the contents of one box of fruit.  Load it as a table named `inventory`."
      ]
    },
    {
      "cell_type": "code",
      "metadata": {
        "id": "h5egaucqMU_P"
      },
      "source": [
        "inventory = ...\n",
        "inventory"
      ],
      "execution_count": null,
      "outputs": []
    },
    {
      "cell_type": "markdown",
      "metadata": {
        "id": "5IbqzmZBMU_P"
      },
      "source": [
        "**Question 3.** Does each box at the fruit stand contain a different fruit?"
      ]
    },
    {
      "cell_type": "code",
      "metadata": {
        "id": "NdYfdP7XMU_P"
      },
      "source": [
        "# Set all_different to \"Yes\" if each box contains a different fruit or to \"No\" if multiple boxes contain the same fruit\n",
        "all_different = ...\n",
        "all_different"
      ],
      "execution_count": null,
      "outputs": []
    },
    {
      "cell_type": "markdown",
      "metadata": {
        "id": "u-R-bg_nMU_Q"
      },
      "source": [
        "**Question 4.** The file `sales.csv` contains the number of fruit sold from each box last Saturday.  It has an extra column called \"price per fruit (\\$)\" that's the price *per item of fruit* for fruit in that box.  The rows are in the same order as the `inventory` table.  Load these data into a table called `sales`."
      ]
    },
    {
      "cell_type": "code",
      "metadata": {
        "id": "hpcTo_aPMU_Q"
      },
      "source": [
        "sales = ...\n",
        "sales"
      ],
      "execution_count": null,
      "outputs": []
    },
    {
      "cell_type": "markdown",
      "metadata": {
        "id": "DFHDCR_TMU_R"
      },
      "source": [
        "**Question 5.** How many fruits did the store sell in total on that day?"
      ]
    },
    {
      "cell_type": "code",
      "metadata": {
        "id": "pHBoTlpgMU_R"
      },
      "source": [
        "total_fruits_sold = ...\n",
        "total_fruits_sold"
      ],
      "execution_count": null,
      "outputs": []
    },
    {
      "cell_type": "markdown",
      "metadata": {
        "id": "CnhXg7GEMU_R"
      },
      "source": [
        "**Question 6.** What was the store's total revenue (the total price of all fruits sold) on that day?\n",
        "\n",
        "*Hint:* If you're stuck, think first about how you would compute the total revenue from just the grape sales."
      ]
    },
    {
      "cell_type": "code",
      "metadata": {
        "id": "uaLqHW6qMU_R"
      },
      "source": [
        "total_revenue = ...\n",
        "total_revenue"
      ],
      "execution_count": null,
      "outputs": []
    },
    {
      "cell_type": "markdown",
      "metadata": {
        "id": "Lptl0iwzMU_S"
      },
      "source": [
        "**Question 7.** Make a new table called `remaining_inventory`.  It should have the same rows and columns as `inventory`, except that the amount of fruit sold from each box should be subtracted from that box's count, so that the \"count\" is the amount of fruit remaining after Saturday."
      ]
    },
    {
      "cell_type": "code",
      "metadata": {
        "id": "0ox4VwBoMU_T"
      },
      "source": [
        "remaining_inventory = ...\n",
        "    ...\n",
        "    ...\n",
        "    ...\n",
        "remaining_inventory"
      ],
      "execution_count": null,
      "outputs": []
    },
    {
      "cell_type": "markdown",
      "metadata": {
        "id": "T_EQZc-bMU_T"
      },
      "source": [
        "## 7. Submission\n"
      ]
    },
    {
      "cell_type": "markdown",
      "metadata": {
        "collapsed": true,
        "id": "E0DviJ-BMU_T"
      },
      "source": [
        "Once you're finished, select \"Save and Checkpoint\" in the File menu and then select \"Download as\" from the File menu, choosing \"Notebook\" and then \"PDF\".  Upload the Notebook (.ipynb) into [Gradescope](https://www.gradescope.com/courses/84122) and upload the PDF to Moodle under the HW2 assignment, as discussed in lab. "
      ]
    }
  ]
}