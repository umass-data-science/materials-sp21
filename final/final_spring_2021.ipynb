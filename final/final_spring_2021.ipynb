{
  "nbformat": 4,
  "nbformat_minor": 0,
  "metadata": {
    "colab": {
      "name": "final_spring_2021.ipynb",
      "provenance": [],
      "collapsed_sections": []
    },
    "kernelspec": {
      "display_name": "Python 3",
      "language": "python",
      "name": "python3"
    },
    "language_info": {
      "codemirror_mode": {
        "name": "ipython",
        "version": 3
      },
      "file_extension": ".py",
      "mimetype": "text/x-python",
      "name": "python",
      "nbconvert_exporter": "python",
      "pygments_lexer": "ipython3",
      "version": "3.7.6"
    }
  },
  "cells": [
    {
      "cell_type": "markdown",
      "metadata": {
        "id": "vpEmiTYfnvr6"
      },
      "source": [
        "# Final Exam Spring 2021\n",
        "\n",
        "**Instructions**\n",
        "\n",
        "The exam should be turned in as an **.ipynb** file on Moodle by 4:10pm eastern on Tuesday May $11^{th}$. (Exam time is 2-4pm, and we have extra 10 mininutes for submission.)  Late exams will only be accepted at the instructor's discretion.  If you miss the submission window you will need to email me the exam.\n",
        "\n",
        "Answer each question using only one cell.  You may create a copy of this notebook and open additional cells for testing, but when you turn in the exam, please only have one cell per question.  Partial credit will be given.  It is easier to give partial credit if you comment your code to say what each line is doing, or trying to do.  If you can't solve a problem fully, try solving part of it for partial credit.\n",
        "\n",
        "**Do not import additional libraries.  Use only the libraries already included below.**\n",
        "\n",
        "The solutions should be displayed in the notebook.  Each question requires only one thing to be displayed.  You don't need to display any intermediate steps you may have taken.\n",
        "\n",
        "Each question is worth the same number of points."
      ]
    },
    {
      "cell_type": "markdown",
      "metadata": {
        "id": "xsIroC3nnvsF"
      },
      "source": [
        "## 1. Setup\n",
        "Run the two cells below to load the packages and data necessary for this exam.\n",
        "\n",
        "The dataset `diamonds` contains data on 500 diamonds.  A row of table is a single diamond.\n",
        "\n",
        "    carat = The weight of the diamond in carats\n",
        "    color = a letter signifying the color of the diamond\n",
        "    price = the price of the diamond in dollars"
      ]
    },
    {
      "cell_type": "code",
      "metadata": {
        "id": "Pvq4jQqGnvsH"
      },
      "source": [
        "from datascience import *\n",
        "import numpy as np\n",
        "import matplotlib\n",
        "%matplotlib inline"
      ],
      "execution_count": null,
      "outputs": []
    },
    {
      "cell_type": "code",
      "metadata": {
        "id": "iHft61W6nvsI"
      },
      "source": [
        "diamonds = Table.read_table(\"diamonds1.csv\")\n",
        "diamonds"
      ],
      "execution_count": null,
      "outputs": []
    },
    {
      "cell_type": "markdown",
      "metadata": {
        "id": "yvuMUo-2nvsL"
      },
      "source": [
        "**Question 1:** Create a table that contains the average price of each ```color``` of diamond.  Column names for this table should be ```color``` and ``average_price``. Assign this table to `q1`."
      ]
    },
    {
      "cell_type": "code",
      "metadata": {
        "id": "0rBDlRd0a7Rs"
      },
      "source": [
        "q1 = ...\n",
        "q1"
      ],
      "execution_count": null,
      "outputs": []
    },
    {
      "cell_type": "markdown",
      "metadata": {
        "id": "5TU_pbHgnvsO"
      },
      "source": [
        "**Question 2:** Create a table that contains only diamonds of color H, and price greater than 4000. Assign this table to `q2`."
      ]
    },
    {
      "cell_type": "code",
      "metadata": {
        "id": "Ff44TOtva7Rv"
      },
      "source": [
        "q2 = ...\n",
        "q2"
      ],
      "execution_count": null,
      "outputs": []
    },
    {
      "cell_type": "markdown",
      "metadata": {
        "id": "ukOXG9ZsnvsR"
      },
      "source": [
        "**Question 3:** Assume this is a random sample of diamond prices in the New York diamond market.  Calculate an 95% confidence interval for the population mean of all diamond prices in the New York diamond market.  \n",
        "\n",
        "You should calculate this using the **bootstrap with 1000 repetitions**.  Assign this confidence interval to `q3`."
      ]
    },
    {
      "cell_type": "code",
      "metadata": {
        "id": "KY1Xgl15a7Ry"
      },
      "source": [
        ""
      ],
      "execution_count": null,
      "outputs": []
    },
    {
      "cell_type": "markdown",
      "metadata": {
        "id": "d2VMlqQunvsU"
      },
      "source": [
        "**Question 4:** Suppose the following array called `model_predictions` contains predictions of diamond prices from a model.  The first element of the `model_predictions` array corresponds to the first diamond in the data and so on.  \n",
        "\n",
        "What is the residual of the first diamond in the data? Assign this value to `q4`.  "
      ]
    },
    {
      "cell_type": "code",
      "metadata": {
        "id": "kovSF9wta7R1"
      },
      "source": [
        "#run this cell, but do not change it!!\n",
        "np.random.seed(1234)\n",
        "model_predictions = np.random.rand(500)*2000"
      ],
      "execution_count": null,
      "outputs": []
    },
    {
      "cell_type": "code",
      "metadata": {
        "id": "JxGagMtma7R2"
      },
      "source": [
        "q4 = ...\n",
        "q4"
      ],
      "execution_count": null,
      "outputs": []
    },
    {
      "cell_type": "markdown",
      "metadata": {
        "id": "QeBm86yvOH_3"
      },
      "source": [
        "**Question 5:** Continued from question 4.\n",
        "\n",
        "What is the root mean squared error of the model? Assign this value to `q5`."
      ]
    },
    {
      "cell_type": "code",
      "metadata": {
        "id": "KIdW7zVVa7R4"
      },
      "source": [
        "q5 = ...\n",
        "q5"
      ],
      "execution_count": null,
      "outputs": []
    },
    {
      "cell_type": "markdown",
      "metadata": {
        "id": "uw1BfoRUnvsb"
      },
      "source": [
        "**Question 6:** Consider only the diamond price and carat weight.  Build a regression model that predicts the price given the carat weight.  What is the predicted model price on a diamond with a weight of 2 carats?  \n",
        "\n",
        "Your solution should be in the form of a function that takes a carat weight as an argument and outputs a predicted price. Assign this value to `q6`.\n",
        "\n",
        "**Do NOT use the minimize function in your code**"
      ]
    },
    {
      "cell_type": "code",
      "metadata": {
        "id": "8NzFdvd_a7R6"
      },
      "source": [
        "q6 = ...\n",
        "q6"
      ],
      "execution_count": null,
      "outputs": []
    },
    {
      "cell_type": "markdown",
      "metadata": {
        "id": "4bVRg-xpnvsd"
      },
      "source": [
        "**Question 7:** Again consider only price and carat weight.  What is the distance between the first diamond in the dataset and the second diamond in the dataset. Assign this value to `q7`.\n"
      ]
    },
    {
      "cell_type": "code",
      "metadata": {
        "id": "vSlWAybta7R8"
      },
      "source": [
        "q7 = ...\n",
        "q7"
      ],
      "execution_count": null,
      "outputs": []
    },
    {
      "cell_type": "markdown",
      "metadata": {
        "id": "mZoo4LiebOLc"
      },
      "source": [
        "**Question 8:** Again consider only price and carat weight.  Generate a table that contains the weight and price of the 5 nearest neighbors of a new row, named `a_diamond`.\n",
        "\n",
        "Assign this table to `q8`."
      ]
    },
    {
      "cell_type": "code",
      "metadata": {
        "id": "wNmECRcIbRXp"
      },
      "source": [
        "#Just run this cell, do not edit it\n",
        "a_diamond = Table().with_columns('carat', .82, 'price', 3100).row(0)\n",
        "a_diamond"
      ],
      "execution_count": null,
      "outputs": []
    },
    {
      "cell_type": "code",
      "metadata": {
        "id": "6OIN2h36a7R9"
      },
      "source": [
        "q8 = ...\n",
        "q8"
      ],
      "execution_count": null,
      "outputs": []
    }
  ]
}